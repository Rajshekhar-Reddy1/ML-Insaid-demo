{
 "cells": [
  {
   "cell_type": "markdown",
   "metadata": {
    "id": "fzu3Se5kE4M1"
   },
   "source": [
    "<center><img src=\"https://github.com/insaid2018/Term-1/blob/master/Images/INSAID_Full%20Logo.png?raw=true\" width=\"240\" height=\"100\" /></center>\n",
    "\n",
    "# <center><b>Ensemble Learning - Part II<b></center>"
   ]
  },
  {
   "cell_type": "markdown",
   "metadata": {
    "id": "QDP5a6srE-e6"
   },
   "source": [
    "---\n",
    "# **Table of Contents**\n",
    "---\n",
    "\n",
    "**1.** [**Introduction**](#Section1)<br>\n",
    "**2.** [**Problem Statement**](#Section2)<br>\n",
    "**3.** [**Installing & Importing Libraries**](#Section3)<br>\n",
    "  - **3.1** [**Installing Libraries**](#Section31)\n",
    "  - **3.2** [**Upgrading Libraries**](#Section32)\n",
    "  - **3.3** [**Importing Libraries**](#Section33)\n",
    "\n",
    "**4.** [**Data Acquisition & Description**](#Section4)<br>\n",
    "  - **4.1** [**Data Description**](#Section41)\n",
    "  - **4.2** [**Data Information**](#Section42)\n",
    "\n",
    "**5.** [**Data Pre-processing**](#Section5)<br>\n",
    "  - **5.1** [**Pre-Profiling Report**](#Section51)<br>\n",
    "\n",
    "**6.** [**Post Data Processing & Feature Selection**](#Section6)<br>\n",
    "  - **6.1** [**Feature Encoding**](#Section61)<br>\n",
    "  - **6.2** [**Feature Selection**](#Section62)<br>\n",
    "  - **6.3** [**Data Preparation**](#Section63)<br>\n",
    "\n",
    "**8.** [**Model Development & Evaluation**](#Section8)<br>\n",
    "**9.** [**Conclusion**](#Section9)<br>"
   ]
  },
  {
   "cell_type": "markdown",
   "metadata": {
    "id": "wvoZ-VFcJZrd"
   },
   "source": [
    "---\n",
    "<a name = Section1></a>\n",
    "# **1. Introduction**\n",
    "---\n",
    "\n",
    "- **Stacked generalization** is a method for **combining estimators** to **reduce** their **biases**.\n",
    "\n",
    "- It **harnesses** the **capabilities** of a range of well-performing **models** on a classification or regression task.\n",
    "\n",
    "<center><img src='https://raw.githubusercontent.com/insaid2018/Term-3/master/Images/16083537046041326.png'></center>\n",
    "\n",
    "- The **predictions** of each **individual estimator** are **stacked** together and used as input to a final estimator to compute the prediction. \n",
    "\n",
    "- The benifit of stacking is that they have **better performance** than any single model in the ensemble.\n",
    "\n",
    "</br>\n",
    "\n",
    "**<center><h3>Structural Diagram of Ensemble Techniques</h3></center>**\n",
    "<center><img src=\"https://raw.githubusercontent.com/insaid2018/Term-3/master/Images/ensemble-learning-types-part-2-updated.png\"></center>"
   ]
  },
  {
   "cell_type": "markdown",
   "metadata": {
    "id": "KYz4Oh4_9NF7"
   },
   "source": [
    "---\n",
    "<a name = Section2></a>\n",
    "# **2. Problem Statement**\n",
    "---\n",
    "\n",
    "<center><img src=\"https://www.reno.gov/Home/ShowImage?id=7739&t=635620964226970000\"></center>\n",
    "\n",
    "**<h4>Scenario:</h4>**\n",
    "\n",
    "- **Property Hall** is a Canadian **real estate** company that facilitates  a transaction between the buyers and sellers of property.\n",
    "\n",
    "- The company's **revenue** is **down** for the past three months and they want to identify its root cause.\n",
    "\n",
    "- They are looking for an **automatic way** to detect **unusual behavior** in their revenue.\n",
    "\n",
    "- The company already has **access** to the **data** of **houses** in the city of Windsor.\n",
    "\n",
    "- To identify unusual behavior, they have hired a team of data scientists. **Consider you are one of them...**"
   ]
  },
  {
   "cell_type": "markdown",
   "metadata": {
    "id": "uQNzD3KZ9RVX"
   },
   "source": [
    "---\n",
    "<a name = Section3></a>\n",
    "# **3. Installing & Importing Libraries**\n",
    "---"
   ]
  },
  {
   "cell_type": "markdown",
   "metadata": {
    "id": "kIlSjMer9T_n"
   },
   "source": [
    "<a name = Section31></a>\n",
    "### **3.1 Installing Libraries**"
   ]
  },
  {
   "cell_type": "code",
   "execution_count": null,
   "metadata": {
    "colab": {
     "base_uri": "https://localhost:8080/"
    },
    "executionInfo": {
     "elapsed": 12128,
     "status": "ok",
     "timestamp": 1608444191231,
     "user": {
      "displayName": "Mukesh Kumar",
      "photoUrl": "https://lh3.googleusercontent.com/a-/AOh14GjTZH-ccUwdv--s75Iw1qfyi7gtUyH2m_-htD2e=s64",
      "userId": "01238672520445611335"
     },
     "user_tz": -330
    },
    "id": "EOD5d2c7BA47",
    "outputId": "053c7b57-c6c4-44cc-d05b-32bb1708b0da"
   },
   "outputs": [],
   "source": [
    "# !pip install -q datascience                                         # Package that is required by pandas profiling\n",
    "# !pip install -q pandas-profiling                                    # Library to generate basic statistics about data\n",
    "# !pip install -q yellowbrick                                         # Toolbox for Measuring Machine Performance               "
   ]
  },
  {
   "cell_type": "markdown",
   "metadata": {
    "id": "FIIe92QK9Xfn"
   },
   "source": [
    "<a name = Section32></a>\n",
    "### **3.2 Upgrading Libraries**\n",
    "\n",
    "- **After upgrading** the libraries, you need to **restart the runtime** to make the libraries in sync. \n",
    "\n",
    "- Make sure not to execute the cell above (3.1) and below (3.2) again after restarting the runtime."
   ]
  },
  {
   "cell_type": "code",
   "execution_count": null,
   "metadata": {
    "colab": {
     "base_uri": "https://localhost:8080/"
    },
    "executionInfo": {
     "elapsed": 25193,
     "status": "ok",
     "timestamp": 1608444205837,
     "user": {
      "displayName": "Mukesh Kumar",
      "photoUrl": "https://lh3.googleusercontent.com/a-/AOh14GjTZH-ccUwdv--s75Iw1qfyi7gtUyH2m_-htD2e=s64",
      "userId": "01238672520445611335"
     },
     "user_tz": -330
    },
    "id": "xvwKBekF9XRn",
    "outputId": "5c66e50c-c0ae-4ba9-c75d-3e1bbb0c95dc"
   },
   "outputs": [],
   "source": [
    "# !pip install -q --upgrade pandas-profiling\n",
    "# !pip install -q --upgrade yellowbrick"
   ]
  },
  {
   "cell_type": "markdown",
   "metadata": {
    "id": "TGs1lTJy9b73"
   },
   "source": [
    "<a name = Section33></a>\n",
    "### **3.3 Importing Libraries**"
   ]
  },
  {
   "cell_type": "code",
   "execution_count": 1,
   "metadata": {
    "id": "CP2ppPta9b1P"
   },
   "outputs": [],
   "source": [
    "#-------------------------------------------------------------------------------------------------------------------------------\n",
    "import pandas as pd                                                 # Importing for panel data analysis\n",
    "from pandas_profiling import ProfileReport                          # Import Pandas Profiling (To generate Univariate Analysis) \n",
    "pd.set_option('display.max_columns', None)                          # Unfolding hidden features if the cardinality is high      \n",
    "pd.set_option('display.max_colwidth', None)                         # Unfolding the max feature width for better clearity      \n",
    "pd.set_option('display.max_rows', None)                             # Unfolding hidden data points if the cardinality is high\n",
    "pd.set_option('mode.chained_assignment', None)                      # Removing restriction over chained assignments operations\n",
    "pd.set_option('display.float_format', lambda x: '%.2f' % x)         # To suppress scientific notation over exponential values\n",
    "#-------------------------------------------------------------------------------------------------------------------------------\n",
    "import numpy as np                                                  # Importing package numpys (For Numerical Python)\n",
    "#-------------------------------------------------------------------------------------------------------------------------------\n",
    "import matplotlib.pyplot as plt                                     # Importing pyplot interface using matplotlib                                              \n",
    "import seaborn as sns                                               # Importin seaborm library for interactive visualization\n",
    "%matplotlib inline\n",
    "#-------------------------------------------------------------------------------------------------------------------------------\n",
    "from sklearn.feature_selection import SelectFromModel               # To perform Feature Selection over model\n",
    "from yellowbrick.model_selection import FeatureImportances          # To retrieve Feature Importances over model\n",
    "#-------------------------------------------------------------------------------------------------------------------------------\n",
    "from sklearn.model_selection import train_test_split                # To perform train, test and split over the data\n",
    "from sklearn.svm import SVC                                         # To perform modeling using SVC\n",
    "from sklearn.linear_model import LogisticRegression                 # To perform modeling using LogisticRegression\n",
    "from sklearn.ensemble import RandomForestClassifier                 # To perform modeling using RandomForestClassifier\n",
    "from sklearn.neighbors import KNeighborsClassifier                  # To perform modeling using KNeighborsClassifier\n",
    "from sklearn.ensemble import GradientBoostingClassifier             # To perform modeling using GradientBoostingClassifier\n",
    "from sklearn.ensemble import StackingClassifier                     # To perform modeling using StackingClassifier\n",
    "#-------------------------------------------------------------------------------------------------------------------------------\n",
    "import warnings                                                     # Importing warning to disable runtime warnings\n",
    "warnings.filterwarnings(\"ignore\")                                   # Warnings will appear only once"
   ]
  },
  {
   "cell_type": "markdown",
   "metadata": {
    "id": "74zX2kdI9fB-"
   },
   "source": [
    "---\n",
    "<a name = Section4></a>\n",
    "# **4. Data Acquisition & Description**\n",
    "---\n",
    "\n",
    "- The dataset is based on **real estate** provided by Property Hall and it is accessible <a href=\"https://raw.githubusercontent.com/insaid2018/Term-4/master/Data/Housing.csv\">**here**</a>.\n",
    "\n",
    "| Records | Features | Dataset Size |\n",
    "| :-- | :-- | :-- |\n",
    "| 546 | 12 | 22 KB| \n",
    "\n",
    "</br>\n",
    "\n",
    "| Id | Features | Description |\n",
    "| :-- | :--| :--| \n",
    "|01|**price**|Sale price of a house.|\n",
    "|02|**lotsize**|The lot size of a property in square feet.|\n",
    "|03|**bedrooms**|Number of bedrooms.|\n",
    "|04|**bathrms**|Number of bathrooms.|\n",
    "|05|**stories**|Number of stories excluding basement.|\n",
    "|06|**driveway**|Does the house has a driveway?|\n",
    "|07|**recroom**|Does the house has a recreational room?|\n",
    "|08|**fullbase**|Does the house has a full finished basement?|\n",
    "|09|**gashw**|Does the house uses gas for hot water heating?|\n",
    "|10|**airco**|Does the house has central air conditioning?|\n",
    "|11|**garagepl**|Number of garage places.|\n",
    "|12|**prefarea**|Is the house located in the preferred neighbourhood of the city?|"
   ]
  },
  {
   "cell_type": "code",
   "execution_count": 2,
   "metadata": {
    "colab": {
     "base_uri": "https://localhost:8080/",
     "height": 221
    },
    "executionInfo": {
     "elapsed": 913,
     "status": "ok",
     "timestamp": 1608446958554,
     "user": {
      "displayName": "Mukesh Kumar",
      "photoUrl": "https://lh3.googleusercontent.com/a-/AOh14GjTZH-ccUwdv--s75Iw1qfyi7gtUyH2m_-htD2e=s64",
      "userId": "01238672520445611335"
     },
     "user_tz": -330
    },
    "id": "HV59G2We9e5t",
    "outputId": "e55cbbfa-fcff-4579-b22f-f0d4d110fdb4"
   },
   "outputs": [
    {
     "name": "stdout",
     "output_type": "stream",
     "text": [
      "Data Shape: (546, 12)\n"
     ]
    },
    {
     "data": {
      "text/html": [
       "<div>\n",
       "<style scoped>\n",
       "    .dataframe tbody tr th:only-of-type {\n",
       "        vertical-align: middle;\n",
       "    }\n",
       "\n",
       "    .dataframe tbody tr th {\n",
       "        vertical-align: top;\n",
       "    }\n",
       "\n",
       "    .dataframe thead th {\n",
       "        text-align: right;\n",
       "    }\n",
       "</style>\n",
       "<table border=\"1\" class=\"dataframe\">\n",
       "  <thead>\n",
       "    <tr style=\"text-align: right;\">\n",
       "      <th></th>\n",
       "      <th>price</th>\n",
       "      <th>lotsize</th>\n",
       "      <th>bedrooms</th>\n",
       "      <th>bathrms</th>\n",
       "      <th>stories</th>\n",
       "      <th>driveway</th>\n",
       "      <th>recroom</th>\n",
       "      <th>fullbase</th>\n",
       "      <th>gashw</th>\n",
       "      <th>airco</th>\n",
       "      <th>garagepl</th>\n",
       "      <th>prefarea</th>\n",
       "    </tr>\n",
       "  </thead>\n",
       "  <tbody>\n",
       "    <tr>\n",
       "      <th>0</th>\n",
       "      <td>42000.00</td>\n",
       "      <td>5850</td>\n",
       "      <td>3</td>\n",
       "      <td>1</td>\n",
       "      <td>2</td>\n",
       "      <td>yes</td>\n",
       "      <td>no</td>\n",
       "      <td>yes</td>\n",
       "      <td>no</td>\n",
       "      <td>no</td>\n",
       "      <td>1</td>\n",
       "      <td>no</td>\n",
       "    </tr>\n",
       "    <tr>\n",
       "      <th>1</th>\n",
       "      <td>38500.00</td>\n",
       "      <td>4000</td>\n",
       "      <td>2</td>\n",
       "      <td>1</td>\n",
       "      <td>1</td>\n",
       "      <td>yes</td>\n",
       "      <td>no</td>\n",
       "      <td>no</td>\n",
       "      <td>no</td>\n",
       "      <td>no</td>\n",
       "      <td>0</td>\n",
       "      <td>no</td>\n",
       "    </tr>\n",
       "    <tr>\n",
       "      <th>2</th>\n",
       "      <td>49500.00</td>\n",
       "      <td>3060</td>\n",
       "      <td>3</td>\n",
       "      <td>1</td>\n",
       "      <td>1</td>\n",
       "      <td>yes</td>\n",
       "      <td>no</td>\n",
       "      <td>no</td>\n",
       "      <td>no</td>\n",
       "      <td>no</td>\n",
       "      <td>0</td>\n",
       "      <td>no</td>\n",
       "    </tr>\n",
       "    <tr>\n",
       "      <th>3</th>\n",
       "      <td>60500.00</td>\n",
       "      <td>6650</td>\n",
       "      <td>3</td>\n",
       "      <td>1</td>\n",
       "      <td>2</td>\n",
       "      <td>yes</td>\n",
       "      <td>yes</td>\n",
       "      <td>no</td>\n",
       "      <td>no</td>\n",
       "      <td>no</td>\n",
       "      <td>0</td>\n",
       "      <td>no</td>\n",
       "    </tr>\n",
       "    <tr>\n",
       "      <th>4</th>\n",
       "      <td>61000.00</td>\n",
       "      <td>6360</td>\n",
       "      <td>2</td>\n",
       "      <td>1</td>\n",
       "      <td>1</td>\n",
       "      <td>yes</td>\n",
       "      <td>no</td>\n",
       "      <td>no</td>\n",
       "      <td>no</td>\n",
       "      <td>no</td>\n",
       "      <td>0</td>\n",
       "      <td>no</td>\n",
       "    </tr>\n",
       "  </tbody>\n",
       "</table>\n",
       "</div>"
      ],
      "text/plain": [
       "     price  lotsize  bedrooms  bathrms  stories driveway recroom fullbase  \\\n",
       "0 42000.00     5850         3        1        2      yes      no      yes   \n",
       "1 38500.00     4000         2        1        1      yes      no       no   \n",
       "2 49500.00     3060         3        1        1      yes      no       no   \n",
       "3 60500.00     6650         3        1        2      yes     yes       no   \n",
       "4 61000.00     6360         2        1        1      yes      no       no   \n",
       "\n",
       "  gashw airco  garagepl prefarea  \n",
       "0    no    no         1       no  \n",
       "1    no    no         0       no  \n",
       "2    no    no         0       no  \n",
       "3    no    no         0       no  \n",
       "4    no    no         0       no  "
      ]
     },
     "execution_count": 2,
     "metadata": {},
     "output_type": "execute_result"
    }
   ],
   "source": [
    "data = pd.read_csv(filepath_or_buffer = 'https://raw.githubusercontent.com/insaid2018/Term-4/master/Data/Housing.csv')\n",
    "print('Data Shape:', data.shape)\n",
    "data.head()"
   ]
  },
  {
   "cell_type": "markdown",
   "metadata": {
    "id": "DHGaHtN0-Kmx"
   },
   "source": [
    "<a name = Section41></a>\n",
    "### **4.1 Data Description**\n",
    "\n",
    "- In this section we will get **information about the data** and see some observations."
   ]
  },
  {
   "cell_type": "code",
   "execution_count": 3,
   "metadata": {
    "colab": {
     "base_uri": "https://localhost:8080/",
     "height": 297
    },
    "executionInfo": {
     "elapsed": 1341,
     "status": "ok",
     "timestamp": 1608446959012,
     "user": {
      "displayName": "Mukesh Kumar",
      "photoUrl": "https://lh3.googleusercontent.com/a-/AOh14GjTZH-ccUwdv--s75Iw1qfyi7gtUyH2m_-htD2e=s64",
      "userId": "01238672520445611335"
     },
     "user_tz": -330
    },
    "id": "31ZXKHKr-HwX",
    "outputId": "107452b1-6051-4abb-8b40-786ebbd4db49"
   },
   "outputs": [
    {
     "data": {
      "text/html": [
       "<div>\n",
       "<style scoped>\n",
       "    .dataframe tbody tr th:only-of-type {\n",
       "        vertical-align: middle;\n",
       "    }\n",
       "\n",
       "    .dataframe tbody tr th {\n",
       "        vertical-align: top;\n",
       "    }\n",
       "\n",
       "    .dataframe thead th {\n",
       "        text-align: right;\n",
       "    }\n",
       "</style>\n",
       "<table border=\"1\" class=\"dataframe\">\n",
       "  <thead>\n",
       "    <tr style=\"text-align: right;\">\n",
       "      <th></th>\n",
       "      <th>price</th>\n",
       "      <th>lotsize</th>\n",
       "      <th>bedrooms</th>\n",
       "      <th>bathrms</th>\n",
       "      <th>stories</th>\n",
       "      <th>garagepl</th>\n",
       "    </tr>\n",
       "  </thead>\n",
       "  <tbody>\n",
       "    <tr>\n",
       "      <th>count</th>\n",
       "      <td>546.00</td>\n",
       "      <td>546.00</td>\n",
       "      <td>546.00</td>\n",
       "      <td>546.00</td>\n",
       "      <td>546.00</td>\n",
       "      <td>546.00</td>\n",
       "    </tr>\n",
       "    <tr>\n",
       "      <th>mean</th>\n",
       "      <td>68121.60</td>\n",
       "      <td>5150.27</td>\n",
       "      <td>2.97</td>\n",
       "      <td>1.29</td>\n",
       "      <td>1.81</td>\n",
       "      <td>0.69</td>\n",
       "    </tr>\n",
       "    <tr>\n",
       "      <th>std</th>\n",
       "      <td>26702.67</td>\n",
       "      <td>2168.16</td>\n",
       "      <td>0.74</td>\n",
       "      <td>0.50</td>\n",
       "      <td>0.87</td>\n",
       "      <td>0.86</td>\n",
       "    </tr>\n",
       "    <tr>\n",
       "      <th>min</th>\n",
       "      <td>25000.00</td>\n",
       "      <td>1650.00</td>\n",
       "      <td>1.00</td>\n",
       "      <td>1.00</td>\n",
       "      <td>1.00</td>\n",
       "      <td>0.00</td>\n",
       "    </tr>\n",
       "    <tr>\n",
       "      <th>25%</th>\n",
       "      <td>49125.00</td>\n",
       "      <td>3600.00</td>\n",
       "      <td>2.00</td>\n",
       "      <td>1.00</td>\n",
       "      <td>1.00</td>\n",
       "      <td>0.00</td>\n",
       "    </tr>\n",
       "    <tr>\n",
       "      <th>50%</th>\n",
       "      <td>62000.00</td>\n",
       "      <td>4600.00</td>\n",
       "      <td>3.00</td>\n",
       "      <td>1.00</td>\n",
       "      <td>2.00</td>\n",
       "      <td>0.00</td>\n",
       "    </tr>\n",
       "    <tr>\n",
       "      <th>75%</th>\n",
       "      <td>82000.00</td>\n",
       "      <td>6360.00</td>\n",
       "      <td>3.00</td>\n",
       "      <td>2.00</td>\n",
       "      <td>2.00</td>\n",
       "      <td>1.00</td>\n",
       "    </tr>\n",
       "    <tr>\n",
       "      <th>max</th>\n",
       "      <td>190000.00</td>\n",
       "      <td>16200.00</td>\n",
       "      <td>6.00</td>\n",
       "      <td>4.00</td>\n",
       "      <td>4.00</td>\n",
       "      <td>3.00</td>\n",
       "    </tr>\n",
       "  </tbody>\n",
       "</table>\n",
       "</div>"
      ],
      "text/plain": [
       "          price  lotsize  bedrooms  bathrms  stories  garagepl\n",
       "count    546.00   546.00    546.00   546.00   546.00    546.00\n",
       "mean   68121.60  5150.27      2.97     1.29     1.81      0.69\n",
       "std    26702.67  2168.16      0.74     0.50     0.87      0.86\n",
       "min    25000.00  1650.00      1.00     1.00     1.00      0.00\n",
       "25%    49125.00  3600.00      2.00     1.00     1.00      0.00\n",
       "50%    62000.00  4600.00      3.00     1.00     2.00      0.00\n",
       "75%    82000.00  6360.00      3.00     2.00     2.00      1.00\n",
       "max   190000.00 16200.00      6.00     4.00     4.00      3.00"
      ]
     },
     "execution_count": 3,
     "metadata": {},
     "output_type": "execute_result"
    }
   ],
   "source": [
    "data.describe()"
   ]
  },
  {
   "cell_type": "markdown",
   "metadata": {
    "id": "8wtaA-8eRN-R"
   },
   "source": [
    "**Observation:**\n",
    "\n",
    "- On **average** the **sale price** of the **house** is **$\\$$68121.60**.\n",
    "\n",
    "- **25%** of **houses** have **sale prices <= $\\$$49125** while **50%** and **75%** of houses have **sale price <= $\\$$62000** and **$\\$$82000**.\n",
    "\n",
    "- Similarly, we can get the information for the rest of the features."
   ]
  },
  {
   "cell_type": "markdown",
   "metadata": {
    "id": "NxGLnRHj-NaS"
   },
   "source": [
    "<a name = Section42></a>\n",
    "### **4.2 Data Information**\n",
    "\n",
    "- In this section we will see the **information about the types of features**."
   ]
  },
  {
   "cell_type": "code",
   "execution_count": 4,
   "metadata": {
    "colab": {
     "base_uri": "https://localhost:8080/"
    },
    "executionInfo": {
     "elapsed": 1332,
     "status": "ok",
     "timestamp": 1608446959016,
     "user": {
      "displayName": "Mukesh Kumar",
      "photoUrl": "https://lh3.googleusercontent.com/a-/AOh14GjTZH-ccUwdv--s75Iw1qfyi7gtUyH2m_-htD2e=s64",
      "userId": "01238672520445611335"
     },
     "user_tz": -330
    },
    "id": "hxmmcXy3Qfya",
    "outputId": "05829699-93ef-4630-9e1b-5e67d47e2a2e"
   },
   "outputs": [
    {
     "name": "stdout",
     "output_type": "stream",
     "text": [
      "<class 'pandas.core.frame.DataFrame'>\n",
      "RangeIndex: 546 entries, 0 to 545\n",
      "Data columns (total 12 columns):\n",
      " #   Column    Non-Null Count  Dtype  \n",
      "---  ------    --------------  -----  \n",
      " 0   price     546 non-null    float64\n",
      " 1   lotsize   546 non-null    int64  \n",
      " 2   bedrooms  546 non-null    int64  \n",
      " 3   bathrms   546 non-null    int64  \n",
      " 4   stories   546 non-null    int64  \n",
      " 5   driveway  546 non-null    object \n",
      " 6   recroom   546 non-null    object \n",
      " 7   fullbase  546 non-null    object \n",
      " 8   gashw     546 non-null    object \n",
      " 9   airco     546 non-null    object \n",
      " 10  garagepl  546 non-null    int64  \n",
      " 11  prefarea  546 non-null    object \n",
      "dtypes: float64(1), int64(5), object(6)\n",
      "memory usage: 51.3+ KB\n"
     ]
    }
   ],
   "source": [
    "data.info()"
   ]
  },
  {
   "cell_type": "markdown",
   "metadata": {
    "id": "4hKJEscKQiDp"
   },
   "source": [
    "**Observation:**\n",
    "\n",
    "- We can observer that there is **no null data present**.\n",
    "\n",
    "- Addtionally, all **features** seems to have **correct data type**."
   ]
  },
  {
   "cell_type": "markdown",
   "metadata": {
    "id": "gILJSeZI-QqS"
   },
   "source": [
    "<a name = Section5></a>\n",
    "\n",
    "---\n",
    "# **5. Data Pre-Processing**\n",
    "---"
   ]
  },
  {
   "cell_type": "markdown",
   "metadata": {
    "id": "rVX0c0rC-Sz0"
   },
   "source": [
    "<a name = Section51></a>\n",
    "### **5.1 Pre Profiling Report**\n",
    "\n",
    "- For **quick analysis** pandas profiling is very handy.\n",
    "\n",
    "- Generates profile reports from a pandas DataFrame.\n",
    "\n",
    "- For each column **statistics** are presented in an interactive HTML report."
   ]
  },
  {
   "cell_type": "code",
   "execution_count": null,
   "metadata": {
    "id": "Wu6fKjTJ-IfC"
   },
   "outputs": [],
   "source": [
    "# profile = ProfileReport(df = data)\n",
    "# profile.to_file(output_file = 'Pre Profiling Report.html')\n",
    "# print('Accomplished!')"
   ]
  },
  {
   "cell_type": "code",
   "execution_count": null,
   "metadata": {
    "id": "EqzCJKYZ-IcX"
   },
   "outputs": [],
   "source": [
    "# from google.colab import files                   # Use only if you are using Google Colab, otherwise remove it\n",
    "# files.download('Pre Profiling Report.html')      # Use only if you are using Google Colab, otherwise remove it"
   ]
  },
  {
   "cell_type": "markdown",
   "metadata": {
    "id": "Trz3OJ70Q-rC"
   },
   "source": [
    "**Observation:**\n",
    "\n",
    "- The report shows that there are **12 features** out of which **6 are boolean**, **3 are numerical** and **3 are categorical**.\n",
    "\n",
    "- We can observe that there is **one duplicate** row in our dataset.\n",
    "\n",
    "- You can get the rest of the information from the report."
   ]
  },
  {
   "cell_type": "markdown",
   "metadata": {
    "id": "cpH3TxfXSwnD"
   },
   "source": [
    "**Performing Operations**"
   ]
  },
  {
   "cell_type": "code",
   "execution_count": 5,
   "metadata": {
    "colab": {
     "base_uri": "https://localhost:8080/"
    },
    "executionInfo": {
     "elapsed": 1313,
     "status": "ok",
     "timestamp": 1608446959022,
     "user": {
      "displayName": "Mukesh Kumar",
      "photoUrl": "https://lh3.googleusercontent.com/a-/AOh14GjTZH-ccUwdv--s75Iw1qfyi7gtUyH2m_-htD2e=s64",
      "userId": "01238672520445611335"
     },
     "user_tz": -330
    },
    "id": "JEcEVBVYSyq7",
    "outputId": "fb9a7ecf-a50a-4e2e-a986-da931b96d117"
   },
   "outputs": [
    {
     "name": "stdout",
     "output_type": "stream",
     "text": [
      "Dropping Duplicates Success!\n"
     ]
    }
   ],
   "source": [
    "data.drop_duplicates(inplace=True)\n",
    "print('Dropping Duplicates Success!')"
   ]
  },
  {
   "cell_type": "markdown",
   "metadata": {
    "id": "kKepHV6F-bdN"
   },
   "source": [
    "<a name = Section6></a>\n",
    "\n",
    "---\n",
    "# **6. Post Data Processing & Feature Selection**\n",
    "---\n",
    "\n",
    "- In this section, we will perform **encoding** over **categorical** features and **feed** the result to the **Random Forest** model.\n",
    "\n",
    "- **Random Forest** will then **identify important features** for our model **using some threshold**.\n",
    "\n",
    "- This threshold is **used over** the **information gain** which results in **reduction in impurity**.\n",
    "\n",
    "- And **finally** we will **split** our **data** for the **model development**."
   ]
  },
  {
   "cell_type": "markdown",
   "metadata": {
    "id": "AVl5VfUj1MSB"
   },
   "source": [
    "<a name = Section61></a>\n",
    "### **6.1 Feature Encoding**\n",
    "\n",
    "- In this section, we will perform **transformation** of categorical features to numeric using **get_dummies()**.\n",
    "\n",
    "- We can observe that features such as driveway, recroom,\tfullbase,\tgashw,\tairco, prefarea are having binary values."
   ]
  },
  {
   "cell_type": "code",
   "execution_count": 6,
   "metadata": {
    "colab": {
     "base_uri": "https://localhost:8080/",
     "height": 224
    },
    "executionInfo": {
     "elapsed": 1300,
     "status": "ok",
     "timestamp": 1608446959023,
     "user": {
      "displayName": "Mukesh Kumar",
      "photoUrl": "https://lh3.googleusercontent.com/a-/AOh14GjTZH-ccUwdv--s75Iw1qfyi7gtUyH2m_-htD2e=s64",
      "userId": "01238672520445611335"
     },
     "user_tz": -330
    },
    "id": "EP0Jy-65xtGv",
    "outputId": "db58f0dc-0445-4358-e3d3-50491ec1206b",
    "scrolled": true
   },
   "outputs": [
    {
     "data": {
      "text/html": [
       "<div>\n",
       "<style scoped>\n",
       "    .dataframe tbody tr th:only-of-type {\n",
       "        vertical-align: middle;\n",
       "    }\n",
       "\n",
       "    .dataframe tbody tr th {\n",
       "        vertical-align: top;\n",
       "    }\n",
       "\n",
       "    .dataframe thead th {\n",
       "        text-align: right;\n",
       "    }\n",
       "</style>\n",
       "<table border=\"1\" class=\"dataframe\">\n",
       "  <thead>\n",
       "    <tr style=\"text-align: right;\">\n",
       "      <th></th>\n",
       "      <th>price</th>\n",
       "      <th>lotsize</th>\n",
       "      <th>bedrooms</th>\n",
       "      <th>bathrms</th>\n",
       "      <th>stories</th>\n",
       "      <th>garagepl</th>\n",
       "      <th>driveway_no</th>\n",
       "      <th>driveway_yes</th>\n",
       "      <th>recroom_no</th>\n",
       "      <th>recroom_yes</th>\n",
       "      <th>fullbase_no</th>\n",
       "      <th>fullbase_yes</th>\n",
       "      <th>gashw_no</th>\n",
       "      <th>gashw_yes</th>\n",
       "      <th>airco_no</th>\n",
       "      <th>airco_yes</th>\n",
       "      <th>prefarea_no</th>\n",
       "      <th>prefarea_yes</th>\n",
       "    </tr>\n",
       "  </thead>\n",
       "  <tbody>\n",
       "    <tr>\n",
       "      <th>0</th>\n",
       "      <td>42000.00</td>\n",
       "      <td>5850</td>\n",
       "      <td>3</td>\n",
       "      <td>1</td>\n",
       "      <td>2</td>\n",
       "      <td>1</td>\n",
       "      <td>0</td>\n",
       "      <td>1</td>\n",
       "      <td>1</td>\n",
       "      <td>0</td>\n",
       "      <td>0</td>\n",
       "      <td>1</td>\n",
       "      <td>1</td>\n",
       "      <td>0</td>\n",
       "      <td>1</td>\n",
       "      <td>0</td>\n",
       "      <td>1</td>\n",
       "      <td>0</td>\n",
       "    </tr>\n",
       "    <tr>\n",
       "      <th>1</th>\n",
       "      <td>38500.00</td>\n",
       "      <td>4000</td>\n",
       "      <td>2</td>\n",
       "      <td>1</td>\n",
       "      <td>1</td>\n",
       "      <td>0</td>\n",
       "      <td>0</td>\n",
       "      <td>1</td>\n",
       "      <td>1</td>\n",
       "      <td>0</td>\n",
       "      <td>1</td>\n",
       "      <td>0</td>\n",
       "      <td>1</td>\n",
       "      <td>0</td>\n",
       "      <td>1</td>\n",
       "      <td>0</td>\n",
       "      <td>1</td>\n",
       "      <td>0</td>\n",
       "    </tr>\n",
       "    <tr>\n",
       "      <th>2</th>\n",
       "      <td>49500.00</td>\n",
       "      <td>3060</td>\n",
       "      <td>3</td>\n",
       "      <td>1</td>\n",
       "      <td>1</td>\n",
       "      <td>0</td>\n",
       "      <td>0</td>\n",
       "      <td>1</td>\n",
       "      <td>1</td>\n",
       "      <td>0</td>\n",
       "      <td>1</td>\n",
       "      <td>0</td>\n",
       "      <td>1</td>\n",
       "      <td>0</td>\n",
       "      <td>1</td>\n",
       "      <td>0</td>\n",
       "      <td>1</td>\n",
       "      <td>0</td>\n",
       "    </tr>\n",
       "    <tr>\n",
       "      <th>3</th>\n",
       "      <td>60500.00</td>\n",
       "      <td>6650</td>\n",
       "      <td>3</td>\n",
       "      <td>1</td>\n",
       "      <td>2</td>\n",
       "      <td>0</td>\n",
       "      <td>0</td>\n",
       "      <td>1</td>\n",
       "      <td>0</td>\n",
       "      <td>1</td>\n",
       "      <td>1</td>\n",
       "      <td>0</td>\n",
       "      <td>1</td>\n",
       "      <td>0</td>\n",
       "      <td>1</td>\n",
       "      <td>0</td>\n",
       "      <td>1</td>\n",
       "      <td>0</td>\n",
       "    </tr>\n",
       "    <tr>\n",
       "      <th>4</th>\n",
       "      <td>61000.00</td>\n",
       "      <td>6360</td>\n",
       "      <td>2</td>\n",
       "      <td>1</td>\n",
       "      <td>1</td>\n",
       "      <td>0</td>\n",
       "      <td>0</td>\n",
       "      <td>1</td>\n",
       "      <td>1</td>\n",
       "      <td>0</td>\n",
       "      <td>1</td>\n",
       "      <td>0</td>\n",
       "      <td>1</td>\n",
       "      <td>0</td>\n",
       "      <td>1</td>\n",
       "      <td>0</td>\n",
       "      <td>1</td>\n",
       "      <td>0</td>\n",
       "    </tr>\n",
       "  </tbody>\n",
       "</table>\n",
       "</div>"
      ],
      "text/plain": [
       "     price  lotsize  bedrooms  bathrms  stories  garagepl  driveway_no  \\\n",
       "0 42000.00     5850         3        1        2         1            0   \n",
       "1 38500.00     4000         2        1        1         0            0   \n",
       "2 49500.00     3060         3        1        1         0            0   \n",
       "3 60500.00     6650         3        1        2         0            0   \n",
       "4 61000.00     6360         2        1        1         0            0   \n",
       "\n",
       "   driveway_yes  recroom_no  recroom_yes  fullbase_no  fullbase_yes  gashw_no  \\\n",
       "0             1           1            0            0             1         1   \n",
       "1             1           1            0            1             0         1   \n",
       "2             1           1            0            1             0         1   \n",
       "3             1           0            1            1             0         1   \n",
       "4             1           1            0            1             0         1   \n",
       "\n",
       "   gashw_yes  airco_no  airco_yes  prefarea_no  prefarea_yes  \n",
       "0          0         1          0            1             0  \n",
       "1          0         1          0            1             0  \n",
       "2          0         1          0            1             0  \n",
       "3          0         1          0            1             0  \n",
       "4          0         1          0            1             0  "
      ]
     },
     "execution_count": 6,
     "metadata": {},
     "output_type": "execute_result"
    }
   ],
   "source": [
    "data = pd.get_dummies(data = data, columns = ['driveway', 'recroom', 'fullbase', 'gashw', 'airco', 'prefarea'])\n",
    "data.head()"
   ]
  },
  {
   "cell_type": "code",
   "execution_count": 7,
   "metadata": {},
   "outputs": [
    {
     "data": {
      "text/plain": [
       "18"
      ]
     },
     "execution_count": 7,
     "metadata": {},
     "output_type": "execute_result"
    }
   ],
   "source": [
    "len(data.columns)"
   ]
  },
  {
   "cell_type": "markdown",
   "metadata": {
    "id": "SUp1EAkG6Jyn"
   },
   "source": [
    "- Before diving further, we will **create** a **categorical feature** using the **price** feature.\n",
    "\n",
    "- We will be **performing** **ensemble** methods on **classes** instead of numerical values."
   ]
  },
  {
   "cell_type": "code",
   "execution_count": 8,
   "metadata": {
    "colab": {
     "base_uri": "https://localhost:8080/",
     "height": 292
    },
    "executionInfo": {
     "elapsed": 1284,
     "status": "ok",
     "timestamp": 1608446959023,
     "user": {
      "displayName": "Mukesh Kumar",
      "photoUrl": "https://lh3.googleusercontent.com/a-/AOh14GjTZH-ccUwdv--s75Iw1qfyi7gtUyH2m_-htD2e=s64",
      "userId": "01238672520445611335"
     },
     "user_tz": -330
    },
    "id": "UegAR2GgvaRY",
    "outputId": "711f4541-536d-4e94-9977-c9e413210f0f"
   },
   "outputs": [
    {
     "name": "stdout",
     "output_type": "stream",
     "text": [
      "High      184\n",
      "Low       181\n",
      "Medium    180\n",
      "Name: price_cat, dtype: int64\n"
     ]
    },
    {
     "data": {
      "text/html": [
       "<div>\n",
       "<style scoped>\n",
       "    .dataframe tbody tr th:only-of-type {\n",
       "        vertical-align: middle;\n",
       "    }\n",
       "\n",
       "    .dataframe tbody tr th {\n",
       "        vertical-align: top;\n",
       "    }\n",
       "\n",
       "    .dataframe thead th {\n",
       "        text-align: right;\n",
       "    }\n",
       "</style>\n",
       "<table border=\"1\" class=\"dataframe\">\n",
       "  <thead>\n",
       "    <tr style=\"text-align: right;\">\n",
       "      <th></th>\n",
       "      <th>lotsize</th>\n",
       "      <th>bedrooms</th>\n",
       "      <th>bathrms</th>\n",
       "      <th>stories</th>\n",
       "      <th>garagepl</th>\n",
       "      <th>driveway_no</th>\n",
       "      <th>driveway_yes</th>\n",
       "      <th>recroom_no</th>\n",
       "      <th>recroom_yes</th>\n",
       "      <th>fullbase_no</th>\n",
       "      <th>fullbase_yes</th>\n",
       "      <th>gashw_no</th>\n",
       "      <th>gashw_yes</th>\n",
       "      <th>airco_no</th>\n",
       "      <th>airco_yes</th>\n",
       "      <th>prefarea_no</th>\n",
       "      <th>prefarea_yes</th>\n",
       "      <th>price_cat</th>\n",
       "    </tr>\n",
       "  </thead>\n",
       "  <tbody>\n",
       "    <tr>\n",
       "      <th>0</th>\n",
       "      <td>5850</td>\n",
       "      <td>3</td>\n",
       "      <td>1</td>\n",
       "      <td>2</td>\n",
       "      <td>1</td>\n",
       "      <td>0</td>\n",
       "      <td>1</td>\n",
       "      <td>1</td>\n",
       "      <td>0</td>\n",
       "      <td>0</td>\n",
       "      <td>1</td>\n",
       "      <td>1</td>\n",
       "      <td>0</td>\n",
       "      <td>1</td>\n",
       "      <td>0</td>\n",
       "      <td>1</td>\n",
       "      <td>0</td>\n",
       "      <td>Low</td>\n",
       "    </tr>\n",
       "    <tr>\n",
       "      <th>1</th>\n",
       "      <td>4000</td>\n",
       "      <td>2</td>\n",
       "      <td>1</td>\n",
       "      <td>1</td>\n",
       "      <td>0</td>\n",
       "      <td>0</td>\n",
       "      <td>1</td>\n",
       "      <td>1</td>\n",
       "      <td>0</td>\n",
       "      <td>1</td>\n",
       "      <td>0</td>\n",
       "      <td>1</td>\n",
       "      <td>0</td>\n",
       "      <td>1</td>\n",
       "      <td>0</td>\n",
       "      <td>1</td>\n",
       "      <td>0</td>\n",
       "      <td>Low</td>\n",
       "    </tr>\n",
       "    <tr>\n",
       "      <th>2</th>\n",
       "      <td>3060</td>\n",
       "      <td>3</td>\n",
       "      <td>1</td>\n",
       "      <td>1</td>\n",
       "      <td>0</td>\n",
       "      <td>0</td>\n",
       "      <td>1</td>\n",
       "      <td>1</td>\n",
       "      <td>0</td>\n",
       "      <td>1</td>\n",
       "      <td>0</td>\n",
       "      <td>1</td>\n",
       "      <td>0</td>\n",
       "      <td>1</td>\n",
       "      <td>0</td>\n",
       "      <td>1</td>\n",
       "      <td>0</td>\n",
       "      <td>Low</td>\n",
       "    </tr>\n",
       "    <tr>\n",
       "      <th>3</th>\n",
       "      <td>6650</td>\n",
       "      <td>3</td>\n",
       "      <td>1</td>\n",
       "      <td>2</td>\n",
       "      <td>0</td>\n",
       "      <td>0</td>\n",
       "      <td>1</td>\n",
       "      <td>0</td>\n",
       "      <td>1</td>\n",
       "      <td>1</td>\n",
       "      <td>0</td>\n",
       "      <td>1</td>\n",
       "      <td>0</td>\n",
       "      <td>1</td>\n",
       "      <td>0</td>\n",
       "      <td>1</td>\n",
       "      <td>0</td>\n",
       "      <td>Medium</td>\n",
       "    </tr>\n",
       "    <tr>\n",
       "      <th>4</th>\n",
       "      <td>6360</td>\n",
       "      <td>2</td>\n",
       "      <td>1</td>\n",
       "      <td>1</td>\n",
       "      <td>0</td>\n",
       "      <td>0</td>\n",
       "      <td>1</td>\n",
       "      <td>1</td>\n",
       "      <td>0</td>\n",
       "      <td>1</td>\n",
       "      <td>0</td>\n",
       "      <td>1</td>\n",
       "      <td>0</td>\n",
       "      <td>1</td>\n",
       "      <td>0</td>\n",
       "      <td>1</td>\n",
       "      <td>0</td>\n",
       "      <td>Medium</td>\n",
       "    </tr>\n",
       "  </tbody>\n",
       "</table>\n",
       "</div>"
      ],
      "text/plain": [
       "   lotsize  bedrooms  bathrms  stories  garagepl  driveway_no  driveway_yes  \\\n",
       "0     5850         3        1        2         1            0             1   \n",
       "1     4000         2        1        1         0            0             1   \n",
       "2     3060         3        1        1         0            0             1   \n",
       "3     6650         3        1        2         0            0             1   \n",
       "4     6360         2        1        1         0            0             1   \n",
       "\n",
       "   recroom_no  recroom_yes  fullbase_no  fullbase_yes  gashw_no  gashw_yes  \\\n",
       "0           1            0            0             1         1          0   \n",
       "1           1            0            1             0         1          0   \n",
       "2           1            0            1             0         1          0   \n",
       "3           0            1            1             0         1          0   \n",
       "4           1            0            1             0         1          0   \n",
       "\n",
       "   airco_no  airco_yes  prefarea_no  prefarea_yes price_cat  \n",
       "0         1          0            1             0       Low  \n",
       "1         1          0            1             0       Low  \n",
       "2         1          0            1             0       Low  \n",
       "3         1          0            1             0    Medium  \n",
       "4         1          0            1             0    Medium  "
      ]
     },
     "execution_count": 8,
     "metadata": {},
     "output_type": "execute_result"
    }
   ],
   "source": [
    "quantile33 = data['price'].quantile(0.33)\n",
    "quantile66 = data['price'].quantile(0.66)\n",
    "quantile100 = data['price'].quantile(1)\n",
    "\n",
    "data['price_cat'] = pd.cut(data['price'], bins=[0, quantile33, quantile66, quantile100], labels=['Low', 'Medium', 'High'])\n",
    "\n",
    "data.drop(labels='price', axis=1, inplace=True)\n",
    "\n",
    "print(data['price_cat'].value_counts())\n",
    "\n",
    "data.head()"
   ]
  },
  {
   "cell_type": "markdown",
   "metadata": {
    "id": "h6SzqQhj84BN"
   },
   "source": [
    "**Observation:**\n",
    "\n",
    "- We have **successfully** **converted** our **categorical** features to numeric using dummy encoding.\n",
    "\n",
    "- We can see that the **frequency** distribution of the **price** feature is approx. **normal**.\n",
    "\n",
    "- In such case, we can rely on **accuracy** as a metric to **evaluate** our model."
   ]
  },
  {
   "cell_type": "markdown",
   "metadata": {
    "id": "aiBcl5GZ5EbX"
   },
   "source": [
    "<a name = Section62></a>\n",
    "### **6.2 Feature Selection**\n",
    "\n",
    "- Now in the real world, it is very rare that all the **features** are **important** while developing the **model**.\n",
    "\n",
    "- Instead, we analyze the **impact** of **input** feature values over the **target** feature values.\n",
    "\n",
    "- It is either done by performing **statistical tests** (Pearson, ANOVA, Chi-Square) or by using **Random Forest**.\n",
    "\n",
    "- Random forests are one of the most **popular** machine learning **algorithms**.\n",
    "\n",
    "- The provide a good predictive performance, low overfitting, and easy interpretability.\n",
    "\n",
    "- This **interpretability** is derived from the importance of each feature on the tree decision evaluated the **reduction in impurity**.\n",
    "\n",
    "- In other words, it is **easy** to **compute** how much each feature is **contributing** to the decision.\n",
    "\n",
    "- We will implement **SelectFromModel()** available in Sklearn which uses the base estimator to identify important features.\n",
    "\n",
    "- The importance of a feature is determined based on **threshold** (a measure to calculate feature importance).\n"
   ]
  },
  {
   "cell_type": "code",
   "execution_count": 9,
   "metadata": {
    "id": "CG9lR9Y0vaHn"
   },
   "outputs": [],
   "source": [
    "X = data.drop('price_cat', axis = 1)\n",
    "y = data['price_cat']"
   ]
  },
  {
   "cell_type": "code",
   "execution_count": 10,
   "metadata": {
    "colab": {
     "base_uri": "https://localhost:8080/"
    },
    "executionInfo": {
     "elapsed": 2089,
     "status": "ok",
     "timestamp": 1608446959843,
     "user": {
      "displayName": "Mukesh Kumar",
      "photoUrl": "https://lh3.googleusercontent.com/a-/AOh14GjTZH-ccUwdv--s75Iw1qfyi7gtUyH2m_-htD2e=s64",
      "userId": "01238672520445611335"
     },
     "user_tz": -330
    },
    "id": "KHCI1GkV613P",
    "outputId": "205ff71a-1e38-4cde-a02d-62bbdd9d6c69"
   },
   "outputs": [
    {
     "name": "stdout",
     "output_type": "stream",
     "text": [
      "Total Features Selected are 5\n",
      "Threshold set by Model: 0.06\n",
      "Important Features: ['lotsize', 'bedrooms', 'bathrms', 'stories', 'garagepl']\n"
     ]
    }
   ],
   "source": [
    "# Have some patience, may take some time :)\n",
    "selector = SelectFromModel(RandomForestClassifier(n_estimators = 100, random_state = 42, n_jobs = -1))\n",
    "selector.fit(X, y)\n",
    "\n",
    "# Extracting list of important features\n",
    "selected_feat = X.columns[(selector.get_support())].tolist()\n",
    "\n",
    "# Show total number of important features extracted by the model\n",
    "print('Total Features Selected are', len(selected_feat))\n",
    "\n",
    "# Estimated by taking mean(default) of feature importance\n",
    "print('Threshold set by Model:', np.round(selector.threshold_, decimals = 2))\n",
    "print('Important Features:', selected_feat)"
   ]
  },
  {
   "cell_type": "markdown",
   "metadata": {
    "id": "MR53ovai66V2"
   },
   "source": [
    "**Visualzation of Important Features:**\n",
    "\n",
    "- Below features are plotted against their relative importance (in %age),  of each feature."
   ]
  },
  {
   "cell_type": "code",
   "execution_count": 11,
   "metadata": {
    "colab": {
     "base_uri": "https://localhost:8080/",
     "height": 519
    },
    "executionInfo": {
     "elapsed": 2553,
     "status": "ok",
     "timestamp": 1608446960322,
     "user": {
      "displayName": "Mukesh Kumar",
      "photoUrl": "https://lh3.googleusercontent.com/a-/AOh14GjTZH-ccUwdv--s75Iw1qfyi7gtUyH2m_-htD2e=s64",
      "userId": "01238672520445611335"
     },
     "user_tz": -330
    },
    "id": "4nZ23vFm66KG",
    "outputId": "4f5d40dc-ab46-4635-baca-56bef4de3da1"
   },
   "outputs": [
    {
     "data": {
      "image/png": "[encoded data removed]",
      "text/plain": [
       "<Figure size 1080x576 with 1 Axes>"
      ]
     },
     "metadata": {},
     "output_type": "display_data"
    }
   ],
   "source": [
    "# Have some patience, may take some time :)\n",
    "figure = plt.figure(figsize = [15, 8])\n",
    "\n",
    "# If you don't want relative importance, use relative = False in below method\n",
    "viz = FeatureImportances(selector.estimator, relative = False)\n",
    "viz.fit(X, y)\n",
    "\n",
    "plt.xlabel('Relative Importance', size = 14)\n",
    "plt.ylabel('Features', size = 14)\n",
    "plt.title(label = 'Feature Importances', size = 16)\n",
    "plt.show()"
   ]
  },
  {
   "cell_type": "markdown",
   "metadata": {
    "id": "8HGTc4Jf8tGQ"
   },
   "source": [
    "<a name = Section63></a>\n",
    "### **6.3 Data Preparation**\n",
    "\n",
    "- Now we will **split** our **data** in **training** and **testing** part for further development."
   ]
  },
  {
   "cell_type": "code",
   "execution_count": 12,
   "metadata": {
    "colab": {
     "base_uri": "https://localhost:8080/"
    },
    "executionInfo": {
     "elapsed": 2543,
     "status": "ok",
     "timestamp": 1608446960324,
     "user": {
      "displayName": "Mukesh Kumar",
      "photoUrl": "https://lh3.googleusercontent.com/a-/AOh14GjTZH-ccUwdv--s75Iw1qfyi7gtUyH2m_-htD2e=s64",
      "userId": "01238672520445611335"
     },
     "user_tz": -330
    },
    "id": "KBRYduiA8s7w",
    "outputId": "085930bb-b30e-4ecc-e955-30b034452ad5"
   },
   "outputs": [
    {
     "name": "stdout",
     "output_type": "stream",
     "text": [
      "Training Data Shape: (436, 17) (436,)\n",
      "Testing Data Shape: (109, 17) (109,)\n"
     ]
    }
   ],
   "source": [
    "X_train, X_test, y_train, y_test = train_test_split(X, y, test_size = 0.2, random_state = 42, stratify = y)\n",
    "\n",
    "print('Training Data Shape:', X_train.shape, y_train.shape)\n",
    "print('Testing Data Shape:', X_test.shape, y_test.shape)"
   ]
  },
  {
   "cell_type": "markdown",
   "metadata": {
    "id": "u243x6hFWw8w"
   },
   "source": [
    "**Observation:**\n",
    "\n",
    "- Now that we have split our data we are **ready** to move to the **next part** and that is Model Development & Evaluation."
   ]
  },
  {
   "cell_type": "markdown",
   "metadata": {
    "id": "kdq_ycR4-kOO"
   },
   "source": [
    "<a name = Section7></a>\n",
    "\n",
    "---\n",
    "# **7. Model Development & Evaluation**\n",
    "---\n",
    "\n",
    "- In this section we will develop stacking classifier with the help of different estimators such as:\n",
    "  - Logistic Regression\n",
    "  - Support Vector Classifier\n",
    "  - K Nearest Neighbor Classifier\n",
    "  - Random Forest Classifier\n",
    "  - Gradient Boosting Classifier\n",
    "\n",
    "- For estimating the **performance** of the **model** we will be using **accuracy** as a **metric**."
   ]
  },
  {
   "cell_type": "code",
   "execution_count": 13,
   "metadata": {
    "colab": {
     "base_uri": "https://localhost:8080/"
    },
    "executionInfo": {
     "elapsed": 3791,
     "status": "ok",
     "timestamp": 1608448342554,
     "user": {
      "displayName": "Mukesh Kumar",
      "photoUrl": "https://lh3.googleusercontent.com/a-/AOh14GjTZH-ccUwdv--s75Iw1qfyi7gtUyH2m_-htD2e=s64",
      "userId": "01238672520445611335"
     },
     "user_tz": -330
    },
    "id": "UEIfEblN13wa",
    "outputId": "92110755-3b1c-444e-bae9-0adc1fe668ec"
   },
   "outputs": [
    {
     "name": "stdout",
     "output_type": "stream",
     "text": [
      "Accuracy on Train data: 0.85\n",
      "Accuracy on Test data: 0.72\n",
      "CPU times: user 1.82 s, sys: 302 ms, total: 2.12 s\n",
      "Wall time: 4.91 s\n"
     ]
    }
   ],
   "source": [
    "%%time\n",
    "# Creating a collection of estimators\n",
    "estimators = [('logistic', LogisticRegression(class_weight='balanced', random_state=42, n_jobs=-1)), \n",
    "              ('svc', SVC(class_weight='balanced', random_state=42, probability=True)),\n",
    "              ('knn', KNeighborsClassifier(n_jobs=-1)),\n",
    "              ('randomforest', RandomForestClassifier(class_weight='balanced', n_jobs=-1, random_state=42))]\n",
    "\n",
    "# Setting StackingClassifier with initiated estimators and a final estimator\n",
    "stack_clf = StackingClassifier(estimators=estimators, \n",
    "                               final_estimator=GradientBoostingClassifier(random_state=42), \n",
    "                               n_jobs=-1, cv=5)\n",
    "stack_clf.fit(X_train, y_train)\n",
    "\n",
    "# Display the accuracy on train data and test data\n",
    "print('Accuracy on Train data:', np.round(a=stack_clf.score(X_train, y_train), decimals=2))\n",
    "print('Accuracy on Test data:', np.round(a=stack_clf.score(X_test, y_test), decimals=2))"
   ]
  },
  {
   "cell_type": "markdown",
   "metadata": {
    "id": "L7JlDc1WAcLy"
   },
   "source": [
    "**Observation:**\n",
    "\n",
    "- We can **observe** that **results** obtained by stacking of models are **generalizing well** on test data.\n",
    "\n",
    "- In the last notebook, we achieved **99% accuracy** on the **train set** and **68% accuracy** on the **test set**.\n",
    "\n",
    "- Now we can see that **overfitting** is **under control** by using a stacked generalization. "
   ]
  },
  {
   "cell_type": "markdown",
   "metadata": {
    "id": "eFeM_k6gUFXJ"
   },
   "source": [
    "<a name = Section8></a>\n",
    "\n",
    "---\n",
    "# **8. Conclusion**\n",
    "---\n",
    "\n",
    "- We **studied** the **characteristics** and **distribution** of data in brief.\n",
    "\n",
    "- We investigated in-depth the **features** which to **retain** and which to **discard**.\n",
    "\n",
    "- We performed **model development** by using a stacked generalization of a variety of algorithms.\n",
    "\n",
    "- We observed **better results** as compared to the results obtained in the last notebook.\n",
    "\n",
    "- This model will **help** the **company** in **saving** lot of **resources** (money, human resources, etc.).\n",
    "\n",
    "- We **recommend** you to **experiment** with **more hyperparameter** and try to enhance the results of the model."
   ]
  },
  {
   "cell_type": "code",
   "execution_count": 14,
   "metadata": {},
   "outputs": [
    {
     "name": "stdout",
     "output_type": "stream",
     "text": [
      "Accuracy on Train data: 0.75\n",
      "Accuracy on Test data: 0.71\n",
      "CPU times: user 610 ms, sys: 696 ms, total: 1.31 s\n",
      "Wall time: 2.4 s\n"
     ]
    }
   ],
   "source": [
    "%%time\n",
    "# Creating a collection of estimators\n",
    "estimators = [('logistic', LogisticRegression(class_weight='balanced', random_state=42, n_jobs=-1)), \n",
    "              ('svc', SVC(class_weight='balanced', random_state=42, probability=True)),\n",
    "              ('knn', KNeighborsClassifier(n_jobs=-1)),\n",
    "              ('randomforest', RandomForestClassifier(class_weight='balanced', max_depth=3, n_jobs=-1, random_state=42))]\n",
    "\n",
    "# Setting StackingClassifier with initiated estimators and a final estimator\n",
    "stack_clf = StackingClassifier(estimators=estimators, \n",
    "                               final_estimator=GradientBoostingClassifier(random_state=42), \n",
    "                               n_jobs=-1, cv=5)\n",
    "stack_clf.fit(X_train, y_train)\n",
    "\n",
    "# Display the accuracy on train data and test data\n",
    "print('Accuracy on Train data:', np.round(a=stack_clf.score(X_train, y_train), decimals=2))\n",
    "print('Accuracy on Test data:', np.round(a=stack_clf.score(X_test, y_test), decimals=2))"
   ]
  },
  {
   "cell_type": "code",
   "execution_count": 15,
   "metadata": {},
   "outputs": [
    {
     "name": "stdout",
     "output_type": "stream",
     "text": [
      "Accuracy on Train data: 0.75\n",
      "Accuracy on Test data: 0.72\n",
      "CPU times: user 425 ms, sys: 226 ms, total: 651 ms\n",
      "Wall time: 1.93 s\n"
     ]
    }
   ],
   "source": [
    "%%time\n",
    "# Creating a collection of estimators\n",
    "estimators = [('logistic', LogisticRegression(class_weight='balanced', random_state=42, n_jobs=-1)), \n",
    "              ('svc', SVC(class_weight='balanced', random_state=42, probability=True)),\n",
    "              ('knn', KNeighborsClassifier(n_jobs=-1)),\n",
    "              ('randomforest', RandomForestClassifier(class_weight='balanced', max_depth=5, n_jobs=-1, random_state=42))]\n",
    "\n",
    "# Setting StackingClassifier with initiated estimators and a final estimator\n",
    "stack_clf = StackingClassifier(estimators=estimators, \n",
    "                               final_estimator=GradientBoostingClassifier(random_state=42), \n",
    "                               n_jobs=-1, cv=5)\n",
    "stack_clf.fit(X_train, y_train)\n",
    "\n",
    "# Display the accuracy on train data and test data\n",
    "print('Accuracy on Train data:', np.round(a=stack_clf.score(X_train, y_train), decimals=2))\n",
    "print('Accuracy on Test data:', np.round(a=stack_clf.score(X_test, y_test), decimals=2))"
   ]
  },
  {
   "cell_type": "code",
   "execution_count": 16,
   "metadata": {},
   "outputs": [
    {
     "name": "stdout",
     "output_type": "stream",
     "text": [
      "Accuracy on Train data: 0.79\n",
      "Accuracy on Test data: 0.71\n",
      "CPU times: user 421 ms, sys: 177 ms, total: 598 ms\n",
      "Wall time: 2.27 s\n"
     ]
    }
   ],
   "source": [
    "%%time\n",
    "# Creating a collection of estimators\n",
    "estimators = [('logistic', LogisticRegression(class_weight='balanced', random_state=42, n_jobs=-1)), \n",
    "              ('svc', SVC(class_weight='balanced', random_state=42, probability=True)),\n",
    "              ('knn', KNeighborsClassifier(n_jobs=-1)),\n",
    "              ('randomforest', RandomForestClassifier(class_weight='balanced', max_depth=6, n_jobs=-1, random_state=42))]\n",
    "\n",
    "# Setting StackingClassifier with initiated estimators and a final estimator\n",
    "stack_clf = StackingClassifier(estimators=estimators, \n",
    "                               final_estimator=GradientBoostingClassifier(random_state=42), \n",
    "                               n_jobs=-1, cv=5)\n",
    "stack_clf.fit(X_train, y_train)\n",
    "\n",
    "# Display the accuracy on train data and test data\n",
    "print('Accuracy on Train data:', np.round(a=stack_clf.score(X_train, y_train), decimals=2))\n",
    "print('Accuracy on Test data:', np.round(a=stack_clf.score(X_test, y_test), decimals=2))"
   ]
  },
  {
   "cell_type": "code",
   "execution_count": 18,
   "metadata": {},
   "outputs": [
    {
     "name": "stdout",
     "output_type": "stream",
     "text": [
      "Accuracy on Train data: 0.81\n",
      "Accuracy on Test data: 0.69\n",
      "CPU times: user 419 ms, sys: 157 ms, total: 576 ms\n",
      "Wall time: 1.03 s\n"
     ]
    }
   ],
   "source": [
    "%%time\n",
    "# Creating a collection of estimators\n",
    "estimators = [('logistic', LogisticRegression(class_weight='balanced', random_state=42, n_jobs=-1)), \n",
    "              ('svc', SVC(class_weight='balanced', random_state=42, probability=True)),\n",
    "              ('knn', KNeighborsClassifier(n_jobs=-1)),\n",
    "              ('randomforest', RandomForestClassifier(class_weight='balanced', max_depth=7, n_jobs=-1, random_state=42))]\n",
    "\n",
    "# Setting StackingClassifier with initiated estimators and a final estimator\n",
    "stack_clf = StackingClassifier(estimators=estimators, \n",
    "                               final_estimator=GradientBoostingClassifier(random_state=42), \n",
    "                               n_jobs=-1, cv=5)\n",
    "stack_clf.fit(X_train, y_train)\n",
    "\n",
    "# Display the accuracy on train data and test data\n",
    "print('Accuracy on Train data:', np.round(a=stack_clf.score(X_train, y_train), decimals=2))\n",
    "print('Accuracy on Test data:', np.round(a=stack_clf.score(X_test, y_test), decimals=2))"
   ]
  },
  {
   "cell_type": "code",
   "execution_count": 19,
   "metadata": {},
   "outputs": [
    {
     "name": "stdout",
     "output_type": "stream",
     "text": [
      "Accuracy on Train data: 0.75\n",
      "Accuracy on Test data: 0.73\n",
      "CPU times: user 416 ms, sys: 165 ms, total: 581 ms\n",
      "Wall time: 985 ms\n"
     ]
    }
   ],
   "source": [
    "%%time\n",
    "# Creating a collection of estimators\n",
    "estimators = [('logistic', LogisticRegression(class_weight='balanced', random_state=42, n_jobs=-1)), \n",
    "              ('svc', SVC(class_weight='balanced', random_state=42, probability=True)),\n",
    "              ('knn', KNeighborsClassifier(n_jobs=-1)),\n",
    "              ('randomforest', RandomForestClassifier(class_weight='balanced', max_depth=2, n_jobs=-1, random_state=42))]\n",
    "\n",
    "# Setting StackingClassifier with initiated estimators and a final estimator\n",
    "stack_clf = StackingClassifier(estimators=estimators, \n",
    "                               final_estimator=GradientBoostingClassifier(random_state=42), \n",
    "                               n_jobs=-1, cv=5)\n",
    "stack_clf.fit(X_train, y_train)\n",
    "\n",
    "# Display the accuracy on train data and test data\n",
    "print('Accuracy on Train data:', np.round(a=stack_clf.score(X_train, y_train), decimals=2))\n",
    "print('Accuracy on Test data:', np.round(a=stack_clf.score(X_test, y_test), decimals=2))"
   ]
  },
  {
   "cell_type": "code",
   "execution_count": 20,
   "metadata": {},
   "outputs": [
    {
     "name": "stdout",
     "output_type": "stream",
     "text": [
      "Accuracy on Train data: 0.75\n",
      "Accuracy on Test data: 0.73\n",
      "CPU times: user 422 ms, sys: 183 ms, total: 604 ms\n",
      "Wall time: 978 ms\n"
     ]
    }
   ],
   "source": [
    "%%time\n",
    "# Creating a collection of estimators\n",
    "estimators = [('logistic', LogisticRegression(class_weight='balanced', random_state=42, n_jobs=-1)), \n",
    "              ('svc', SVC(class_weight='balanced', random_state=42, probability=True)),\n",
    "              ('knn', KNeighborsClassifier(n_neighbors=5 ,n_jobs=-1)),\n",
    "              ('randomforest', RandomForestClassifier(class_weight='balanced', max_depth=2, n_jobs=-1, random_state=42))]\n",
    "\n",
    "# Setting StackingClassifier with initiated estimators and a final estimator\n",
    "stack_clf = StackingClassifier(estimators=estimators, \n",
    "                               final_estimator=GradientBoostingClassifier(random_state=42), \n",
    "                               n_jobs=-1, cv=5)\n",
    "stack_clf.fit(X_train, y_train)\n",
    "\n",
    "# Display the accuracy on train data and test data\n",
    "print('Accuracy on Train data:', np.round(a=stack_clf.score(X_train, y_train), decimals=2))\n",
    "print('Accuracy on Test data:', np.round(a=stack_clf.score(X_test, y_test), decimals=2))"
   ]
  },
  {
   "cell_type": "markdown",
   "metadata": {},
   "source": [
    "# Happy Learning"
   ]
  }
 ],
 "metadata": {
  "colab": {
   "authorship_tag": "ABX9TyNOE6HxikIGjuU3yvGIVqtv",
   "collapsed_sections": [],
   "name": "Ensemble Learning - Part II.ipynb",
   "provenance": []
  },
  "kernelspec": {
   "display_name": "Python 3",
   "language": "python",
   "name": "python3"
  },
  "language_info": {
   "codemirror_mode": {
    "name": "ipython",
    "version": 3
   },
   "file_extension": ".py",
   "mimetype": "text/x-python",
   "name": "python",
   "nbconvert_exporter": "python",
   "pygments_lexer": "ipython3",
   "version": "3.8.8"
  }
 },
 "nbformat": 4,
 "nbformat_minor": 1
}
