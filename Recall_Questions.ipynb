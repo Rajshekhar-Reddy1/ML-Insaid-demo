{
 "cells": [
  {
   "cell_type": "markdown",
   "metadata": {
    "colab_type": "text",
    "id": "pT9NkahsoXlx"
   },
   "source": [
    "<img src=\"https://github.com/insaid2018/Term-1/blob/master/Images/INSAID_Full%20Logo.png?raw=true\" width=\"240\" height=\"360\" />\n",
    "\n",
    "# ASSIGNMENT\n",
    "## PORTUGUESE INSTITUTIONS BANK MARKETING (RECALL CASE)"
   ]
  },
  {
   "cell_type": "markdown",
   "metadata": {
    "colab_type": "text",
    "id": "vUDV0_7foXl5"
   },
   "source": [
    "\n",
    "##  Bank Marketing\n",
    "\n",
    "\n",
    "**Abstract:** \n",
    "The data is related with direct marketing campaigns (phone calls) of a Portuguese banking institution. The classification goal is to predict if the client will subscribe a term deposit (variable y).\n",
    "\n",
    "**Data Set Information:**\n",
    "The data is related with direct marketing campaigns of a Portuguese banking institution. The marketing campaigns were based on phone calls. Often, more than one contact to the same client was required, in order to access if the product (bank term deposit) would be ('yes') or not ('no') subscribed. \n",
    "\n",
    "###  Source:\n",
    "\n",
    " - Dataset from : http://archive.ics.uci.edu/ml/datasets/Bank+Marketing#\n",
    " \n",
    "### FALSE POSITIVE & FALSE NEGATIVE AND IT'S IMPACT ON BUSINESS\n",
    "__FALSE POSITIVE__ - The events which are __predicted__ to happen but they __don't occur in real life__. Here in the context of dataset and business involved, the false positive results in predicted term deposit by customers ont he basis of phone marketing, but they actually do not turn up to make the term deposit.<br/>\n",
    "__FALSE NEGATIVE__ - The events which are __not predicted__ to happen but they __do occur in real life__. In this case the prediction is made as the customer will not be making term deposit but they do actually make the term deposit.\n",
    "\n",
    "So, concluding from the above two case, we need to __cater/ lower down the False negative__ becasue in any business we cannot __assume__ customer will have prior knowledge of our products and services. Even though they know, we need to do the marketing in order to not loose a single customer .\n",
    " "
   ]
  },
  {
   "cell_type": "markdown",
   "metadata": {
    "colab_type": "text",
    "id": "Pdbn-OVBoXl_"
   },
   "source": [
    "### Import the dataset"
   ]
  },
  {
   "cell_type": "code",
   "execution_count": 1,
   "metadata": {
    "colab": {
     "base_uri": "https://localhost:8080/",
     "height": 256
    },
    "colab_type": "code",
    "id": "Ou5LklFnoXmE",
    "outputId": "85e7a19f-8337-4611-9874-a706a1b14fe1"
   },
   "outputs": [
    {
     "data": {
      "text/html": [
       "<div>\n",
       "<style scoped>\n",
       "    .dataframe tbody tr th:only-of-type {\n",
       "        vertical-align: middle;\n",
       "    }\n",
       "\n",
       "    .dataframe tbody tr th {\n",
       "        vertical-align: top;\n",
       "    }\n",
       "\n",
       "    .dataframe thead th {\n",
       "        text-align: right;\n",
       "    }\n",
       "</style>\n",
       "<table border=\"1\" class=\"dataframe\">\n",
       "  <thead>\n",
       "    <tr style=\"text-align: right;\">\n",
       "      <th></th>\n",
       "      <th>age</th>\n",
       "      <th>job</th>\n",
       "      <th>marital</th>\n",
       "      <th>education</th>\n",
       "      <th>default</th>\n",
       "      <th>housing</th>\n",
       "      <th>loan</th>\n",
       "      <th>contact</th>\n",
       "      <th>month</th>\n",
       "      <th>day_of_week</th>\n",
       "      <th>...</th>\n",
       "      <th>campaign</th>\n",
       "      <th>pdays</th>\n",
       "      <th>previous</th>\n",
       "      <th>poutcome</th>\n",
       "      <th>emp.var.rate</th>\n",
       "      <th>cons.price.idx</th>\n",
       "      <th>cons.conf.idx</th>\n",
       "      <th>euribor3m</th>\n",
       "      <th>nr.employed</th>\n",
       "      <th>y</th>\n",
       "    </tr>\n",
       "  </thead>\n",
       "  <tbody>\n",
       "    <tr>\n",
       "      <th>0</th>\n",
       "      <td>46</td>\n",
       "      <td>blue-collar</td>\n",
       "      <td>married</td>\n",
       "      <td>basic.9y</td>\n",
       "      <td>no</td>\n",
       "      <td>no</td>\n",
       "      <td>yes</td>\n",
       "      <td>telephone</td>\n",
       "      <td>may</td>\n",
       "      <td>tue</td>\n",
       "      <td>...</td>\n",
       "      <td>3</td>\n",
       "      <td>999</td>\n",
       "      <td>0</td>\n",
       "      <td>nonexistent</td>\n",
       "      <td>1.1</td>\n",
       "      <td>93.994</td>\n",
       "      <td>-36.4</td>\n",
       "      <td>4.857</td>\n",
       "      <td>5191.0</td>\n",
       "      <td>no</td>\n",
       "    </tr>\n",
       "    <tr>\n",
       "      <th>1</th>\n",
       "      <td>29</td>\n",
       "      <td>admin.</td>\n",
       "      <td>single</td>\n",
       "      <td>university.degree</td>\n",
       "      <td>no</td>\n",
       "      <td>no</td>\n",
       "      <td>no</td>\n",
       "      <td>cellular</td>\n",
       "      <td>may</td>\n",
       "      <td>wed</td>\n",
       "      <td>...</td>\n",
       "      <td>2</td>\n",
       "      <td>999</td>\n",
       "      <td>0</td>\n",
       "      <td>nonexistent</td>\n",
       "      <td>-1.8</td>\n",
       "      <td>92.893</td>\n",
       "      <td>-46.2</td>\n",
       "      <td>1.281</td>\n",
       "      <td>5099.1</td>\n",
       "      <td>no</td>\n",
       "    </tr>\n",
       "    <tr>\n",
       "      <th>2</th>\n",
       "      <td>50</td>\n",
       "      <td>management</td>\n",
       "      <td>married</td>\n",
       "      <td>university.degree</td>\n",
       "      <td>no</td>\n",
       "      <td>yes</td>\n",
       "      <td>yes</td>\n",
       "      <td>cellular</td>\n",
       "      <td>apr</td>\n",
       "      <td>fri</td>\n",
       "      <td>...</td>\n",
       "      <td>1</td>\n",
       "      <td>999</td>\n",
       "      <td>0</td>\n",
       "      <td>nonexistent</td>\n",
       "      <td>-1.8</td>\n",
       "      <td>93.075</td>\n",
       "      <td>-47.1</td>\n",
       "      <td>1.405</td>\n",
       "      <td>5099.1</td>\n",
       "      <td>no</td>\n",
       "    </tr>\n",
       "    <tr>\n",
       "      <th>3</th>\n",
       "      <td>31</td>\n",
       "      <td>admin.</td>\n",
       "      <td>married</td>\n",
       "      <td>high.school</td>\n",
       "      <td>unknown</td>\n",
       "      <td>yes</td>\n",
       "      <td>no</td>\n",
       "      <td>telephone</td>\n",
       "      <td>may</td>\n",
       "      <td>thu</td>\n",
       "      <td>...</td>\n",
       "      <td>2</td>\n",
       "      <td>999</td>\n",
       "      <td>0</td>\n",
       "      <td>nonexistent</td>\n",
       "      <td>1.1</td>\n",
       "      <td>93.994</td>\n",
       "      <td>-36.4</td>\n",
       "      <td>4.860</td>\n",
       "      <td>5191.0</td>\n",
       "      <td>no</td>\n",
       "    </tr>\n",
       "    <tr>\n",
       "      <th>4</th>\n",
       "      <td>32</td>\n",
       "      <td>admin.</td>\n",
       "      <td>single</td>\n",
       "      <td>high.school</td>\n",
       "      <td>no</td>\n",
       "      <td>yes</td>\n",
       "      <td>no</td>\n",
       "      <td>cellular</td>\n",
       "      <td>jun</td>\n",
       "      <td>tue</td>\n",
       "      <td>...</td>\n",
       "      <td>1</td>\n",
       "      <td>999</td>\n",
       "      <td>0</td>\n",
       "      <td>nonexistent</td>\n",
       "      <td>-2.9</td>\n",
       "      <td>92.963</td>\n",
       "      <td>-40.8</td>\n",
       "      <td>1.262</td>\n",
       "      <td>5076.2</td>\n",
       "      <td>yes</td>\n",
       "    </tr>\n",
       "  </tbody>\n",
       "</table>\n",
       "<p>5 rows × 21 columns</p>\n",
       "</div>"
      ],
      "text/plain": [
       "   age          job  marital          education  default housing loan  \\\n",
       "0   46  blue-collar  married           basic.9y       no      no  yes   \n",
       "1   29       admin.   single  university.degree       no      no   no   \n",
       "2   50   management  married  university.degree       no     yes  yes   \n",
       "3   31       admin.  married        high.school  unknown     yes   no   \n",
       "4   32       admin.   single        high.school       no     yes   no   \n",
       "\n",
       "     contact month day_of_week ...   campaign  pdays  previous     poutcome  \\\n",
       "0  telephone   may         tue ...          3    999         0  nonexistent   \n",
       "1   cellular   may         wed ...          2    999         0  nonexistent   \n",
       "2   cellular   apr         fri ...          1    999         0  nonexistent   \n",
       "3  telephone   may         thu ...          2    999         0  nonexistent   \n",
       "4   cellular   jun         tue ...          1    999         0  nonexistent   \n",
       "\n",
       "  emp.var.rate  cons.price.idx  cons.conf.idx  euribor3m  nr.employed    y  \n",
       "0          1.1          93.994          -36.4      4.857       5191.0   no  \n",
       "1         -1.8          92.893          -46.2      1.281       5099.1   no  \n",
       "2         -1.8          93.075          -47.1      1.405       5099.1   no  \n",
       "3          1.1          93.994          -36.4      4.860       5191.0   no  \n",
       "4         -2.9          92.963          -40.8      1.262       5076.2  yes  \n",
       "\n",
       "[5 rows x 21 columns]"
      ]
     },
     "execution_count": 1,
     "metadata": {},
     "output_type": "execute_result"
    }
   ],
   "source": [
    "import pandas as pd\n",
    "bank = pd.read_csv('https://raw.githubusercontent.com/insaid2018/Term-2/master/Data/bank.csv')\n",
    "bank.head() "
   ]
  },
  {
   "cell_type": "markdown",
   "metadata": {
    "colab_type": "text",
    "id": "VlCrU2rrU8h2"
   },
   "source": [
    "### Check the columns present in the dataset"
   ]
  },
  {
   "cell_type": "code",
   "execution_count": 2,
   "metadata": {
    "colab": {
     "base_uri": "https://localhost:8080/",
     "height": 109
    },
    "colab_type": "code",
    "id": "0KNg7cFCoXmf",
    "outputId": "4536cff3-b592-4c28-ec1e-58b1fa0c126e"
   },
   "outputs": [
    {
     "data": {
      "text/plain": [
       "Index(['age', 'job', 'marital', 'education', 'default', 'housing', 'loan',\n",
       "       'contact', 'month', 'day_of_week', 'duration', 'campaign', 'pdays',\n",
       "       'previous', 'poutcome', 'emp.var.rate', 'cons.price.idx',\n",
       "       'cons.conf.idx', 'euribor3m', 'nr.employed', 'y'],\n",
       "      dtype='object')"
      ]
     },
     "execution_count": 2,
     "metadata": {},
     "output_type": "execute_result"
    }
   ],
   "source": [
    "bank.columns"
   ]
  },
  {
   "cell_type": "markdown",
   "metadata": {
    "colab_type": "text",
    "id": "tAkyKLofoXmx"
   },
   "source": [
    "### Check the shape of Dataset"
   ]
  },
  {
   "cell_type": "code",
   "execution_count": 3,
   "metadata": {
    "colab": {
     "base_uri": "https://localhost:8080/",
     "height": 35
    },
    "colab_type": "code",
    "id": "SxbjHquvoXm1",
    "outputId": "05f24ce1-42b9-4ebe-9304-94feffa6fe8a"
   },
   "outputs": [
    {
     "data": {
      "text/plain": [
       "(10297, 21)"
      ]
     },
     "execution_count": 3,
     "metadata": {},
     "output_type": "execute_result"
    }
   ],
   "source": [
    "bank.shape "
   ]
  },
  {
   "cell_type": "markdown",
   "metadata": {
    "colab_type": "text",
    "id": "0kILdc4ZoXnD"
   },
   "source": [
    "### Check the descriptive statistics of the dataset"
   ]
  },
  {
   "cell_type": "code",
   "execution_count": 4,
   "metadata": {
    "colab": {
     "base_uri": "https://localhost:8080/",
     "height": 320
    },
    "colab_type": "code",
    "id": "-CGyYNy3oXnI",
    "outputId": "439ac205-e6a1-4f35-db79-2bfeac278a02"
   },
   "outputs": [
    {
     "data": {
      "text/html": [
       "<div>\n",
       "<style scoped>\n",
       "    .dataframe tbody tr th:only-of-type {\n",
       "        vertical-align: middle;\n",
       "    }\n",
       "\n",
       "    .dataframe tbody tr th {\n",
       "        vertical-align: top;\n",
       "    }\n",
       "\n",
       "    .dataframe thead th {\n",
       "        text-align: right;\n",
       "    }\n",
       "</style>\n",
       "<table border=\"1\" class=\"dataframe\">\n",
       "  <thead>\n",
       "    <tr style=\"text-align: right;\">\n",
       "      <th></th>\n",
       "      <th>age</th>\n",
       "      <th>duration</th>\n",
       "      <th>campaign</th>\n",
       "      <th>pdays</th>\n",
       "      <th>previous</th>\n",
       "      <th>emp.var.rate</th>\n",
       "      <th>cons.price.idx</th>\n",
       "      <th>cons.conf.idx</th>\n",
       "      <th>euribor3m</th>\n",
       "      <th>nr.employed</th>\n",
       "    </tr>\n",
       "  </thead>\n",
       "  <tbody>\n",
       "    <tr>\n",
       "      <th>count</th>\n",
       "      <td>10297.000000</td>\n",
       "      <td>10297.000000</td>\n",
       "      <td>10297.000000</td>\n",
       "      <td>10297.000000</td>\n",
       "      <td>10297.000000</td>\n",
       "      <td>10297.000000</td>\n",
       "      <td>10297.000000</td>\n",
       "      <td>10297.000000</td>\n",
       "      <td>10297.000000</td>\n",
       "      <td>10297.000000</td>\n",
       "    </tr>\n",
       "    <tr>\n",
       "      <th>mean</th>\n",
       "      <td>40.080606</td>\n",
       "      <td>261.388268</td>\n",
       "      <td>2.561134</td>\n",
       "      <td>963.609692</td>\n",
       "      <td>0.171506</td>\n",
       "      <td>0.077256</td>\n",
       "      <td>93.574206</td>\n",
       "      <td>-40.445780</td>\n",
       "      <td>3.621923</td>\n",
       "      <td>5166.850442</td>\n",
       "    </tr>\n",
       "    <tr>\n",
       "      <th>std</th>\n",
       "      <td>10.472190</td>\n",
       "      <td>263.722874</td>\n",
       "      <td>2.827084</td>\n",
       "      <td>184.098592</td>\n",
       "      <td>0.496992</td>\n",
       "      <td>1.576732</td>\n",
       "      <td>0.577502</td>\n",
       "      <td>4.622221</td>\n",
       "      <td>1.734170</td>\n",
       "      <td>72.492914</td>\n",
       "    </tr>\n",
       "    <tr>\n",
       "      <th>min</th>\n",
       "      <td>18.000000</td>\n",
       "      <td>0.000000</td>\n",
       "      <td>1.000000</td>\n",
       "      <td>0.000000</td>\n",
       "      <td>0.000000</td>\n",
       "      <td>-3.400000</td>\n",
       "      <td>92.201000</td>\n",
       "      <td>-50.800000</td>\n",
       "      <td>0.634000</td>\n",
       "      <td>4963.600000</td>\n",
       "    </tr>\n",
       "    <tr>\n",
       "      <th>25%</th>\n",
       "      <td>32.000000</td>\n",
       "      <td>103.000000</td>\n",
       "      <td>1.000000</td>\n",
       "      <td>999.000000</td>\n",
       "      <td>0.000000</td>\n",
       "      <td>-1.800000</td>\n",
       "      <td>93.075000</td>\n",
       "      <td>-42.700000</td>\n",
       "      <td>1.344000</td>\n",
       "      <td>5099.100000</td>\n",
       "    </tr>\n",
       "    <tr>\n",
       "      <th>50%</th>\n",
       "      <td>38.000000</td>\n",
       "      <td>180.000000</td>\n",
       "      <td>2.000000</td>\n",
       "      <td>999.000000</td>\n",
       "      <td>0.000000</td>\n",
       "      <td>1.100000</td>\n",
       "      <td>93.749000</td>\n",
       "      <td>-41.800000</td>\n",
       "      <td>4.857000</td>\n",
       "      <td>5191.000000</td>\n",
       "    </tr>\n",
       "    <tr>\n",
       "      <th>75%</th>\n",
       "      <td>47.000000</td>\n",
       "      <td>327.000000</td>\n",
       "      <td>3.000000</td>\n",
       "      <td>999.000000</td>\n",
       "      <td>0.000000</td>\n",
       "      <td>1.400000</td>\n",
       "      <td>93.994000</td>\n",
       "      <td>-36.400000</td>\n",
       "      <td>4.961000</td>\n",
       "      <td>5228.100000</td>\n",
       "    </tr>\n",
       "    <tr>\n",
       "      <th>max</th>\n",
       "      <td>94.000000</td>\n",
       "      <td>3643.000000</td>\n",
       "      <td>56.000000</td>\n",
       "      <td>999.000000</td>\n",
       "      <td>6.000000</td>\n",
       "      <td>1.400000</td>\n",
       "      <td>94.767000</td>\n",
       "      <td>-26.900000</td>\n",
       "      <td>5.045000</td>\n",
       "      <td>5228.100000</td>\n",
       "    </tr>\n",
       "  </tbody>\n",
       "</table>\n",
       "</div>"
      ],
      "text/plain": [
       "                age      duration      campaign         pdays      previous  \\\n",
       "count  10297.000000  10297.000000  10297.000000  10297.000000  10297.000000   \n",
       "mean      40.080606    261.388268      2.561134    963.609692      0.171506   \n",
       "std       10.472190    263.722874      2.827084    184.098592      0.496992   \n",
       "min       18.000000      0.000000      1.000000      0.000000      0.000000   \n",
       "25%       32.000000    103.000000      1.000000    999.000000      0.000000   \n",
       "50%       38.000000    180.000000      2.000000    999.000000      0.000000   \n",
       "75%       47.000000    327.000000      3.000000    999.000000      0.000000   \n",
       "max       94.000000   3643.000000     56.000000    999.000000      6.000000   \n",
       "\n",
       "       emp.var.rate  cons.price.idx  cons.conf.idx     euribor3m   nr.employed  \n",
       "count  10297.000000    10297.000000   10297.000000  10297.000000  10297.000000  \n",
       "mean       0.077256       93.574206     -40.445780      3.621923   5166.850442  \n",
       "std        1.576732        0.577502       4.622221      1.734170     72.492914  \n",
       "min       -3.400000       92.201000     -50.800000      0.634000   4963.600000  \n",
       "25%       -1.800000       93.075000     -42.700000      1.344000   5099.100000  \n",
       "50%        1.100000       93.749000     -41.800000      4.857000   5191.000000  \n",
       "75%        1.400000       93.994000     -36.400000      4.961000   5228.100000  \n",
       "max        1.400000       94.767000     -26.900000      5.045000   5228.100000  "
      ]
     },
     "execution_count": 4,
     "metadata": {},
     "output_type": "execute_result"
    }
   ],
   "source": [
    "bank.describe() "
   ]
  },
  {
   "cell_type": "markdown",
   "metadata": {
    "colab_type": "text",
    "id": "yTIXcVRyU8ja"
   },
   "source": [
    "### Check the info of the dataset"
   ]
  },
  {
   "cell_type": "code",
   "execution_count": 5,
   "metadata": {
    "colab": {
     "base_uri": "https://localhost:8080/",
     "height": 495
    },
    "colab_type": "code",
    "id": "UDIhfsO3oXnZ",
    "outputId": "0d136bf1-75c7-4593-8597-76048cfac781"
   },
   "outputs": [
    {
     "name": "stdout",
     "output_type": "stream",
     "text": [
      "<class 'pandas.core.frame.DataFrame'>\n",
      "RangeIndex: 10297 entries, 0 to 10296\n",
      "Data columns (total 21 columns):\n",
      "age               10297 non-null int64\n",
      "job               10297 non-null object\n",
      "marital           10297 non-null object\n",
      "education         10297 non-null object\n",
      "default           10297 non-null object\n",
      "housing           10297 non-null object\n",
      "loan              10297 non-null object\n",
      "contact           10297 non-null object\n",
      "month             10297 non-null object\n",
      "day_of_week       10297 non-null object\n",
      "duration          10297 non-null int64\n",
      "campaign          10297 non-null int64\n",
      "pdays             10297 non-null int64\n",
      "previous          10297 non-null int64\n",
      "poutcome          10297 non-null object\n",
      "emp.var.rate      10297 non-null float64\n",
      "cons.price.idx    10297 non-null float64\n",
      "cons.conf.idx     10297 non-null float64\n",
      "euribor3m         10297 non-null float64\n",
      "nr.employed       10297 non-null float64\n",
      "y                 10297 non-null object\n",
      "dtypes: float64(5), int64(5), object(11)\n",
      "memory usage: 1.6+ MB\n"
     ]
    }
   ],
   "source": [
    "bank.info() "
   ]
  },
  {
   "cell_type": "markdown",
   "metadata": {
    "colab_type": "text",
    "id": "w84BIPaiU8j3"
   },
   "source": [
    "### Count of Yes and No for the term deposit"
   ]
  },
  {
   "cell_type": "code",
   "execution_count": 6,
   "metadata": {
    "colab": {
     "base_uri": "https://localhost:8080/",
     "height": 72
    },
    "colab_type": "code",
    "id": "FhCPEoQRU8j8",
    "outputId": "cf2071a9-9758-4bcc-ac11-e24f7a8812b1"
   },
   "outputs": [
    {
     "data": {
      "text/plain": [
       "no     9137\n",
       "yes    1160\n",
       "Name: y, dtype: int64"
      ]
     },
     "execution_count": 6,
     "metadata": {},
     "output_type": "execute_result"
    }
   ],
   "source": [
    "bank.y.value_counts()"
   ]
  },
  {
   "cell_type": "markdown",
   "metadata": {
    "colab_type": "text",
    "id": "DFQmK8yEoXoY"
   },
   "source": [
    "### Q 1. Write a code to check the missing values present in the dataset."
   ]
  },
  {
   "cell_type": "code",
   "execution_count": null,
   "metadata": {
    "colab": {
     "base_uri": "https://localhost:8080/",
     "height": 421
    },
    "colab_type": "code",
    "id": "YyWsdU1goXoc",
    "outputId": "bc8c192b-4b1c-43e1-fe29-a5d70e2440c9"
   },
   "outputs": [],
   "source": [
    "def me():\n",
    "    # your code to print the count of missing values\n",
    "me()"
   ]
  },
  {
   "cell_type": "markdown",
   "metadata": {
    "colab_type": "text",
    "id": "AS_xU9-JoXov"
   },
   "source": [
    "### Q 2. Write a user defined function to calculate the Inter quartile range for quantile values outside 25 to 75 range. And do the outlier capping for lower level with min value and for upper level with 'q3=1.5*iqr' value."
   ]
  },
  {
   "cell_type": "code",
   "execution_count": null,
   "metadata": {
    "colab": {},
    "colab_type": "code",
    "id": "b8xY5HIBoXox"
   },
   "outputs": [],
   "source": [
    "def remove_outlier(df_in, col_name):\n",
    "    # Calculate quantile 1 using quantile(0.25)\n",
    "    # Calculate quantile 3\n",
    "    # Calculate IQR as difference of Quantile 3 and quantile 1\n",
    "    # Find the lower bound using the min() function\n",
    "    # Find the upper bound as quantile3 + 1.5*IQR\n",
    "    # Print the lower and upper bound of the column\n",
    "    # Remove the values lying outside min and upper bound range\n",
    "    return df_out"
   ]
  },
  {
   "cell_type": "markdown",
   "metadata": {
    "colab_type": "text",
    "id": "he46Wf0VU8lI"
   },
   "source": [
    "### Q 2.1 Using the above created function , remove the outlier from 'age' variables:"
   ]
  },
  {
   "cell_type": "code",
   "execution_count": null,
   "metadata": {
    "colab": {
     "base_uri": "https://localhost:8080/",
     "height": 35
    },
    "colab_type": "code",
    "id": "n4NjbpBwU8lN",
    "outputId": "1b42d867-e421-4d20-a56b-7ff79a840cb9"
   },
   "outputs": [],
   "source": [
    "def me(bank):\n",
    "    return # your code to remove outlier from age\n",
    "bank = me(bank) "
   ]
  },
  {
   "cell_type": "markdown",
   "metadata": {
    "colab_type": "text",
    "id": "5rCEc9iAU8lk"
   },
   "source": [
    "### Q 2.2 Using the above created function , remove the outlier from 'campaign' variables:"
   ]
  },
  {
   "cell_type": "code",
   "execution_count": null,
   "metadata": {
    "colab": {
     "base_uri": "https://localhost:8080/",
     "height": 35
    },
    "colab_type": "code",
    "id": "q1BW91sAU8lq",
    "outputId": "b5c2c56c-3e6d-433d-ad29-bb1f20ae5359"
   },
   "outputs": [],
   "source": [
    "def me(bank):\n",
    "    return # your code to remove outlier from campaign\n",
    "bank = me(bank) "
   ]
  },
  {
   "cell_type": "markdown",
   "metadata": {
    "colab_type": "text",
    "id": "FyofSnJdU8mC"
   },
   "source": [
    "### Q 2.3 Using the above created function , remove the outlier from 'duration' variables:"
   ]
  },
  {
   "cell_type": "code",
   "execution_count": null,
   "metadata": {
    "colab": {
     "base_uri": "https://localhost:8080/",
     "height": 35
    },
    "colab_type": "code",
    "id": "EFsnl7d_U8mJ",
    "outputId": "34eeed76-1c73-4952-fa4a-75471f76b190"
   },
   "outputs": [],
   "source": [
    "def me(bank):\n",
    "    return # your code to remove outlier from duration\n",
    "bank = me(bank) "
   ]
  },
  {
   "cell_type": "markdown",
   "metadata": {
    "colab_type": "text",
    "id": "HLlfELTEU8md"
   },
   "source": [
    "### Dividing dataset into two, on the basis of categorical and numerical."
   ]
  },
  {
   "cell_type": "code",
   "execution_count": null,
   "metadata": {
    "colab": {},
    "colab_type": "code",
    "id": "9tXuJ6FtU8mi"
   },
   "outputs": [],
   "source": [
    "bank_cat=bank[['job', 'marital','default', 'education', 'loan', 'housing', 'contact', 'month', 'day_of_week', 'poutcome', 'y']]"
   ]
  },
  {
   "cell_type": "code",
   "execution_count": null,
   "metadata": {
    "colab": {},
    "colab_type": "code",
    "id": "Jt2Xwn4FU8m1"
   },
   "outputs": [],
   "source": [
    "bank_cont = bank.drop(['job', 'marital','default', 'education', 'loan', 'housing', 'contact', 'month', 'day_of_week', 'poutcome', 'y'], axis=1)"
   ]
  },
  {
   "cell_type": "markdown",
   "metadata": {
    "colab_type": "text",
    "id": "WE1w4vgcoXpP"
   },
   "source": [
    "### Q 3. Label encode the below mentioned categorical variable to numerical values.\n",
    "``` ['job', 'marital','default', 'education', 'loan', 'housing', 'contact', 'month', 'day_of_week', 'poutcome', 'y'] ```"
   ]
  },
  {
   "cell_type": "code",
   "execution_count": null,
   "metadata": {
    "colab": {},
    "colab_type": "code",
    "id": "Nkcuko4HU8nK"
   },
   "outputs": [],
   "source": [
    "from sklearn.preprocessing import LabelEncoder\n",
    "def me(bank_cat):\n",
    "    return # your code to return the value applying fit_transorm\n",
    "bank_cat = me(bank_cat)"
   ]
  },
  {
   "cell_type": "markdown",
   "metadata": {
    "colab_type": "text",
    "id": "SuRcfr_oU8nY"
   },
   "source": [
    "### Combining the numerical and categorical dataset."
   ]
  },
  {
   "cell_type": "code",
   "execution_count": null,
   "metadata": {
    "colab": {},
    "colab_type": "code",
    "id": "0GCw5hTRU8nZ"
   },
   "outputs": [],
   "source": [
    "bank_final= pd.concat([bank_cont, bank_cat], axis = 1)"
   ]
  },
  {
   "cell_type": "markdown",
   "metadata": {
    "colab_type": "text",
    "id": "CcPZnIwUoXsz"
   },
   "source": [
    "### Q 4. Extract the independent columns to prepare X "
   ]
  },
  {
   "cell_type": "code",
   "execution_count": null,
   "metadata": {
    "colab": {
     "base_uri": "https://localhost:8080/",
     "height": 226
    },
    "colab_type": "code",
    "id": "hDJYsbNgoXs0",
    "outputId": "20068cf2-9497-4e88-b2ae-100c3507fc93"
   },
   "outputs": [],
   "source": [
    "X = pd.DataFrame()\n",
    "def me():\n",
    "    # write your code to create a dataframe of dependent variables excluding 'y' variable\n",
    "    return X\n",
    "X = me()"
   ]
  },
  {
   "cell_type": "markdown",
   "metadata": {
    "colab_type": "text",
    "id": "wHcJANUYoXtF"
   },
   "source": [
    "### Q 5. Extract dependent column into a dataframe 'y' for model prediction"
   ]
  },
  {
   "cell_type": "code",
   "execution_count": null,
   "metadata": {
    "colab": {
     "base_uri": "https://localhost:8080/",
     "height": 206
    },
    "colab_type": "code",
    "id": "hHMKoEstorlz",
    "outputId": "8994d426-376a-48a0-c4a1-eb422751b707"
   },
   "outputs": [],
   "source": [
    "y = pd.DataFrame()\n",
    "def me():\n",
    "    # write your code to create a dataframe which consists only of dependepent variable\n",
    "    return y\n",
    "y = me()"
   ]
  },
  {
   "cell_type": "markdown",
   "metadata": {
    "colab_type": "text",
    "id": "JTmL7SIeoXtK"
   },
   "source": [
    "### Q 6. Splitting X and y into train and test dataset"
   ]
  },
  {
   "cell_type": "code",
   "execution_count": null,
   "metadata": {
    "colab": {
     "base_uri": "https://localhost:8080/",
     "height": 74
    },
    "colab_type": "code",
    "id": "w-f6KcKzoXtM",
    "outputId": "c74bd04f-9ab5-490e-9ed0-4ca81d9e2430"
   },
   "outputs": [],
   "source": [
    "from sklearn.cross_validation import train_test_split\n",
    "def log():\n",
    "    return # train test split using train_test_split of 75:25 and random state=1\n",
    "X_train, X_test, y_train, y_test = log()"
   ]
  },
  {
   "cell_type": "markdown",
   "metadata": {
    "colab_type": "text",
    "id": "-IStU1XdoXtZ"
   },
   "source": [
    "### Check the shape of X an y of train dataset."
   ]
  },
  {
   "cell_type": "code",
   "execution_count": null,
   "metadata": {
    "colab": {
     "base_uri": "https://localhost:8080/",
     "height": 54
    },
    "colab_type": "code",
    "id": "16m9WrO3oXtb",
    "outputId": "e8275877-b763-4fc0-f2f1-9832c8a54274"
   },
   "outputs": [],
   "source": [
    "def me():\n",
    "    print(X_train.shape)\n",
    "    print(y_train.shape)\n",
    "me()"
   ]
  },
  {
   "cell_type": "markdown",
   "metadata": {
    "colab_type": "text",
    "id": "6MDCzbAPoXth"
   },
   "source": [
    "### Check the shape of X and y of test dataset."
   ]
  },
  {
   "cell_type": "code",
   "execution_count": null,
   "metadata": {
    "colab": {
     "base_uri": "https://localhost:8080/",
     "height": 54
    },
    "colab_type": "code",
    "id": "jqz4Hhm2oXti",
    "outputId": "63e71691-7279-4cde-c87a-4680f9c0db20"
   },
   "outputs": [],
   "source": [
    "def me():\n",
    "    print(X_test.shape)\n",
    "    print(y_test.shape)\n",
    "me()"
   ]
  },
  {
   "cell_type": "markdown",
   "metadata": {
    "colab_type": "text",
    "id": "j-WWbUBMoXty"
   },
   "source": [
    "### Q 7. Instantiate RandomForestClassifier using scikit-learn with (n_estimators=600)"
   ]
  },
  {
   "cell_type": "code",
   "execution_count": null,
   "metadata": {
    "colab": {},
    "colab_type": "code",
    "id": "oYhaCzUxoXtz"
   },
   "outputs": [],
   "source": [
    "from sklearn.ensemble import RandomForestClassifier\n",
    "def me():\n",
    "    # instantiate RandomForestClassifer to new variable rf\n",
    "    return rf\n",
    "rf = me()"
   ]
  },
  {
   "cell_type": "markdown",
   "metadata": {
    "colab_type": "text",
    "id": "WaRZqThOU8pP"
   },
   "source": [
    "### Q 8. Fit the model"
   ]
  },
  {
   "cell_type": "code",
   "execution_count": null,
   "metadata": {
    "colab": {
     "base_uri": "https://localhost:8080/",
     "height": 202
    },
    "colab_type": "code",
    "id": "EYBw18RvU8pT",
    "outputId": "ad253fb9-8fc3-447b-aeea-960c033420e4"
   },
   "outputs": [],
   "source": [
    "def me():\n",
    "    return # fit the X_train and y_train\n",
    "me()"
   ]
  },
  {
   "cell_type": "markdown",
   "metadata": {
    "colab_type": "text",
    "id": "uRWVhEQhU8pg"
   },
   "source": [
    "### Q 9. Use the model for predictions"
   ]
  },
  {
   "cell_type": "code",
   "execution_count": null,
   "metadata": {
    "colab": {},
    "colab_type": "code",
    "id": "1cM_n1hrU8pl"
   },
   "outputs": [],
   "source": [
    "predictions_new = pd.DataFrame()\n",
    "def me():\n",
    "    # create the model prediction on X_test data using the above created dataframe\n",
    "    return predictions_new\n",
    "predictions_new = me()"
   ]
  },
  {
   "cell_type": "markdown",
   "metadata": {
    "colab_type": "text",
    "id": "g1ZcThNEU8pw"
   },
   "source": [
    "### Q 10. Model evaluation using accuracy score"
   ]
  },
  {
   "cell_type": "code",
   "execution_count": null,
   "metadata": {
    "colab": {
     "base_uri": "https://localhost:8080/",
     "height": 35
    },
    "colab_type": "code",
    "id": "QcOZ6-T3U8p1",
    "outputId": "72ff34f5-3e7d-4c3c-c81d-7c22f7209467"
   },
   "outputs": [],
   "source": [
    "from sklearn.metrics import accuracy_score\n",
    "def me():\n",
    "    # Compute and print the accuracy score\n",
    "me()"
   ]
  },
  {
   "cell_type": "markdown",
   "metadata": {
    "colab_type": "text",
    "id": "98sOG1W4U8qB"
   },
   "source": [
    "### Q 11. Model evaluation using confusion matrix"
   ]
  },
  {
   "cell_type": "code",
   "execution_count": null,
   "metadata": {
    "colab": {
     "base_uri": "https://localhost:8080/",
     "height": 54
    },
    "colab_type": "code",
    "id": "Sm7EqIBB_BhK",
    "outputId": "13c3b55e-8869-4813-869b-3c17d87c72b6"
   },
   "outputs": [],
   "source": [
    "from sklearn.metrics import confusion_matrix\n",
    "confusion_matrix = pd.DataFrame(confusion_matrix(y_test, predictions_new))\n",
    "def me():\n",
    "    # provide confusion matrix index name as['Actual No_Deposit','Actual Deposit']\n",
    "    # provide confusion matrix index name as['Predicted No_Deposit','Predicted Deposit']\n",
    "    # print the confusion matrix\n",
    "me()"
   ]
  },
  {
   "cell_type": "markdown",
   "metadata": {
    "colab_type": "text",
    "id": "MajES6AXU8rN"
   },
   "source": [
    "### Q 12. Model evaluation using Precision score"
   ]
  },
  {
   "cell_type": "code",
   "execution_count": null,
   "metadata": {
    "colab": {
     "base_uri": "https://localhost:8080/",
     "height": 35
    },
    "colab_type": "code",
    "id": "PQ26tCVlU8rO",
    "outputId": "92c6124e-3063-4698-d8e6-fb47ef49dc43"
   },
   "outputs": [],
   "source": [
    "from sklearn.metrics import precision_score\n",
    "def me():\n",
    "    # Compute and print the precision score\n",
    "me()"
   ]
  },
  {
   "cell_type": "markdown",
   "metadata": {
    "colab_type": "text",
    "id": "8miLygnWU8rW"
   },
   "source": [
    "### Q 13. Model evaluation using Recall score"
   ]
  },
  {
   "cell_type": "code",
   "execution_count": null,
   "metadata": {
    "colab": {
     "base_uri": "https://localhost:8080/",
     "height": 35
    },
    "colab_type": "code",
    "id": "JuaUrB5FU8rY",
    "outputId": "2ccdcea2-227d-4129-ffa1-2ea75bc6e920"
   },
   "outputs": [],
   "source": [
    "from sklearn.metrics import recall_score\n",
    "def me():\n",
    "    # Compute the recall\n",
    "    # print the recall\n",
    "    return recall\n",
    "recall = me()"
   ]
  },
  {
   "cell_type": "markdown",
   "metadata": {
    "colab_type": "text",
    "id": "DQdOfwu5U8rf"
   },
   "source": [
    "### Q 14. Model evaluation using F1-score"
   ]
  },
  {
   "cell_type": "code",
   "execution_count": null,
   "metadata": {
    "colab": {
     "base_uri": "https://localhost:8080/",
     "height": 35
    },
    "colab_type": "code",
    "id": "qBILEidZU8rh",
    "outputId": "69d35abf-2466-457f-e5d9-b00ca6f371d5"
   },
   "outputs": [],
   "source": [
    "from sklearn.metrics import f1_score\n",
    "def me():\n",
    "    # Compute and print the f1_score\n",
    "me()"
   ]
  },
  {
   "cell_type": "markdown",
   "metadata": {
    "colab_type": "text",
    "id": "shis15srU8r4"
   },
   "source": [
    "### Q 15. Model evaluation using ROC_AUC score"
   ]
  },
  {
   "cell_type": "code",
   "execution_count": null,
   "metadata": {
    "colab": {
     "base_uri": "https://localhost:8080/",
     "height": 376
    },
    "colab_type": "code",
    "id": "gMeSipWAXssC",
    "outputId": "718ad579-63bc-4cd4-b1b1-80a2cd7bf552"
   },
   "outputs": [],
   "source": [
    "from sklearn import metrics\n",
    "def me():\n",
    "    # predict class probabilites fro X_test\n",
    "    # return the array value as pred\n",
    "    # Compute roc_curve as fpr1, tpr1, threshold\n",
    "    # compute roc_auc as roc_auc1\n",
    "    return roc_auc1\n",
    "me()"
   ]
  },
  {
   "cell_type": "markdown",
   "metadata": {
    "colab_type": "text",
    "id": "j-WWbUBMoXty"
   },
   "source": [
    "### Q 16.1. Instantiate RandomForestClassifier using scikit-learn with (criterion='entropy',n_estimators = 100, random_state = 0, max_depth = 2, min_samples_split=4, min_samples_leaf=3, max_leaf_nodes=5, class_weight='balanced')"
   ]
  },
  {
   "cell_type": "code",
   "execution_count": null,
   "metadata": {
    "colab": {},
    "colab_type": "code",
    "id": "oYhaCzUxoXtz"
   },
   "outputs": [],
   "source": [
    "from sklearn.ensemble import RandomForestClassifier\n",
    "def me():\n",
    "    # instantiate RandomForestClassifier as rfc\n",
    "    return rfc\n",
    "rfc = me()"
   ]
  },
  {
   "cell_type": "markdown",
   "metadata": {
    "colab_type": "text",
    "id": "WaRZqThOU8pP"
   },
   "source": [
    "### 16.2. Fit the model"
   ]
  },
  {
   "cell_type": "code",
   "execution_count": null,
   "metadata": {
    "colab": {
     "base_uri": "https://localhost:8080/",
     "height": 202
    },
    "colab_type": "code",
    "id": "EYBw18RvU8pT",
    "outputId": "ad253fb9-8fc3-447b-aeea-960c033420e4"
   },
   "outputs": [],
   "source": [
    "def me():\n",
    "    return # fit the X_train and y_train\n",
    "me()"
   ]
  },
  {
   "cell_type": "markdown",
   "metadata": {
    "colab_type": "text",
    "id": "uRWVhEQhU8pg"
   },
   "source": [
    "### Q 16.3. Use the model for predictions"
   ]
  },
  {
   "cell_type": "code",
   "execution_count": null,
   "metadata": {
    "colab": {},
    "colab_type": "code",
    "id": "1cM_n1hrU8pl"
   },
   "outputs": [],
   "source": [
    "predictions = pd.DataFrame()\n",
    "def me():\n",
    "    # create the model prediction on X_test data using the above created dataframe\n",
    "    return predictions\n",
    "predictions = me()"
   ]
  },
  {
   "cell_type": "markdown",
   "metadata": {
    "colab_type": "text",
    "id": "g1ZcThNEU8pw"
   },
   "source": [
    "### Q 16.4. Model evaluation using accuracy score"
   ]
  },
  {
   "cell_type": "code",
   "execution_count": null,
   "metadata": {
    "colab": {
     "base_uri": "https://localhost:8080/",
     "height": 35
    },
    "colab_type": "code",
    "id": "QcOZ6-T3U8p1",
    "outputId": "72ff34f5-3e7d-4c3c-c81d-7c22f7209467"
   },
   "outputs": [],
   "source": [
    "from sklearn.metrics import accuracy_score\n",
    "def me():\n",
    "    # compute and print the accuracy score\n",
    "me()"
   ]
  },
  {
   "cell_type": "markdown",
   "metadata": {
    "colab_type": "text",
    "id": "98sOG1W4U8qB"
   },
   "source": [
    "### Q 16.5. Model evaluation using confusion matrix"
   ]
  },
  {
   "cell_type": "code",
   "execution_count": null,
   "metadata": {
    "colab": {
     "base_uri": "https://localhost:8080/",
     "height": 54
    },
    "colab_type": "code",
    "id": "Sm7EqIBB_BhK",
    "outputId": "13c3b55e-8869-4813-869b-3c17d87c72b6"
   },
   "outputs": [],
   "source": [
    "from sklearn.metrics import confusion_matrix\n",
    "confusion_matrix = pd.DataFrame(confusion_matrix(y_test, predictions))\n",
    "def me():\n",
    "    # provide confusion matrix index name as['Actual No_Deposit','Actual Deposit']\n",
    "    # provide confusion matrix index name as['Predicted No_Deposit','Predicted Deposit']\n",
    "    # print the confusion matrix\n",
    "me()"
   ]
  },
  {
   "cell_type": "markdown",
   "metadata": {
    "colab_type": "text",
    "id": "MajES6AXU8rN"
   },
   "source": [
    "### Q 16.6. Model evaluation using Precision score"
   ]
  },
  {
   "cell_type": "code",
   "execution_count": null,
   "metadata": {
    "colab": {
     "base_uri": "https://localhost:8080/",
     "height": 35
    },
    "colab_type": "code",
    "id": "PQ26tCVlU8rO",
    "outputId": "92c6124e-3063-4698-d8e6-fb47ef49dc43"
   },
   "outputs": [],
   "source": [
    "from sklearn.metrics import precision_score\n",
    "def me():\n",
    "    # compute and print the precision score\n",
    "me()"
   ]
  },
  {
   "cell_type": "markdown",
   "metadata": {
    "colab_type": "text",
    "id": "8miLygnWU8rW"
   },
   "source": [
    "### Q 16.7. Model evaluation using Recall score"
   ]
  },
  {
   "cell_type": "code",
   "execution_count": null,
   "metadata": {
    "colab": {
     "base_uri": "https://localhost:8080/",
     "height": 35
    },
    "colab_type": "code",
    "id": "JuaUrB5FU8rY",
    "outputId": "2ccdcea2-227d-4129-ffa1-2ea75bc6e920"
   },
   "outputs": [],
   "source": [
    "from sklearn.metrics import recall_score\n",
    "def me():\n",
    "    # compute the recall score\n",
    "    # print the recall score\n",
    "    return recall1\n",
    "recall1 = me()"
   ]
  },
  {
   "cell_type": "markdown",
   "metadata": {
    "colab_type": "text",
    "id": "DQdOfwu5U8rf"
   },
   "source": [
    "### Q 16.8. Model evaluation using F1-score"
   ]
  },
  {
   "cell_type": "code",
   "execution_count": null,
   "metadata": {
    "colab": {
     "base_uri": "https://localhost:8080/",
     "height": 35
    },
    "colab_type": "code",
    "id": "qBILEidZU8rh",
    "outputId": "69d35abf-2466-457f-e5d9-b00ca6f371d5"
   },
   "outputs": [],
   "source": [
    "from sklearn.metrics import f1_score\n",
    "def me():\n",
    "    # compute and print the f1_score\n",
    "me()"
   ]
  },
  {
   "cell_type": "markdown",
   "metadata": {
    "colab_type": "text",
    "id": "shis15srU8r4"
   },
   "source": [
    "### Q 16.9. Model evaluation using ROC_AUC curve"
   ]
  },
  {
   "cell_type": "code",
   "execution_count": null,
   "metadata": {
    "colab": {
     "base_uri": "https://localhost:8080/",
     "height": 376
    },
    "colab_type": "code",
    "id": "gMeSipWAXssC",
    "outputId": "718ad579-63bc-4cd4-b1b1-80a2cd7bf552"
   },
   "outputs": [],
   "source": [
    "from sklearn import metrics\n",
    "def me():\n",
    "    # predict class probabilites fro X_test\n",
    "    # return the array value as preds\n",
    "    # Compute roc_curve as fpr, tpr, threshold\n",
    "    # compute roc_auc\n",
    "    return roc_auc\n",
    "me()"
   ]
  },
  {
   "cell_type": "markdown",
   "metadata": {},
   "source": [
    "### Q 17. What is the inference you can draw from 2 different models on the basis of recall score (provide the absolute score)."
   ]
  },
  {
   "cell_type": "code",
   "execution_count": null,
   "metadata": {},
   "outputs": [],
   "source": [
    "def log():\n",
    "    # calculate teh difference between recall1 and recall created by two two different models and assign it to variable\n",
    "    return # created varibale\n",
    "log()"
   ]
  },
  {
   "cell_type": "markdown",
   "metadata": {},
   "source": [
    "### Conclusion \n",
    "In this use case, the company stands to loose more if '__False Negative__' is not treated properly.\n",
    "Recall value of our first model in __Q.no.- 13__ is way lower than the other model created in __Q.no.-16__.\n",
    "Therefore, __second model__ is a better option for bank marketing."
   ]
  }
 ],
 "metadata": {
  "kernelspec": {
   "display_name": "Python 3",
   "language": "python",
   "name": "python3"
  },
  "language_info": {
   "codemirror_mode": {
    "name": "ipython",
    "version": 3
   },
   "file_extension": ".py",
   "mimetype": "text/x-python",
   "name": "python",
   "nbconvert_exporter": "python",
   "pygments_lexer": "ipython3",
   "version": "3.6.5"
  }
 },
 "nbformat": 4,
 "nbformat_minor": 2
}
