{
 "cells": [
  {
   "cell_type": "markdown",
   "metadata": {
    "id": "fzu3Se5kE4M1"
   },
   "source": [
    "<center><img src=\"https://github.com/insaid2018/Term-1/blob/master/Images/INSAID_Full%20Logo.png?raw=true\" width=\"240\" height=\"100\" /></center>\n",
    "\n",
    "# <center><b>Ensemble Learning - Part I<b></center>"
   ]
  },
  {
   "cell_type": "markdown",
   "metadata": {
    "id": "QDP5a6srE-e6"
   },
   "source": [
    "---\n",
    "# **Table of Contents**\n",
    "---\n",
    "\n",
    "**1.** [**Introduction**](#Section1)<br>\n",
    "  - **1.1** [**Bagging**](#Section11)\n",
    "  - **1.2** [**Random Forests**](#Section12)\n",
    "  - **1.3** [**Boosting**](#Section13)\n",
    "  - **1.4** [**Voting**](#Section14)\n",
    "  - **1.5** [**Pros/Cons of Ensemble Learning**](#Section15)\n",
    "\n",
    "**2.** [**Problem Statement**](#Section2)<br>\n",
    "**3.** [**Installing & Importing Libraries**](#Section3)<br>\n",
    "  - **3.1** [**Installing Libraries**](#Section31)\n",
    "  - **3.2** [**Upgrading Libraries**](#Section32)\n",
    "  - **3.3** [**Importing Libraries**](#Section33)\n",
    "\n",
    "**4.** [**Data Acquisition & Description**](#Section4)<br>\n",
    "  - **4.1** [**Data Description**](#Section41)\n",
    "  - **4.2** [**Data Information**](#Section42)\n",
    "\n",
    "**5.** [**Data Pre-processing**](#Section5)<br>\n",
    "  - **5.1** [**Pre-Profiling Report**](#Section51)<br>\n",
    "\n",
    "**6.** [**Exploratory Data Analysis**](#Section6)<br>\n",
    "**7.** [**Post Data Processing & Feature Selection**](#Section7)<br>\n",
    "  - **7.1** [**Feature Encoding**](#Section71)<br>\n",
    "  - **7.2** [**Feature Selection**](#Section72)<br>\n",
    "  - **7.3** [**Data Preparation**](#Section73)<br>\n",
    "\n",
    "**8.** [**Model Development & Evaluation**](#Section8)<br>\n",
    "**9.** [**Conclusion**](#Section9)<br>"
   ]
  },
  {
   "cell_type": "markdown",
   "metadata": {
    "id": "OK5QX5w6E_8a"
   },
   "source": [
    "---\n",
    "<a name = Section1></a>\n",
    "# **1. Introduction**\n",
    "---\n",
    "\n",
    "-  Ensemble Learning is the **process** by which **multiple models** (classifiers or experts), are **strategically generated** and combined.\n",
    "\n",
    "- When combined they provide a **solution** to a particular **computational** **intelligence** **problem**.\n",
    "\n",
    "- It is primarily used to **improve** the **performance** of a model, or **reduce** the likelihood of an **unfortunate selection** of a poor one.\n",
    "\n",
    "<center><img src=\"https://raw.githubusercontent.com/insaid2018/Term-4/master/images/ensemble-learning.png\"></center>\n",
    "\n",
    "- **For example**, a person wants to check his health, but he's not sure if the result from one doctor would be consistent.\n",
    "\n",
    "- He made a voting strategy where he thought of getting diagnosed by a doctor at different clinics.\n",
    "\n",
    "- After a few days, he made a conclusion based on that strategy.\n",
    "\n",
    "**<center><h3>Structural Diagram of Ensemble Techniques</h3></center>**\n",
    "<center><img src=\"https://raw.githubusercontent.com/insaid2018/Term-3/master/Images/ensemble-learning-types-part-1-updated.png\"></center>\n"
   ]
  },
  {
   "cell_type": "markdown",
   "metadata": {
    "id": "QAOM_zk2bkow"
   },
   "source": [
    "<a name = Section11></a>\n",
    "## **1.1 Bagging**"
   ]
  },
  {
   "cell_type": "markdown",
   "metadata": {
    "id": "Qnx_G4bcb4E6"
   },
   "source": [
    "- This method build **several instances** of a black-box estimator on **random** subsets of the original **training set**.\n",
    "\n",
    "- Then these estimators **aggregate** their **individual predictions** to form a final prediction.\n",
    "\n",
    "- These methods are used as a way to **reduce** the **variance** (overfitting) of a base estimator by introducing randomization. \n",
    "\n",
    "- They **work best** with **strong** and **complex models** (e.g., fully developed decision trees).\n",
    "</br>\n",
    "<center><img src=\"https://raw.githubusercontent.com/insaid2018/Term-4/master/images/bagging-updated1.png\"></center>"
   ]
  },
  {
   "cell_type": "markdown",
   "metadata": {
    "id": "42fpzx-0brYG"
   },
   "source": [
    "<a name = Section12></a>\n",
    "## **1.2 Random Forests**"
   ]
  },
  {
   "cell_type": "markdown",
   "metadata": {
    "id": "bkGPJmX-xoG_"
   },
   "source": [
    "- Here each tree in the ensemble is built from a **sample** drawn **with replacement** (i.e., a bootstrap sample) from the training set.\n",
    "\n",
    "- By default the **bootstrap** is set to **True** and the most common bootstrap used is **.632 bootstrap**.\n",
    "\n",
    "- On average, **63.2%** of the original **examples** will end up in the **bootstrap sample**, and the remaining **36.8%** will form the **test set**.\n",
    "\n",
    "- The model tries to **find** the **best split** either from all input features or a random subset of features specified by the size.\n",
    "\n",
    "- The purpose of these two sources of randomness is to **decrease** the **variance** of the **forest estimator**.\n",
    "\n",
    "- Random forests achieve a reduced variance by combining diverse trees, sometimes at the cost of a slight increase in bias.\n",
    "\n",
    "- In an implementation, **classifiers** **average** their probabilistic **prediction**, instead of letting each classifier vote for a single class.\n",
    "\n",
    "</br>\n",
    "<center><img src=\"https://raw.githubusercontent.com/insaid2018/Term-4/master/images/random-forest.png\"></center>"
   ]
  },
  {
   "cell_type": "markdown",
   "metadata": {
    "id": "A_sCgBalbw7o"
   },
   "source": [
    "<a name = Section13></a>\n",
    "## **1.3 Boosting**\n",
    "\n",
    "- It is **a family of algorithms** which converts weak learner to strong learners.\n",
    "\n",
    "- Boosting is an **ensemble method** for improving the model predictions of any given learning algorithm. \n",
    "\n",
    "- The idea of boosting is to **train weak learners sequentially**, each trying to **correct its predecessor**.\n",
    "\n",
    "- There are **two variants** of Boosting that exists i.e. **AdaBoost** and **Gradient Boosting**."
   ]
  },
  {
   "cell_type": "markdown",
   "metadata": {
    "id": "w9yEXcIx3BDh"
   },
   "source": [
    "<a name = Section131></a>\n",
    "### **1.3.1 Adaptive Boosting**"
   ]
  },
  {
   "cell_type": "markdown",
   "metadata": {
    "id": "VeHYlcWm4KPn"
   },
   "source": [
    "- A **popular** boosting algorithm AdaBoost, introduced in **1995** by **Freund and Schapire**.\n",
    "\n",
    "- Here the core principle is to fit **a sequence of weak learners** on **repeatedly modified** versions of the data.\n",
    "\n",
    "- The predictions from all of them are then **combined** through a **weighted majority vote** (or sum) to produce the final prediction.\n",
    "\n",
    "- The data modifications at each so-called **boosting iteration** consist of applying weights $w_1, w_2, …, w_n$ to each of the training samples.\n",
    "\n",
    "- Initially, those weights are all set to $w_i = \\large \\frac{1}{N}$, so that the first step simply trains a weak learner on the original data.\n",
    "\n",
    "- For each successive iteration, the sample **weights** are individually **modified** and the learning algorithm is **reapplied** to the reweighted data.\n",
    "\n",
    "- The **weights** of training examples are **increased** if **incorrectly** predicted and **decreased** for predicted **correctly** at the previous step. \n",
    "\n",
    "- To compute the error rate of model $M_i$ , we sum the weights of each of the example in $D_i$ that $M_i$ misclassified.\n",
    "</br>\n",
    "<center>$\\large error(M_i) = \\sum_{i=1}^{d} w_j * err(X_j)$, where </center>\n",
    "</br>\n",
    "\n",
    "- where $err(X_j)$ is the misclassification error of eample $X_j$.\n",
    "\n",
    "- If a example in round i was correctly classified, its weight is multiplied by $\\large \\frac{error(M_i)}{(1-error(M_i))}$\n",
    "\n",
    "- As iterations proceed, examples that are difficult to predict receive ever-increasing influence.\n",
    "\n",
    "- Each subsequent weak learner is thereby **forced** to **concentrate** on the examples that are **missed** by the **previous** ones in the sequence.\n",
    "\n",
    "</br>\n",
    "<center><img src=\"https://raw.githubusercontent.com/insaid2018/Term-4/master/images/adaboost.png\"></center>"
   ]
  },
  {
   "cell_type": "markdown",
   "metadata": {
    "id": "HS_POXeA3Fhw"
   },
   "source": [
    "<a name = Section132></a>\n",
    "### **1.3.2 Gradient Boosting**"
   ]
  },
  {
   "cell_type": "markdown",
   "metadata": {
    "id": "QKUdz0rjLQG5"
   },
   "source": [
    "- Gradient Boosted Decision Trees (GBDT) is a **generalization** of **boosting** to arbitrary differentiable loss functions. \n",
    "\n",
    "- GBDT is an **accurate** and **effective** off-the-shelf **procedure** that can be used for both regression and classification problems.\n",
    "\n",
    "- Here model **learns** from the **mistake** - **residual error** directly, rather than update the weights of data points.\n",
    "\n",
    "- It can **support** both **binary** and **multi-class** classification.\n",
    "</br>\n",
    "<center><img src=\"https://raw.githubusercontent.com/insaid2018/Term-4/master/images/boosting-tree-updated.png\"></center>"
   ]
  },
  {
   "cell_type": "markdown",
   "metadata": {
    "id": "MSbAYlXhb0B2"
   },
   "source": [
    "<a name = Section14></a>\n",
    "## **1.4 Voting**"
   ]
  },
  {
   "cell_type": "markdown",
   "metadata": {
    "id": "egMubiChLw-H"
   },
   "source": [
    "- The idea here is to **combine** conceptually **different** machine learning **classifiers**.\n",
    "\n",
    "- Then use a **majority vote** or the **average predicted probabilities** (soft vote) to predict the class labels.\n",
    "\n",
    "- Such a **classifier** can be useful for a set of equally well performing model in order to **balance** out their **individual weaknesses**.\n",
    "\n",
    "- They can be categorized into two parts i.e. **Hard Voting** and **Soft Voting**."
   ]
  },
  {
   "cell_type": "markdown",
   "metadata": {
    "id": "YOTb_9_lQUqj"
   },
   "source": [
    "<a name = Section141></a>\n",
    "### **1.4.1 Hard Voting**\n",
    "\n",
    "- Here the **predicted class** label **represents** the **majority** (mode) of the class labels predicted by each individual classifier.\n",
    "\n",
    "- E.g., if the prediction for a given sample is\n",
    "  - Classifier 1 &rarr; Class 1\n",
    "\n",
    "  - Classifier 2 &rarr; Class 1\n",
    "\n",
    "  - Classifier 3 &rarr; Class 2\n",
    "\n",
    "- The **VotingClassifier** (with voting='hard') would classify the sample as “**Class 1**” based on the majority class label.\n",
    "\n",
    "- In the **cases of a tie**, the VotingClassifier will select the class based on the **ascending sort order**. E.g.\n",
    "  - Classifier 1 &rarr; Class 2\n",
    "\n",
    "  - Classifier 2 &rarr; Class 1\n",
    "\n",
    "- The **Class label 1** will be assigned to the sample."
   ]
  },
  {
   "cell_type": "markdown",
   "metadata": {
    "id": "T7mOTcR3QaHO"
   },
   "source": [
    "<a name = Section142></a>\n",
    "### **1.4.2 Soft Voting**\n",
    "\n",
    "- It **returns** the **class label** as **argmax** of the sum of predicted probabilities.\n",
    "\n",
    "- We can provide **specific weights** to **each classifier**.\n",
    "\n",
    "- The **predicted** class **probabilities** for each classifier are collected, **multiplied** by the classifier **weight**, and **averaged**.\n",
    "\n",
    "- The **final** class **label** is then derived from the class label with the **highest average probability**.\n",
    "\n",
    "- For example, let’s assume we have 3 classifiers and a 3-class classification problems:\n",
    "  - We assign equal weights to all classifiers: $w1=1, w2=1, w3=1$.\n",
    "\n",
    "- The weighted average probabilities for a sample would then be calculated as follows:\n",
    "\n",
    "|Classifier|Class 1|Class 2|Class 3|\n",
    "|:--:|:--:|:--:|:--:|\n",
    "|Classifier 1|w1 x 0.2|w1 x 0.5|w1 x 0.3|\n",
    "|Classifier 2|w2 x 0.6|w2 x 0.3|w2 x 0.1|\n",
    "|Classifier 3|w3 x 0.3|w3 x 0.4|w3 x 0.3|\n",
    "|Weighted Average|0.37|0.4|0.23|\n",
    "\n",
    "- Here, the predicted class label is 2, since it has the highest average probability."
   ]
  },
  {
   "cell_type": "markdown",
   "metadata": {
    "id": "qjWhIH5gNmwY"
   },
   "source": [
    "<a name = Section15></a>\n",
    "## **1.5 Pros/Cons of Ensemble Learning**"
   ]
  },
  {
   "cell_type": "markdown",
   "metadata": {
    "id": "6vYsKiyWNtwQ"
   },
   "source": [
    "**Pros:**\n",
    "\n",
    "- Ensemble is a proven method for __improving the accuracy__ of the model and works in most of the cases.\n",
    "\n",
    "- Ensemble makes the model more __robust__ and __stable__ thus entering decent performance on the test cases in more scenarios.\n",
    "\n",
    "- You can ensemble to capture __linear__ and simple as well __non-linear__ complex relationships in the data. \n",
    "- This can be done by using __two different models__ and forming an __ensemble of two__.\n",
    "\n",
    "**Cons:**\n",
    "\n",
    "- Ensemble __reduce the model interpret-ability__ and makes it very difficult to draw any crucial business insights at the end.\n",
    "\n",
    "- It is __time-consuming__ and thus might not be the best idea for real-time applications.\n",
    "\n",
    "- The __selection of models__ for creating an ensemble is an __art__ which is really hard to master."
   ]
  },
  {
   "cell_type": "markdown",
   "metadata": {
    "id": "KYz4Oh4_9NF7"
   },
   "source": [
    "---\n",
    "<a name = Section2></a>\n",
    "# **2. Problem Statement**\n",
    "---\n",
    "\n",
    "<center><img src=\"https://www.reno.gov/Home/ShowImage?id=7739&t=635620964226970000\"></center>\n",
    "\n",
    "**<h4>Scenario:</h4>**\n",
    "\n",
    "- **Property Hall** is a Canadian **real estate** company that facilitates  a transaction between the buyers and sellers of property.\n",
    "\n",
    "- The company's **revenue** is **down** for the past three months and they want to identify its root cause.\n",
    "\n",
    "- They are looking for an **automatic way** to detect **unusual behavior** in their revenue.\n",
    "\n",
    "- The company already has **access** to the **data** of **houses** in the city of Windsor.\n",
    "\n",
    "- To identify unusual behavior, they have hired a team of data scientists. **Consider you are one of them...**"
   ]
  },
  {
   "cell_type": "markdown",
   "metadata": {
    "id": "uQNzD3KZ9RVX"
   },
   "source": [
    "---\n",
    "<a name = Section3></a>\n",
    "# **3. Installing & Importing Libraries**\n",
    "---"
   ]
  },
  {
   "cell_type": "markdown",
   "metadata": {
    "id": "kIlSjMer9T_n"
   },
   "source": [
    "<a name = Section31></a>\n",
    "### **3.1 Installing Libraries**"
   ]
  },
  {
   "cell_type": "code",
   "execution_count": null,
   "metadata": {
    "colab": {
     "base_uri": "https://localhost:8080/"
    },
    "executionInfo": {
     "elapsed": 11288,
     "status": "ok",
     "timestamp": 1606977969225,
     "user": {
      "displayName": "Mukesh Kumar",
      "photoUrl": "https://lh3.googleusercontent.com/a-/AOh14GjTZH-ccUwdv--s75Iw1qfyi7gtUyH2m_-htD2e=s64",
      "userId": "01238672520445611335"
     },
     "user_tz": -330
    },
    "id": "EOD5d2c7BA47",
    "outputId": "c8aa1df8-97a9-4284-fe7c-014acfad7ffe"
   },
   "outputs": [],
   "source": [
    "# !pip install -q datascience                                         # Package that is required by pandas profiling\n",
    "# !pip install -q pandas-profiling                                    # Library to generate basic statistics about data\n",
    "# !pip install -q yellowbrick                                         # Toolbox for Measuring Machine Performance               "
   ]
  },
  {
   "cell_type": "markdown",
   "metadata": {
    "id": "FIIe92QK9Xfn"
   },
   "source": [
    "<a name = Section32></a>\n",
    "### **3.2 Upgrading Libraries**\n",
    "\n",
    "- **After upgrading** the libraries, you need to **restart the runtime** to make the libraries in sync. \n",
    "\n",
    "- Make sure not to execute the cell above (3.1) and below (3.2) again after restarting the runtime."
   ]
  },
  {
   "cell_type": "code",
   "execution_count": null,
   "metadata": {
    "colab": {
     "base_uri": "https://localhost:8080/"
    },
    "executionInfo": {
     "elapsed": 24726,
     "status": "ok",
     "timestamp": 1606977982685,
     "user": {
      "displayName": "Mukesh Kumar",
      "photoUrl": "https://lh3.googleusercontent.com/a-/AOh14GjTZH-ccUwdv--s75Iw1qfyi7gtUyH2m_-htD2e=s64",
      "userId": "01238672520445611335"
     },
     "user_tz": -330
    },
    "id": "xvwKBekF9XRn",
    "outputId": "74f1c922-d2de-49bc-be03-1e21aeb32ad1"
   },
   "outputs": [],
   "source": [
    "# !pip install -q --upgrade pandas-profiling\n",
    "# !pip install -q --upgrade yellowbrick"
   ]
  },
  {
   "cell_type": "markdown",
   "metadata": {
    "id": "TGs1lTJy9b73"
   },
   "source": [
    "<a name = Section33></a>\n",
    "### **3.3 Importing Libraries**"
   ]
  },
  {
   "cell_type": "code",
   "execution_count": 1,
   "metadata": {
    "id": "CP2ppPta9b1P"
   },
   "outputs": [],
   "source": [
    "#-------------------------------------------------------------------------------------------------------------------------------\n",
    "import pandas as pd                                                 # Importing for panel data analysis\n",
    "from pandas_profiling import ProfileReport                          # Import Pandas Profiling (To generate Univariate Analysis) \n",
    "pd.set_option('display.max_columns', None)                          # Unfolding hidden features if the cardinality is high      \n",
    "pd.set_option('display.max_colwidth', None)                         # Unfolding the max feature width for better clearity      \n",
    "pd.set_option('display.max_rows', None)                             # Unfolding hidden data points if the cardinality is high\n",
    "pd.set_option('mode.chained_assignment', None)                      # Removing restriction over chained assignments operations\n",
    "pd.set_option('display.float_format', lambda x: '%.2f' % x)         # To suppress scientific notation over exponential values\n",
    "#-------------------------------------------------------------------------------------------------------------------------------\n",
    "import numpy as np                                                  # Importing package numpys (For Numerical Python)\n",
    "#-------------------------------------------------------------------------------------------------------------------------------\n",
    "import matplotlib.pyplot as plt                                     # Importing pyplot interface using matplotlib                                              \n",
    "import seaborn as sns                                               # Importin seaborm library for interactive visualization\n",
    "%matplotlib inline\n",
    "#-------------------------------------------------------------------------------------------------------------------------------\n",
    "from sklearn.feature_selection import SelectFromModel               # To perform Feature Selection over model\n",
    "from yellowbrick.model_selection import FeatureImportances          # To retrieve Feature Importances over model\n",
    "from sklearn.metrics import classification_report                   # To generate classification report of the model\n",
    "from sklearn.metrics import plot_confusion_matrix                   # To plot confusion matrix of the model\n",
    "#-------------------------------------------------------------------------------------------------------------------------------\n",
    "from sklearn.model_selection import train_test_split                # To perform train, test and split over the data\n",
    "from sklearn.linear_model import LogisticRegression                 # To perform modeling using LogisticRegression\n",
    "from sklearn.svm import SVC                                         # To perform modeling using SVC\n",
    "from sklearn.tree import DecisionTreeClassifier                     # To perform modeling using DecisionTreeClassifier\n",
    "from sklearn.ensemble import RandomForestClassifier                 # To perform modeling using RandomForestClassifier\n",
    "from sklearn.ensemble import VotingClassifier                       # To perform modeling using VotingClassifier\n",
    "from sklearn.ensemble import BaggingClassifier                      # To perform modeling using BaggingClassifier \n",
    "from sklearn.ensemble import AdaBoostClassifier                     # To perform modeling using AdaBoostClassifier\n",
    "from sklearn.ensemble import GradientBoostingClassifier             # To perform modeling using GradientBoostingClassifier\n",
    "#-------------------------------------------------------------------------------------------------------------------------------\n",
    "import warnings                                                     # Importing warning to disable runtime warnings\n",
    "warnings.filterwarnings(\"ignore\")                                   # Warnings will appear only once"
   ]
  },
  {
   "cell_type": "markdown",
   "metadata": {
    "id": "74zX2kdI9fB-"
   },
   "source": [
    "---\n",
    "<a name = Section4></a>\n",
    "# **4. Data Acquisition & Description**\n",
    "---\n",
    "\n",
    "- The dataset is based on **real estate** provided by Property Hall and it is accessible <a href=\"https://raw.githubusercontent.com/insaid2018/Term-4/master/Data/Housing.csv\">**here**</a>.\n",
    "\n",
    "</br>\n",
    "\n",
    "| Records | Features | Dataset Size |\n",
    "| :-- | :-- | :-- |\n",
    "| 546 | 12 | 22 KB| \n",
    "\n",
    "</br>\n",
    "\n",
    "| Id | Features | Description |\n",
    "| :-- | :--| :--| \n",
    "|01|**price**|Sale price of a house.|\n",
    "|02|**lotsize**|The lot size of a property in square feet.|\n",
    "|03|**bedrooms**|Number of bedrooms.|\n",
    "|04|**bathrms**|Number of bathrooms.|\n",
    "|05|**stories**|Number of stories excluding basement.|\n",
    "|06|**driveway**|Does the house has a driveway?|\n",
    "|07|**recroom**|Does the house has a recreational room?|\n",
    "|08|**fullbase**|Does the house has a full finished basement?|\n",
    "|09|**gashw**|Does the house uses gas for hot water heating?|\n",
    "|10|**airco**|Does the house has central air conditioning?|\n",
    "|11|**garagepl**|Number of garage places.|\n",
    "|12|**prefarea**|Is the house located in the preferred neighbourhood of the city?|"
   ]
  },
  {
   "cell_type": "code",
   "execution_count": 2,
   "metadata": {
    "colab": {
     "base_uri": "https://localhost:8080/",
     "height": 221
    },
    "executionInfo": {
     "elapsed": 1091,
     "status": "ok",
     "timestamp": 1606986434983,
     "user": {
      "displayName": "Mukesh Kumar",
      "photoUrl": "https://lh3.googleusercontent.com/a-/AOh14GjTZH-ccUwdv--s75Iw1qfyi7gtUyH2m_-htD2e=s64",
      "userId": "01238672520445611335"
     },
     "user_tz": -330
    },
    "id": "HV59G2We9e5t",
    "outputId": "b6de69e9-ad87-4574-f60c-f8d4e5208611"
   },
   "outputs": [
    {
     "name": "stdout",
     "output_type": "stream",
     "text": [
      "Data Shape: (546, 12)\n"
     ]
    },
    {
     "data": {
      "text/html": [
       "<div>\n",
       "<style scoped>\n",
       "    .dataframe tbody tr th:only-of-type {\n",
       "        vertical-align: middle;\n",
       "    }\n",
       "\n",
       "    .dataframe tbody tr th {\n",
       "        vertical-align: top;\n",
       "    }\n",
       "\n",
       "    .dataframe thead th {\n",
       "        text-align: right;\n",
       "    }\n",
       "</style>\n",
       "<table border=\"1\" class=\"dataframe\">\n",
       "  <thead>\n",
       "    <tr style=\"text-align: right;\">\n",
       "      <th></th>\n",
       "      <th>price</th>\n",
       "      <th>lotsize</th>\n",
       "      <th>bedrooms</th>\n",
       "      <th>bathrms</th>\n",
       "      <th>stories</th>\n",
       "      <th>driveway</th>\n",
       "      <th>recroom</th>\n",
       "      <th>fullbase</th>\n",
       "      <th>gashw</th>\n",
       "      <th>airco</th>\n",
       "      <th>garagepl</th>\n",
       "      <th>prefarea</th>\n",
       "    </tr>\n",
       "  </thead>\n",
       "  <tbody>\n",
       "    <tr>\n",
       "      <th>0</th>\n",
       "      <td>42000.00</td>\n",
       "      <td>5850</td>\n",
       "      <td>3</td>\n",
       "      <td>1</td>\n",
       "      <td>2</td>\n",
       "      <td>yes</td>\n",
       "      <td>no</td>\n",
       "      <td>yes</td>\n",
       "      <td>no</td>\n",
       "      <td>no</td>\n",
       "      <td>1</td>\n",
       "      <td>no</td>\n",
       "    </tr>\n",
       "    <tr>\n",
       "      <th>1</th>\n",
       "      <td>38500.00</td>\n",
       "      <td>4000</td>\n",
       "      <td>2</td>\n",
       "      <td>1</td>\n",
       "      <td>1</td>\n",
       "      <td>yes</td>\n",
       "      <td>no</td>\n",
       "      <td>no</td>\n",
       "      <td>no</td>\n",
       "      <td>no</td>\n",
       "      <td>0</td>\n",
       "      <td>no</td>\n",
       "    </tr>\n",
       "    <tr>\n",
       "      <th>2</th>\n",
       "      <td>49500.00</td>\n",
       "      <td>3060</td>\n",
       "      <td>3</td>\n",
       "      <td>1</td>\n",
       "      <td>1</td>\n",
       "      <td>yes</td>\n",
       "      <td>no</td>\n",
       "      <td>no</td>\n",
       "      <td>no</td>\n",
       "      <td>no</td>\n",
       "      <td>0</td>\n",
       "      <td>no</td>\n",
       "    </tr>\n",
       "    <tr>\n",
       "      <th>3</th>\n",
       "      <td>60500.00</td>\n",
       "      <td>6650</td>\n",
       "      <td>3</td>\n",
       "      <td>1</td>\n",
       "      <td>2</td>\n",
       "      <td>yes</td>\n",
       "      <td>yes</td>\n",
       "      <td>no</td>\n",
       "      <td>no</td>\n",
       "      <td>no</td>\n",
       "      <td>0</td>\n",
       "      <td>no</td>\n",
       "    </tr>\n",
       "    <tr>\n",
       "      <th>4</th>\n",
       "      <td>61000.00</td>\n",
       "      <td>6360</td>\n",
       "      <td>2</td>\n",
       "      <td>1</td>\n",
       "      <td>1</td>\n",
       "      <td>yes</td>\n",
       "      <td>no</td>\n",
       "      <td>no</td>\n",
       "      <td>no</td>\n",
       "      <td>no</td>\n",
       "      <td>0</td>\n",
       "      <td>no</td>\n",
       "    </tr>\n",
       "  </tbody>\n",
       "</table>\n",
       "</div>"
      ],
      "text/plain": [
       "     price  lotsize  bedrooms  bathrms  stories driveway recroom fullbase  \\\n",
       "0 42000.00     5850         3        1        2      yes      no      yes   \n",
       "1 38500.00     4000         2        1        1      yes      no       no   \n",
       "2 49500.00     3060         3        1        1      yes      no       no   \n",
       "3 60500.00     6650         3        1        2      yes     yes       no   \n",
       "4 61000.00     6360         2        1        1      yes      no       no   \n",
       "\n",
       "  gashw airco  garagepl prefarea  \n",
       "0    no    no         1       no  \n",
       "1    no    no         0       no  \n",
       "2    no    no         0       no  \n",
       "3    no    no         0       no  \n",
       "4    no    no         0       no  "
      ]
     },
     "execution_count": 2,
     "metadata": {},
     "output_type": "execute_result"
    }
   ],
   "source": [
    "data = pd.read_csv(filepath_or_buffer = 'https://raw.githubusercontent.com/insaid2018/Term-4/master/Data/Housing.csv')\n",
    "print('Data Shape:', data.shape)\n",
    "data.head()"
   ]
  },
  {
   "cell_type": "markdown",
   "metadata": {
    "id": "DHGaHtN0-Kmx"
   },
   "source": [
    "<a name = Section41></a>\n",
    "### **4.1 Data Description**\n",
    "\n",
    "- In this section we will get **information about the data** and see some observations."
   ]
  },
  {
   "cell_type": "code",
   "execution_count": 3,
   "metadata": {
    "colab": {
     "base_uri": "https://localhost:8080/",
     "height": 297
    },
    "executionInfo": {
     "elapsed": 1114,
     "status": "ok",
     "timestamp": 1606978237484,
     "user": {
      "displayName": "Mukesh Kumar",
      "photoUrl": "https://lh3.googleusercontent.com/a-/AOh14GjTZH-ccUwdv--s75Iw1qfyi7gtUyH2m_-htD2e=s64",
      "userId": "01238672520445611335"
     },
     "user_tz": -330
    },
    "id": "31ZXKHKr-HwX",
    "outputId": "d288f91d-579e-40a7-820a-dd2f036c503d"
   },
   "outputs": [
    {
     "data": {
      "text/html": [
       "<div>\n",
       "<style scoped>\n",
       "    .dataframe tbody tr th:only-of-type {\n",
       "        vertical-align: middle;\n",
       "    }\n",
       "\n",
       "    .dataframe tbody tr th {\n",
       "        vertical-align: top;\n",
       "    }\n",
       "\n",
       "    .dataframe thead th {\n",
       "        text-align: right;\n",
       "    }\n",
       "</style>\n",
       "<table border=\"1\" class=\"dataframe\">\n",
       "  <thead>\n",
       "    <tr style=\"text-align: right;\">\n",
       "      <th></th>\n",
       "      <th>price</th>\n",
       "      <th>lotsize</th>\n",
       "      <th>bedrooms</th>\n",
       "      <th>bathrms</th>\n",
       "      <th>stories</th>\n",
       "      <th>garagepl</th>\n",
       "    </tr>\n",
       "  </thead>\n",
       "  <tbody>\n",
       "    <tr>\n",
       "      <th>count</th>\n",
       "      <td>546.00</td>\n",
       "      <td>546.00</td>\n",
       "      <td>546.00</td>\n",
       "      <td>546.00</td>\n",
       "      <td>546.00</td>\n",
       "      <td>546.00</td>\n",
       "    </tr>\n",
       "    <tr>\n",
       "      <th>mean</th>\n",
       "      <td>68121.60</td>\n",
       "      <td>5150.27</td>\n",
       "      <td>2.97</td>\n",
       "      <td>1.29</td>\n",
       "      <td>1.81</td>\n",
       "      <td>0.69</td>\n",
       "    </tr>\n",
       "    <tr>\n",
       "      <th>std</th>\n",
       "      <td>26702.67</td>\n",
       "      <td>2168.16</td>\n",
       "      <td>0.74</td>\n",
       "      <td>0.50</td>\n",
       "      <td>0.87</td>\n",
       "      <td>0.86</td>\n",
       "    </tr>\n",
       "    <tr>\n",
       "      <th>min</th>\n",
       "      <td>25000.00</td>\n",
       "      <td>1650.00</td>\n",
       "      <td>1.00</td>\n",
       "      <td>1.00</td>\n",
       "      <td>1.00</td>\n",
       "      <td>0.00</td>\n",
       "    </tr>\n",
       "    <tr>\n",
       "      <th>25%</th>\n",
       "      <td>49125.00</td>\n",
       "      <td>3600.00</td>\n",
       "      <td>2.00</td>\n",
       "      <td>1.00</td>\n",
       "      <td>1.00</td>\n",
       "      <td>0.00</td>\n",
       "    </tr>\n",
       "    <tr>\n",
       "      <th>50%</th>\n",
       "      <td>62000.00</td>\n",
       "      <td>4600.00</td>\n",
       "      <td>3.00</td>\n",
       "      <td>1.00</td>\n",
       "      <td>2.00</td>\n",
       "      <td>0.00</td>\n",
       "    </tr>\n",
       "    <tr>\n",
       "      <th>75%</th>\n",
       "      <td>82000.00</td>\n",
       "      <td>6360.00</td>\n",
       "      <td>3.00</td>\n",
       "      <td>2.00</td>\n",
       "      <td>2.00</td>\n",
       "      <td>1.00</td>\n",
       "    </tr>\n",
       "    <tr>\n",
       "      <th>max</th>\n",
       "      <td>190000.00</td>\n",
       "      <td>16200.00</td>\n",
       "      <td>6.00</td>\n",
       "      <td>4.00</td>\n",
       "      <td>4.00</td>\n",
       "      <td>3.00</td>\n",
       "    </tr>\n",
       "  </tbody>\n",
       "</table>\n",
       "</div>"
      ],
      "text/plain": [
       "          price  lotsize  bedrooms  bathrms  stories  garagepl\n",
       "count    546.00   546.00    546.00   546.00   546.00    546.00\n",
       "mean   68121.60  5150.27      2.97     1.29     1.81      0.69\n",
       "std    26702.67  2168.16      0.74     0.50     0.87      0.86\n",
       "min    25000.00  1650.00      1.00     1.00     1.00      0.00\n",
       "25%    49125.00  3600.00      2.00     1.00     1.00      0.00\n",
       "50%    62000.00  4600.00      3.00     1.00     2.00      0.00\n",
       "75%    82000.00  6360.00      3.00     2.00     2.00      1.00\n",
       "max   190000.00 16200.00      6.00     4.00     4.00      3.00"
      ]
     },
     "execution_count": 3,
     "metadata": {},
     "output_type": "execute_result"
    }
   ],
   "source": [
    "data.describe()"
   ]
  },
  {
   "cell_type": "code",
   "execution_count": 8,
   "metadata": {},
   "outputs": [
    {
     "data": {
      "text/plain": [
       "array([ 25000.,  49125.,  82000., 190000.])"
      ]
     },
     "execution_count": 8,
     "metadata": {},
     "output_type": "execute_result"
    }
   ],
   "source": [
    "data.price.quantile([0,.25,.75,1]).values"
   ]
  },
  {
   "cell_type": "code",
   "execution_count": 10,
   "metadata": {},
   "outputs": [
    {
     "data": {
      "image/png": "[encoded data removed]",
      "text/plain": [
       "<Figure size 576x396 with 1 Axes>"
      ]
     },
     "metadata": {},
     "output_type": "display_data"
    }
   ],
   "source": [
    "sns.distplot(data.price)\n",
    "plt.axvline(data.price.mean(), color=\"black\")\n",
    "plt.axvline(data.price.quantile(0), color=\"green\")\n",
    "plt.axvline(data.price.quantile(0.25), color=\"green\")\n",
    "plt.axvline(data.price.quantile(0.75), color=\"green\")\n",
    "plt.axvline(data.price.quantile(1.), color=\"green\")\n",
    "plt.axvline(data.price.median(), color=\"red\")\n",
    "plt.show()"
   ]
  },
  {
   "cell_type": "markdown",
   "metadata": {
    "id": "8wtaA-8eRN-R"
   },
   "source": [
    "**Observation:**\n",
    "\n",
    "- On **average** the **sale price** of **house** is **$\\$$68121.60**.\n",
    "\n",
    "- **25%** of **houses** have **sale prices <= $\\$$49125** while **50%** and **75%** of houses have **sale price <= $\\$$62000** and **$\\$$82000**.\n",
    "\n",
    "- Similarly, we can get the information for rest of the features."
   ]
  },
  {
   "cell_type": "markdown",
   "metadata": {
    "id": "NxGLnRHj-NaS"
   },
   "source": [
    "<a name = Section42></a>\n",
    "### **4.2 Data Information**\n",
    "\n",
    "- In this section we will see the **information about the types of features**."
   ]
  },
  {
   "cell_type": "code",
   "execution_count": 11,
   "metadata": {
    "colab": {
     "base_uri": "https://localhost:8080/"
    },
    "executionInfo": {
     "elapsed": 1292,
     "status": "ok",
     "timestamp": 1606912421442,
     "user": {
      "displayName": "Mukesh Kumar",
      "photoUrl": "https://lh3.googleusercontent.com/a-/AOh14GjTZH-ccUwdv--s75Iw1qfyi7gtUyH2m_-htD2e=s64",
      "userId": "01238672520445611335"
     },
     "user_tz": -330
    },
    "id": "hxmmcXy3Qfya",
    "outputId": "3ccd2e44-200e-46df-d08a-28f3bac192b0"
   },
   "outputs": [
    {
     "name": "stdout",
     "output_type": "stream",
     "text": [
      "<class 'pandas.core.frame.DataFrame'>\n",
      "RangeIndex: 546 entries, 0 to 545\n",
      "Data columns (total 12 columns):\n",
      " #   Column    Non-Null Count  Dtype  \n",
      "---  ------    --------------  -----  \n",
      " 0   price     546 non-null    float64\n",
      " 1   lotsize   546 non-null    int64  \n",
      " 2   bedrooms  546 non-null    int64  \n",
      " 3   bathrms   546 non-null    int64  \n",
      " 4   stories   546 non-null    int64  \n",
      " 5   driveway  546 non-null    object \n",
      " 6   recroom   546 non-null    object \n",
      " 7   fullbase  546 non-null    object \n",
      " 8   gashw     546 non-null    object \n",
      " 9   airco     546 non-null    object \n",
      " 10  garagepl  546 non-null    int64  \n",
      " 11  prefarea  546 non-null    object \n",
      "dtypes: float64(1), int64(5), object(6)\n",
      "memory usage: 51.3+ KB\n"
     ]
    }
   ],
   "source": [
    "data.info()"
   ]
  },
  {
   "cell_type": "markdown",
   "metadata": {
    "id": "4hKJEscKQiDp"
   },
   "source": [
    "**Observation:**\n",
    "\n",
    "- We can observer that there is **no null data present**.\n",
    "\n",
    "- Addtionally, all **features** seems to have **correct data type**."
   ]
  },
  {
   "cell_type": "markdown",
   "metadata": {
    "id": "gILJSeZI-QqS"
   },
   "source": [
    "<a name = Section5></a>\n",
    "\n",
    "---\n",
    "# **5. Data Pre-Processing**\n",
    "---"
   ]
  },
  {
   "cell_type": "markdown",
   "metadata": {
    "id": "rVX0c0rC-Sz0"
   },
   "source": [
    "<a name = Section51></a>\n",
    "### **5.1 Pre Profiling Report**\n",
    "\n",
    "- For **quick analysis** pandas profiling is very handy.\n",
    "\n",
    "- Generates profile reports from a pandas DataFrame.\n",
    "\n",
    "- For each column **statistics** are presented in an interactive HTML report."
   ]
  },
  {
   "cell_type": "code",
   "execution_count": null,
   "metadata": {
    "id": "Wu6fKjTJ-IfC"
   },
   "outputs": [],
   "source": [
    "# profile = ProfileReport(df = data)\n",
    "# profile.to_file(output_file = 'Pre Profiling Report.html')\n",
    "# print('Accomplished!')"
   ]
  },
  {
   "cell_type": "code",
   "execution_count": null,
   "metadata": {
    "id": "EqzCJKYZ-IcX"
   },
   "outputs": [],
   "source": [
    "# from google.colab import files                   # Use only if you are using Google Colab, otherwise remove it\n",
    "# files.download('Pre Profiling Report.html')      # Use only if you are using Google Colab, otherwise remove it"
   ]
  },
  {
   "cell_type": "markdown",
   "metadata": {
    "id": "Trz3OJ70Q-rC"
   },
   "source": [
    "**Observation:**\n",
    "\n",
    "- The report shows that there are **12 features** out of which **6 are boolean**, **3 are numerical** and **3 are categorical**.\n",
    "\n",
    "- We can observe that there is **one duplicate** row in our dataset.\n",
    "\n",
    "- You can get the rest of the information from the report."
   ]
  },
  {
   "cell_type": "markdown",
   "metadata": {
    "id": "cpH3TxfXSwnD"
   },
   "source": [
    "**Performing Operations**"
   ]
  },
  {
   "cell_type": "code",
   "execution_count": 12,
   "metadata": {
    "colab": {
     "base_uri": "https://localhost:8080/"
    },
    "executionInfo": {
     "elapsed": 1066,
     "status": "ok",
     "timestamp": 1606986441469,
     "user": {
      "displayName": "Mukesh Kumar",
      "photoUrl": "https://lh3.googleusercontent.com/a-/AOh14GjTZH-ccUwdv--s75Iw1qfyi7gtUyH2m_-htD2e=s64",
      "userId": "01238672520445611335"
     },
     "user_tz": -330
    },
    "id": "JEcEVBVYSyq7",
    "outputId": "ba1d08ba-05aa-46a8-f83d-f3b3e9b4bdc5"
   },
   "outputs": [
    {
     "name": "stdout",
     "output_type": "stream",
     "text": [
      "Dropping Duplicates Success!\n"
     ]
    }
   ],
   "source": [
    "data.drop_duplicates(inplace=True)\n",
    "print('Dropping Duplicates Success!')"
   ]
  },
  {
   "cell_type": "markdown",
   "metadata": {
    "id": "jZIxVOsC-YCd"
   },
   "source": [
    "<a name = Section6></a>\n",
    "\n",
    "---\n",
    "# **6. Exploratory Data Analysis**\n",
    "---"
   ]
  },
  {
   "cell_type": "markdown",
   "metadata": {
    "id": "nzitzYDJirIX"
   },
   "source": [
    "**<h4>Question 1: What is the association of bedrooms, bathrooms, stories, and garage place concerning price?</h4>**"
   ]
  },
  {
   "cell_type": "code",
   "execution_count": 13,
   "metadata": {
    "colab": {
     "base_uri": "https://localhost:8080/",
     "height": 513
    },
    "executionInfo": {
     "elapsed": 3046,
     "status": "ok",
     "timestamp": 1606981539805,
     "user": {
      "displayName": "Mukesh Kumar",
      "photoUrl": "https://lh3.googleusercontent.com/a-/AOh14GjTZH-ccUwdv--s75Iw1qfyi7gtUyH2m_-htD2e=s64",
      "userId": "01238672520445611335"
     },
     "user_tz": -330
    },
    "id": "9ePZjL92yo6X",
    "outputId": "7f8ce544-f11a-46b5-abeb-e2cc3be0ccec"
   },
   "outputs": [
    {
     "data": {
      "image/png": "[encoded data removed]",
      "text/plain": [
       "<Figure size 1080x504 with 4 Axes>"
      ]
     },
     "metadata": {},
     "output_type": "display_data"
    }
   ],
   "source": [
    "colors_list = ['gold', 'yellowgreen', 'lightcoral', 'lightskyblue', 'lightgreen', 'red']\n",
    "figure = plt.figure(figsize = [15, 7])\n",
    "\n",
    "# Price vs Bedrooms\n",
    "plt.subplot(2, 2, 1)\n",
    "sns.barplot(x='bedrooms', y='price', data=data, color='#DB5F57', ci=False)\n",
    "plt.xlabel('Bedrooms', size = 14)\n",
    "plt.ylabel('Price', size = 14)\n",
    "plt.title('Price vs Bedrooms', size = 16)\n",
    "\n",
    "# Price vs bathrooms\n",
    "plt.subplot(2, 2, 2)\n",
    "sns.barplot(x='bathrms', y='price', data=data, color='lightskyblue', ci=False)\n",
    "plt.xlabel('Bathrooms', size = 14)\n",
    "plt.ylabel('Price', size = 14)\n",
    "plt.title('Price vs Bathrooms', size = 16)\n",
    "\n",
    "# Price vs stories\n",
    "plt.subplot(2, 2, 3)\n",
    "sns.barplot(x='stories', y='price', data=data, color='#DBC257', ci=False)\n",
    "plt.xlabel('Stories', size = 14)\n",
    "plt.ylabel('Price', size = 14)\n",
    "plt.title('Price vs Stories', size = 16)\n",
    "\n",
    "# Price vs garagepl\n",
    "plt.subplot(2, 2, 4)\n",
    "sns.barplot(x='garagepl', y='price', data=data, color='lightgreen', ci=False)\n",
    "plt.xlabel('Garage Places', size = 14)\n",
    "plt.ylabel('Price', size = 14)\n",
    "plt.title('Price vs Garage Places', size = 16)\n",
    "plt.tight_layout()\n",
    "plt.show()"
   ]
  },
  {
   "cell_type": "markdown",
   "metadata": {
    "id": "-GIyATVWZRai"
   },
   "source": [
    "**Observation:**\n",
    "\n",
    "- Houses having 4 or 5 beds seems to have high prices.\n",
    "\n",
    "- Houses having more than 3 bathrooms and stories seems to have high prices.\n",
    "\n",
    "- Houses having more than one garage place seems to have high prices."
   ]
  },
  {
   "cell_type": "markdown",
   "metadata": {
    "id": "LAJhb6cQhZZ0"
   },
   "source": [
    "**<h4>Question 1: What is the proportion of the following features?**\n",
    "  - drive way, recreational room, full finished basement, gas hot water, air conditioning, preferred area</h4>"
   ]
  },
  {
   "cell_type": "code",
   "execution_count": 14,
   "metadata": {
    "colab": {
     "base_uri": "https://localhost:8080/",
     "height": 513
    },
    "executionInfo": {
     "elapsed": 2097,
     "status": "ok",
     "timestamp": 1606986866479,
     "user": {
      "displayName": "Mukesh Kumar",
      "photoUrl": "https://lh3.googleusercontent.com/a-/AOh14GjTZH-ccUwdv--s75Iw1qfyi7gtUyH2m_-htD2e=s64",
      "userId": "01238672520445611335"
     },
     "user_tz": -330
    },
    "id": "RnxqJxQJk2VC",
    "outputId": "2ede6576-3621-4eea-f4ce-2841c0a2f18f"
   },
   "outputs": [
    {
     "data": {
      "image/png": "[encoded data removed]",
      "text/plain": [
       "<Figure size 1080x504 with 6 Axes>"
      ]
     },
     "metadata": {},
     "output_type": "display_data"
    }
   ],
   "source": [
    "figure = plt.figure(figsize = [15, 7])\n",
    "\n",
    "# Subplot for Drive Way\n",
    "plt.subplot(2, 3, 1)\n",
    "space = np.ones(2)/10\n",
    "data['driveway'].value_counts().plot(kind='pie', explode=space, fontsize=14, \n",
    "                                           autopct='%3.1f%%', wedgeprops=dict(width = 0.15), \n",
    "                                           shadow=True, startangle=160, figsize=[15, 7], \n",
    "                                           legend=True, labels=['', ''])\n",
    "plt.legend(['Yes', 'No'])\n",
    "plt.ylabel('Drive Way', size = 14)\n",
    "\n",
    "# Subplot for recreational room\n",
    "plt.subplot(2, 3, 2)\n",
    "space = np.ones(2)/10\n",
    "data['recroom'].value_counts().plot(kind='pie', explode=space, fontsize=14, \n",
    "                                           autopct='%3.1f%%', wedgeprops=dict(width = 0.15), \n",
    "                                           shadow=True, startangle=160, figsize=[15, 7], \n",
    "                                           legend=True, labels=['', ''])\n",
    "plt.legend(['No', 'Yes'])\n",
    "plt.ylabel('Recreational Room', size = 14)\n",
    "\n",
    "# Subplot for full finished basement\n",
    "plt.subplot(2, 3, 3)\n",
    "space = np.ones(2)/10\n",
    "data['fullbase'].value_counts().plot(kind='pie', explode=space, fontsize=14, \n",
    "                                           autopct='%3.1f%%', wedgeprops=dict(width = 0.15), \n",
    "                                           shadow=True, startangle=160, figsize=[15, 7], \n",
    "                                           legend=True, labels=['', ''])\n",
    "plt.legend(['No', 'Yes'])\n",
    "plt.ylabel('Full Finished Basement', size = 14)\n",
    "\n",
    "# Subplot for gas for hot water heating\n",
    "plt.subplot(2, 3, 4)\n",
    "space = np.ones(2)/10\n",
    "data['gashw'].value_counts().plot(kind='pie', explode=space, fontsize=14, \n",
    "                                           autopct='%3.1f%%', wedgeprops=dict(width = 0.15), \n",
    "                                           shadow=True, startangle=160, figsize=[15, 7], \n",
    "                                           legend=True, labels=['', ''])\n",
    "plt.legend(['No', 'Yes'])\n",
    "plt.ylabel('Gas for Hot Water', size = 14)\n",
    "\n",
    "# Subplot for air conditioning\n",
    "plt.subplot(2, 3, 5)\n",
    "space = np.ones(2)/10\n",
    "data['airco'].value_counts().plot(kind='pie', explode=space, fontsize=14, \n",
    "                                           autopct='%3.1f%%', wedgeprops=dict(width = 0.15), \n",
    "                                           shadow=True, startangle=160, figsize=[15, 7], \n",
    "                                           legend=True, labels=['', ''])\n",
    "plt.legend(['No', 'Yes'])\n",
    "plt.ylabel('Air Conditioning', size = 14)\n",
    "\n",
    "# Subplot for preferred area\n",
    "plt.subplot(2, 3, 6)\n",
    "space = np.ones(2)/10\n",
    "data['prefarea'].value_counts().plot(kind='pie', explode=space, fontsize=14, \n",
    "                                           autopct='%3.1f%%', wedgeprops=dict(width = 0.15), \n",
    "                                           shadow=True, startangle=160, figsize=[15, 7], \n",
    "                                           legend=True, labels=['', ''])\n",
    "plt.legend(['No', 'Yes'])\n",
    "plt.ylabel('Preferred Area', size = 14)\n",
    "plt.tight_layout()\n",
    "plt.show()"
   ]
  },
  {
   "cell_type": "code",
   "execution_count": 16,
   "metadata": {
    "scrolled": true
   },
   "outputs": [
    {
     "data": {
      "text/plain": [
       "Index(['price', 'lotsize', 'bedrooms', 'bathrms', 'stories', 'driveway',\n",
       "       'recroom', 'fullbase', 'gashw', 'airco', 'garagepl', 'prefarea'],\n",
       "      dtype='object')"
      ]
     },
     "execution_count": 16,
     "metadata": {},
     "output_type": "execute_result"
    }
   ],
   "source": [
    "data.columns"
   ]
  },
  {
   "cell_type": "code",
   "execution_count": 19,
   "metadata": {},
   "outputs": [
    {
     "data": {
      "text/plain": [
       "yes    468\n",
       "no      77\n",
       "Name: driveway, dtype: int64"
      ]
     },
     "execution_count": 19,
     "metadata": {},
     "output_type": "execute_result"
    }
   ],
   "source": [
    "data[\"driveway\"].value_counts()"
   ]
  },
  {
   "cell_type": "code",
   "execution_count": 20,
   "metadata": {
    "scrolled": false
   },
   "outputs": [
    {
     "name": "stdout",
     "output_type": "stream",
     "text": [
      "yes    468\n",
      "no      77\n",
      "Name: driveway, dtype: int64\n",
      "========================================\n",
      "no     448\n",
      "yes     97\n",
      "Name: recroom, dtype: int64\n",
      "========================================\n",
      "no     354\n",
      "yes    191\n",
      "Name: fullbase, dtype: int64\n",
      "========================================\n",
      "no     520\n",
      "yes     25\n",
      "Name: gashw, dtype: int64\n",
      "========================================\n",
      "no     373\n",
      "yes    172\n",
      "Name: airco, dtype: int64\n",
      "========================================\n",
      "no     417\n",
      "yes    128\n",
      "Name: prefarea, dtype: int64\n",
      "========================================\n"
     ]
    }
   ],
   "source": [
    "cols = [\"driveway\",\"recroom\",\"fullbase\",\"gashw\",\"airco\",\"prefarea\"]\n",
    "for i in cols:\n",
    "    print(data[i].value_counts())\n",
    "    print(\"=\"*40)"
   ]
  },
  {
   "cell_type": "code",
   "execution_count": 21,
   "metadata": {},
   "outputs": [
    {
     "name": "stdout",
     "output_type": "stream",
     "text": [
      "yes   0.86\n",
      "no    0.14\n",
      "Name: driveway, dtype: float64\n",
      "========================================\n",
      "no    0.82\n",
      "yes   0.18\n",
      "Name: recroom, dtype: float64\n",
      "========================================\n",
      "no    0.65\n",
      "yes   0.35\n",
      "Name: fullbase, dtype: float64\n",
      "========================================\n",
      "no    0.95\n",
      "yes   0.05\n",
      "Name: gashw, dtype: float64\n",
      "========================================\n",
      "no    0.68\n",
      "yes   0.32\n",
      "Name: airco, dtype: float64\n",
      "========================================\n",
      "no    0.77\n",
      "yes   0.23\n",
      "Name: prefarea, dtype: float64\n",
      "========================================\n"
     ]
    }
   ],
   "source": [
    "cols = [\"driveway\",\"recroom\",\"fullbase\",\"gashw\",\"airco\",\"prefarea\"]\n",
    "for i in cols:\n",
    "    print(data[i].value_counts(normalize=True))\n",
    "    print(\"=\"*40)"
   ]
  },
  {
   "cell_type": "markdown",
   "metadata": {
    "id": "kKepHV6F-bdN"
   },
   "source": [
    "<a name = Section7></a>\n",
    "\n",
    "---\n",
    "# **7. Post Data Processing & Feature Selection**\n",
    "---\n",
    "\n",
    "- In this section, we will perform **encoding** over **categorical** features and **feed** the result to the **Random Forest** model.\n",
    "\n",
    "- **Random Forest** will then **identify important features** for our model **using some threshold**.\n",
    "\n",
    "- This threshold is **used over** the **information gain** which results in **reduction in impurity**.\n",
    "\n",
    "- And **finally** we will **split** our **data** for the **model development**."
   ]
  },
  {
   "cell_type": "markdown",
   "metadata": {
    "id": "AVl5VfUj1MSB"
   },
   "source": [
    "<a name = Section71></a>\n",
    "### **7.1 Feature Encoding**\n",
    "\n",
    "- In this section, we will perform **transformation** of categorical features to numeric using **get_dummies()**.\n",
    "\n",
    "- We can observe that features such as driveway, recroom,\tfullbase,\tgashw,\tairco, prefarea are having binary values."
   ]
  },
  {
   "cell_type": "code",
   "execution_count": 22,
   "metadata": {
    "colab": {
     "base_uri": "https://localhost:8080/",
     "height": 224
    },
    "executionInfo": {
     "elapsed": 1243,
     "status": "ok",
     "timestamp": 1606912421453,
     "user": {
      "displayName": "Mukesh Kumar",
      "photoUrl": "https://lh3.googleusercontent.com/a-/AOh14GjTZH-ccUwdv--s75Iw1qfyi7gtUyH2m_-htD2e=s64",
      "userId": "01238672520445611335"
     },
     "user_tz": -330
    },
    "id": "EP0Jy-65xtGv",
    "outputId": "1d1c9ed3-b6bf-4009-9d61-d6000c4fb388"
   },
   "outputs": [
    {
     "data": {
      "text/html": [
       "<div>\n",
       "<style scoped>\n",
       "    .dataframe tbody tr th:only-of-type {\n",
       "        vertical-align: middle;\n",
       "    }\n",
       "\n",
       "    .dataframe tbody tr th {\n",
       "        vertical-align: top;\n",
       "    }\n",
       "\n",
       "    .dataframe thead th {\n",
       "        text-align: right;\n",
       "    }\n",
       "</style>\n",
       "<table border=\"1\" class=\"dataframe\">\n",
       "  <thead>\n",
       "    <tr style=\"text-align: right;\">\n",
       "      <th></th>\n",
       "      <th>price</th>\n",
       "      <th>lotsize</th>\n",
       "      <th>bedrooms</th>\n",
       "      <th>bathrms</th>\n",
       "      <th>stories</th>\n",
       "      <th>garagepl</th>\n",
       "      <th>driveway_no</th>\n",
       "      <th>driveway_yes</th>\n",
       "      <th>recroom_no</th>\n",
       "      <th>recroom_yes</th>\n",
       "      <th>fullbase_no</th>\n",
       "      <th>fullbase_yes</th>\n",
       "      <th>gashw_no</th>\n",
       "      <th>gashw_yes</th>\n",
       "      <th>airco_no</th>\n",
       "      <th>airco_yes</th>\n",
       "      <th>prefarea_no</th>\n",
       "      <th>prefarea_yes</th>\n",
       "    </tr>\n",
       "  </thead>\n",
       "  <tbody>\n",
       "    <tr>\n",
       "      <th>0</th>\n",
       "      <td>42000.00</td>\n",
       "      <td>5850</td>\n",
       "      <td>3</td>\n",
       "      <td>1</td>\n",
       "      <td>2</td>\n",
       "      <td>1</td>\n",
       "      <td>0</td>\n",
       "      <td>1</td>\n",
       "      <td>1</td>\n",
       "      <td>0</td>\n",
       "      <td>0</td>\n",
       "      <td>1</td>\n",
       "      <td>1</td>\n",
       "      <td>0</td>\n",
       "      <td>1</td>\n",
       "      <td>0</td>\n",
       "      <td>1</td>\n",
       "      <td>0</td>\n",
       "    </tr>\n",
       "    <tr>\n",
       "      <th>1</th>\n",
       "      <td>38500.00</td>\n",
       "      <td>4000</td>\n",
       "      <td>2</td>\n",
       "      <td>1</td>\n",
       "      <td>1</td>\n",
       "      <td>0</td>\n",
       "      <td>0</td>\n",
       "      <td>1</td>\n",
       "      <td>1</td>\n",
       "      <td>0</td>\n",
       "      <td>1</td>\n",
       "      <td>0</td>\n",
       "      <td>1</td>\n",
       "      <td>0</td>\n",
       "      <td>1</td>\n",
       "      <td>0</td>\n",
       "      <td>1</td>\n",
       "      <td>0</td>\n",
       "    </tr>\n",
       "    <tr>\n",
       "      <th>2</th>\n",
       "      <td>49500.00</td>\n",
       "      <td>3060</td>\n",
       "      <td>3</td>\n",
       "      <td>1</td>\n",
       "      <td>1</td>\n",
       "      <td>0</td>\n",
       "      <td>0</td>\n",
       "      <td>1</td>\n",
       "      <td>1</td>\n",
       "      <td>0</td>\n",
       "      <td>1</td>\n",
       "      <td>0</td>\n",
       "      <td>1</td>\n",
       "      <td>0</td>\n",
       "      <td>1</td>\n",
       "      <td>0</td>\n",
       "      <td>1</td>\n",
       "      <td>0</td>\n",
       "    </tr>\n",
       "    <tr>\n",
       "      <th>3</th>\n",
       "      <td>60500.00</td>\n",
       "      <td>6650</td>\n",
       "      <td>3</td>\n",
       "      <td>1</td>\n",
       "      <td>2</td>\n",
       "      <td>0</td>\n",
       "      <td>0</td>\n",
       "      <td>1</td>\n",
       "      <td>0</td>\n",
       "      <td>1</td>\n",
       "      <td>1</td>\n",
       "      <td>0</td>\n",
       "      <td>1</td>\n",
       "      <td>0</td>\n",
       "      <td>1</td>\n",
       "      <td>0</td>\n",
       "      <td>1</td>\n",
       "      <td>0</td>\n",
       "    </tr>\n",
       "    <tr>\n",
       "      <th>4</th>\n",
       "      <td>61000.00</td>\n",
       "      <td>6360</td>\n",
       "      <td>2</td>\n",
       "      <td>1</td>\n",
       "      <td>1</td>\n",
       "      <td>0</td>\n",
       "      <td>0</td>\n",
       "      <td>1</td>\n",
       "      <td>1</td>\n",
       "      <td>0</td>\n",
       "      <td>1</td>\n",
       "      <td>0</td>\n",
       "      <td>1</td>\n",
       "      <td>0</td>\n",
       "      <td>1</td>\n",
       "      <td>0</td>\n",
       "      <td>1</td>\n",
       "      <td>0</td>\n",
       "    </tr>\n",
       "  </tbody>\n",
       "</table>\n",
       "</div>"
      ],
      "text/plain": [
       "     price  lotsize  bedrooms  bathrms  stories  garagepl  driveway_no  \\\n",
       "0 42000.00     5850         3        1        2         1            0   \n",
       "1 38500.00     4000         2        1        1         0            0   \n",
       "2 49500.00     3060         3        1        1         0            0   \n",
       "3 60500.00     6650         3        1        2         0            0   \n",
       "4 61000.00     6360         2        1        1         0            0   \n",
       "\n",
       "   driveway_yes  recroom_no  recroom_yes  fullbase_no  fullbase_yes  gashw_no  \\\n",
       "0             1           1            0            0             1         1   \n",
       "1             1           1            0            1             0         1   \n",
       "2             1           1            0            1             0         1   \n",
       "3             1           0            1            1             0         1   \n",
       "4             1           1            0            1             0         1   \n",
       "\n",
       "   gashw_yes  airco_no  airco_yes  prefarea_no  prefarea_yes  \n",
       "0          0         1          0            1             0  \n",
       "1          0         1          0            1             0  \n",
       "2          0         1          0            1             0  \n",
       "3          0         1          0            1             0  \n",
       "4          0         1          0            1             0  "
      ]
     },
     "execution_count": 22,
     "metadata": {},
     "output_type": "execute_result"
    }
   ],
   "source": [
    "data = pd.get_dummies(data = data, columns = ['driveway', 'recroom', 'fullbase', 'gashw', 'airco', 'prefarea'])\n",
    "data.head()"
   ]
  },
  {
   "cell_type": "code",
   "execution_count": 23,
   "metadata": {},
   "outputs": [
    {
     "data": {
      "text/plain": [
       "18"
      ]
     },
     "execution_count": 23,
     "metadata": {},
     "output_type": "execute_result"
    }
   ],
   "source": [
    "len(data.columns)"
   ]
  },
  {
   "cell_type": "markdown",
   "metadata": {
    "id": "SUp1EAkG6Jyn"
   },
   "source": [
    "- Before diving further, we will **create** a **categorical feature** using the **price** feature.\n",
    "\n",
    "- We will be **performing** **ensemble** methods on **classes** instead of numerical values."
   ]
  },
  {
   "cell_type": "code",
   "execution_count": 24,
   "metadata": {},
   "outputs": [
    {
     "data": {
      "image/png": "[encoded data removed]",
      "text/plain": [
       "<Figure size 576x396 with 1 Axes>"
      ]
     },
     "metadata": {},
     "output_type": "display_data"
    }
   ],
   "source": [
    "sns.distplot(data.price)\n",
    "plt.axvline(data.price.mean(), color=\"black\")\n",
    "plt.axvline(data.price.quantile(0.33), color=\"green\")\n",
    "plt.axvline(data.price.quantile(0.66), color=\"green\")\n",
    "plt.axvline(data.price.quantile(1.), color=\"green\")\n",
    "plt.axvline(data.price.median(), color=\"red\")\n",
    "plt.show()"
   ]
  },
  {
   "cell_type": "code",
   "execution_count": 25,
   "metadata": {
    "colab": {
     "base_uri": "https://localhost:8080/",
     "height": 292
    },
    "executionInfo": {
     "elapsed": 1231,
     "status": "ok",
     "timestamp": 1606912421458,
     "user": {
      "displayName": "Mukesh Kumar",
      "photoUrl": "https://lh3.googleusercontent.com/a-/AOh14GjTZH-ccUwdv--s75Iw1qfyi7gtUyH2m_-htD2e=s64",
      "userId": "01238672520445611335"
     },
     "user_tz": -330
    },
    "id": "UegAR2GgvaRY",
    "outputId": "30704233-fc69-47d7-f5b2-c5f2413ee123"
   },
   "outputs": [
    {
     "name": "stdout",
     "output_type": "stream",
     "text": [
      "High      184\n",
      "Low       181\n",
      "Medium    180\n",
      "Name: price_cat, dtype: int64\n"
     ]
    },
    {
     "data": {
      "text/html": [
       "<div>\n",
       "<style scoped>\n",
       "    .dataframe tbody tr th:only-of-type {\n",
       "        vertical-align: middle;\n",
       "    }\n",
       "\n",
       "    .dataframe tbody tr th {\n",
       "        vertical-align: top;\n",
       "    }\n",
       "\n",
       "    .dataframe thead th {\n",
       "        text-align: right;\n",
       "    }\n",
       "</style>\n",
       "<table border=\"1\" class=\"dataframe\">\n",
       "  <thead>\n",
       "    <tr style=\"text-align: right;\">\n",
       "      <th></th>\n",
       "      <th>lotsize</th>\n",
       "      <th>bedrooms</th>\n",
       "      <th>bathrms</th>\n",
       "      <th>stories</th>\n",
       "      <th>garagepl</th>\n",
       "      <th>driveway_no</th>\n",
       "      <th>driveway_yes</th>\n",
       "      <th>recroom_no</th>\n",
       "      <th>recroom_yes</th>\n",
       "      <th>fullbase_no</th>\n",
       "      <th>fullbase_yes</th>\n",
       "      <th>gashw_no</th>\n",
       "      <th>gashw_yes</th>\n",
       "      <th>airco_no</th>\n",
       "      <th>airco_yes</th>\n",
       "      <th>prefarea_no</th>\n",
       "      <th>prefarea_yes</th>\n",
       "      <th>price_cat</th>\n",
       "    </tr>\n",
       "  </thead>\n",
       "  <tbody>\n",
       "    <tr>\n",
       "      <th>0</th>\n",
       "      <td>5850</td>\n",
       "      <td>3</td>\n",
       "      <td>1</td>\n",
       "      <td>2</td>\n",
       "      <td>1</td>\n",
       "      <td>0</td>\n",
       "      <td>1</td>\n",
       "      <td>1</td>\n",
       "      <td>0</td>\n",
       "      <td>0</td>\n",
       "      <td>1</td>\n",
       "      <td>1</td>\n",
       "      <td>0</td>\n",
       "      <td>1</td>\n",
       "      <td>0</td>\n",
       "      <td>1</td>\n",
       "      <td>0</td>\n",
       "      <td>Low</td>\n",
       "    </tr>\n",
       "    <tr>\n",
       "      <th>1</th>\n",
       "      <td>4000</td>\n",
       "      <td>2</td>\n",
       "      <td>1</td>\n",
       "      <td>1</td>\n",
       "      <td>0</td>\n",
       "      <td>0</td>\n",
       "      <td>1</td>\n",
       "      <td>1</td>\n",
       "      <td>0</td>\n",
       "      <td>1</td>\n",
       "      <td>0</td>\n",
       "      <td>1</td>\n",
       "      <td>0</td>\n",
       "      <td>1</td>\n",
       "      <td>0</td>\n",
       "      <td>1</td>\n",
       "      <td>0</td>\n",
       "      <td>Low</td>\n",
       "    </tr>\n",
       "    <tr>\n",
       "      <th>2</th>\n",
       "      <td>3060</td>\n",
       "      <td>3</td>\n",
       "      <td>1</td>\n",
       "      <td>1</td>\n",
       "      <td>0</td>\n",
       "      <td>0</td>\n",
       "      <td>1</td>\n",
       "      <td>1</td>\n",
       "      <td>0</td>\n",
       "      <td>1</td>\n",
       "      <td>0</td>\n",
       "      <td>1</td>\n",
       "      <td>0</td>\n",
       "      <td>1</td>\n",
       "      <td>0</td>\n",
       "      <td>1</td>\n",
       "      <td>0</td>\n",
       "      <td>Low</td>\n",
       "    </tr>\n",
       "    <tr>\n",
       "      <th>3</th>\n",
       "      <td>6650</td>\n",
       "      <td>3</td>\n",
       "      <td>1</td>\n",
       "      <td>2</td>\n",
       "      <td>0</td>\n",
       "      <td>0</td>\n",
       "      <td>1</td>\n",
       "      <td>0</td>\n",
       "      <td>1</td>\n",
       "      <td>1</td>\n",
       "      <td>0</td>\n",
       "      <td>1</td>\n",
       "      <td>0</td>\n",
       "      <td>1</td>\n",
       "      <td>0</td>\n",
       "      <td>1</td>\n",
       "      <td>0</td>\n",
       "      <td>Medium</td>\n",
       "    </tr>\n",
       "    <tr>\n",
       "      <th>4</th>\n",
       "      <td>6360</td>\n",
       "      <td>2</td>\n",
       "      <td>1</td>\n",
       "      <td>1</td>\n",
       "      <td>0</td>\n",
       "      <td>0</td>\n",
       "      <td>1</td>\n",
       "      <td>1</td>\n",
       "      <td>0</td>\n",
       "      <td>1</td>\n",
       "      <td>0</td>\n",
       "      <td>1</td>\n",
       "      <td>0</td>\n",
       "      <td>1</td>\n",
       "      <td>0</td>\n",
       "      <td>1</td>\n",
       "      <td>0</td>\n",
       "      <td>Medium</td>\n",
       "    </tr>\n",
       "  </tbody>\n",
       "</table>\n",
       "</div>"
      ],
      "text/plain": [
       "   lotsize  bedrooms  bathrms  stories  garagepl  driveway_no  driveway_yes  \\\n",
       "0     5850         3        1        2         1            0             1   \n",
       "1     4000         2        1        1         0            0             1   \n",
       "2     3060         3        1        1         0            0             1   \n",
       "3     6650         3        1        2         0            0             1   \n",
       "4     6360         2        1        1         0            0             1   \n",
       "\n",
       "   recroom_no  recroom_yes  fullbase_no  fullbase_yes  gashw_no  gashw_yes  \\\n",
       "0           1            0            0             1         1          0   \n",
       "1           1            0            1             0         1          0   \n",
       "2           1            0            1             0         1          0   \n",
       "3           0            1            1             0         1          0   \n",
       "4           1            0            1             0         1          0   \n",
       "\n",
       "   airco_no  airco_yes  prefarea_no  prefarea_yes price_cat  \n",
       "0         1          0            1             0       Low  \n",
       "1         1          0            1             0       Low  \n",
       "2         1          0            1             0       Low  \n",
       "3         1          0            1             0    Medium  \n",
       "4         1          0            1             0    Medium  "
      ]
     },
     "execution_count": 25,
     "metadata": {},
     "output_type": "execute_result"
    }
   ],
   "source": [
    "# Adaptive Binning\n",
    "\n",
    "quantile33 = data['price'].quantile(0.33)\n",
    "quantile66 = data['price'].quantile(0.66)\n",
    "quantile100 = data['price'].quantile(1)\n",
    "\n",
    "data['price_cat'] = pd.cut(data['price'], bins=[0, quantile33, quantile66, quantile100], labels=['Low', 'Medium', 'High'])\n",
    "\n",
    "data.drop(labels='price', axis=1, inplace=True)\n",
    "\n",
    "print(data['price_cat'].value_counts())\n",
    "\n",
    "data.head()"
   ]
  },
  {
   "cell_type": "markdown",
   "metadata": {
    "id": "h6SzqQhj84BN"
   },
   "source": [
    "**Observation:**\n",
    "\n",
    "- We have **successfully** **converted** our **categorical** features to numeric using dummy encoding.\n",
    "\n",
    "- We can see that the **frequency** distribution of the **price** feature is approx. **normal**.\n",
    "\n",
    "- In such case, we can rely on **accuracy** as a metric to **evaluate** our model."
   ]
  },
  {
   "cell_type": "markdown",
   "metadata": {
    "id": "aiBcl5GZ5EbX"
   },
   "source": [
    "<a name = Section72></a>\n",
    "### **7.2 Feature Selection**\n",
    "\n",
    "- Now in the real world, it is very rare that all the **features** are **important** while developing the **model**.\n",
    "\n",
    "- Instead, we analyze the **impact** of **input** feature values over the **target** feature values.\n",
    "\n",
    "- It is either done by performing **statistical tests** (Pearson, ANOVA, Chi-Square) or by using **Random Forest**.\n",
    "\n",
    "- Random forests are one of the most **popular** machine learning **algorithms**.\n",
    "\n",
    "- The provide a good predictive performance, low overfitting, and easy interpretability.\n",
    "\n",
    "- This **interpretability** is derived from the importance of each feature on the tree decision evaluated the **reduction in impurity**.\n",
    "\n",
    "- In other words, it is **easy** to **compute** how much each feature is **contributing** to the decision.\n",
    "\n",
    "- We will implement **SelectFromModel()** available in Sklearn which uses the base estimator to identify important features.\n",
    "\n",
    "- The importance of a feature is determined based on **threshold** (a measure to calculate feature importance).\n"
   ]
  },
  {
   "cell_type": "code",
   "execution_count": 26,
   "metadata": {
    "id": "CG9lR9Y0vaHn"
   },
   "outputs": [],
   "source": [
    "X = data.drop('price_cat', axis = 1)\n",
    "y = data['price_cat']"
   ]
  },
  {
   "cell_type": "code",
   "execution_count": 27,
   "metadata": {},
   "outputs": [
    {
     "data": {
      "text/plain": [
       "SelectFromModel(estimator=RandomForestClassifier(n_jobs=-1, random_state=42))"
      ]
     },
     "execution_count": 27,
     "metadata": {},
     "output_type": "execute_result"
    }
   ],
   "source": [
    "# Have some patience, may take some time :)\n",
    "selector = SelectFromModel(RandomForestClassifier(n_estimators = 100, random_state = 42, n_jobs = -1))\n",
    "selector.fit(X, y)"
   ]
  },
  {
   "cell_type": "code",
   "execution_count": 29,
   "metadata": {},
   "outputs": [
    {
     "data": {
      "text/plain": [
       "array([ True,  True,  True,  True,  True, False, False, False, False,\n",
       "       False, False, False, False, False, False, False, False])"
      ]
     },
     "execution_count": 29,
     "metadata": {},
     "output_type": "execute_result"
    }
   ],
   "source": [
    "selector.get_support()"
   ]
  },
  {
   "cell_type": "code",
   "execution_count": 30,
   "metadata": {
    "scrolled": false
   },
   "outputs": [
    {
     "data": {
      "text/plain": [
       "Index(['lotsize', 'bedrooms', 'bathrms', 'stories', 'garagepl', 'driveway_no',\n",
       "       'driveway_yes', 'recroom_no', 'recroom_yes', 'fullbase_no',\n",
       "       'fullbase_yes', 'gashw_no', 'gashw_yes', 'airco_no', 'airco_yes',\n",
       "       'prefarea_no', 'prefarea_yes'],\n",
       "      dtype='object')"
      ]
     },
     "execution_count": 30,
     "metadata": {},
     "output_type": "execute_result"
    }
   ],
   "source": [
    "X.columns"
   ]
  },
  {
   "cell_type": "code",
   "execution_count": 31,
   "metadata": {
    "scrolled": true
   },
   "outputs": [
    {
     "data": {
      "text/plain": [
       "True"
      ]
     },
     "execution_count": 31,
     "metadata": {},
     "output_type": "execute_result"
    }
   ],
   "source": [
    "len(X.columns) == len(selector.get_support())"
   ]
  },
  {
   "cell_type": "code",
   "execution_count": 32,
   "metadata": {},
   "outputs": [
    {
     "data": {
      "text/plain": [
       "Index(['lotsize', 'bedrooms', 'bathrms', 'stories', 'garagepl'], dtype='object')"
      ]
     },
     "execution_count": 32,
     "metadata": {},
     "output_type": "execute_result"
    }
   ],
   "source": [
    "X.columns[(selector.get_support())]"
   ]
  },
  {
   "cell_type": "code",
   "execution_count": 33,
   "metadata": {
    "colab": {
     "base_uri": "https://localhost:8080/"
    },
    "executionInfo": {
     "elapsed": 1593,
     "status": "ok",
     "timestamp": 1606912421837,
     "user": {
      "displayName": "Mukesh Kumar",
      "photoUrl": "https://lh3.googleusercontent.com/a-/AOh14GjTZH-ccUwdv--s75Iw1qfyi7gtUyH2m_-htD2e=s64",
      "userId": "01238672520445611335"
     },
     "user_tz": -330
    },
    "id": "KHCI1GkV613P",
    "outputId": "b24ab9e5-a14f-42c2-b634-6d1aeea2ecb1"
   },
   "outputs": [
    {
     "name": "stdout",
     "output_type": "stream",
     "text": [
      "Total Features Selected are 5\n",
      "Threshold set by Model: 0.06\n",
      "Important Features: ['lotsize', 'bedrooms', 'bathrms', 'stories', 'garagepl']\n"
     ]
    }
   ],
   "source": [
    "# Extracting list of important features\n",
    "selected_feat = X.columns[(selector.get_support())].tolist()\n",
    "\n",
    "# Show total number of important features extracted by the model\n",
    "print('Total Features Selected are', len(selected_feat))\n",
    "\n",
    "# Estimated by taking mean(default) of feature importance\n",
    "print('Threshold set by Model:', np.round(selector.threshold_, decimals = 2))\n",
    "print('Important Features:', selected_feat)"
   ]
  },
  {
   "cell_type": "markdown",
   "metadata": {
    "id": "MR53ovai66V2"
   },
   "source": [
    "**Visualzation of Important Features:**\n",
    "\n",
    "- Below features are plotted against their relative importance (in %age),  of each feature."
   ]
  },
  {
   "cell_type": "code",
   "execution_count": 34,
   "metadata": {},
   "outputs": [
    {
     "data": {
      "text/plain": [
       "RandomForestClassifier(n_jobs=-1, random_state=42)"
      ]
     },
     "execution_count": 34,
     "metadata": {},
     "output_type": "execute_result"
    }
   ],
   "source": [
    "selector.estimator"
   ]
  },
  {
   "cell_type": "code",
   "execution_count": 35,
   "metadata": {
    "colab": {
     "base_uri": "https://localhost:8080/",
     "height": 519
    },
    "executionInfo": {
     "elapsed": 2650,
     "status": "ok",
     "timestamp": 1606912422910,
     "user": {
      "displayName": "Mukesh Kumar",
      "photoUrl": "https://lh3.googleusercontent.com/a-/AOh14GjTZH-ccUwdv--s75Iw1qfyi7gtUyH2m_-htD2e=s64",
      "userId": "01238672520445611335"
     },
     "user_tz": -330
    },
    "id": "4nZ23vFm66KG",
    "outputId": "cc8c28e6-ffa3-4ae6-b162-bde56fe74724",
    "scrolled": false
   },
   "outputs": [
    {
     "data": {
      "image/png": "[encoded data removed]",
      "text/plain": [
       "<Figure size 1080x576 with 1 Axes>"
      ]
     },
     "metadata": {},
     "output_type": "display_data"
    }
   ],
   "source": [
    "# Have some patience, may take some time :)\n",
    "figure = plt.figure(figsize = [15, 8])\n",
    "\n",
    "# If you don't want relative importance, use relative = False in below method\n",
    "viz = FeatureImportances(selector.estimator, relative = False)\n",
    "viz.fit(X, y)\n",
    "\n",
    "plt.xlabel('Relative Importance', size = 14)\n",
    "plt.ylabel('Features', size = 14)\n",
    "plt.title(label = 'Feature Importances', size = 16)\n",
    "plt.show()"
   ]
  },
  {
   "cell_type": "code",
   "execution_count": 36,
   "metadata": {},
   "outputs": [
    {
     "data": {
      "image/png": "[encoded data removed]",
      "text/plain": [
       "<Figure size 1080x576 with 1 Axes>"
      ]
     },
     "metadata": {},
     "output_type": "display_data"
    }
   ],
   "source": [
    "# Have some patience, may take some time :)\n",
    "figure = plt.figure(figsize = [15, 8])\n",
    "\n",
    "# If you don't want relative importance, use relative = False in below method\n",
    "viz = FeatureImportances(selector.estimator, relative = True)\n",
    "viz.fit(X, y)\n",
    "\n",
    "plt.xlabel('Relative Importance', size = 14)\n",
    "plt.ylabel('Features', size = 14)\n",
    "plt.title(label = 'Feature Importances', size = 16)\n",
    "plt.show()"
   ]
  },
  {
   "cell_type": "markdown",
   "metadata": {
    "id": "8HGTc4Jf8tGQ"
   },
   "source": [
    "<a name = Section73></a>\n",
    "### **7.3 Data Preparation**\n",
    "\n",
    "- Now we will **split** our **data** in **training** and **testing** part for further development."
   ]
  },
  {
   "cell_type": "code",
   "execution_count": 37,
   "metadata": {
    "colab": {
     "base_uri": "https://localhost:8080/"
    },
    "executionInfo": {
     "elapsed": 2638,
     "status": "ok",
     "timestamp": 1606912422912,
     "user": {
      "displayName": "Mukesh Kumar",
      "photoUrl": "https://lh3.googleusercontent.com/a-/AOh14GjTZH-ccUwdv--s75Iw1qfyi7gtUyH2m_-htD2e=s64",
      "userId": "01238672520445611335"
     },
     "user_tz": -330
    },
    "id": "KBRYduiA8s7w",
    "outputId": "1338200a-0eb2-40ce-aae1-4d7022076ff4"
   },
   "outputs": [
    {
     "name": "stdout",
     "output_type": "stream",
     "text": [
      "Training Data Shape: (436, 17) (436,)\n",
      "Testing Data Shape: (109, 17) (109,)\n"
     ]
    }
   ],
   "source": [
    "X_train, X_test, y_train, y_test = train_test_split(X, y, test_size = 0.2, random_state = 42, stratify = y)\n",
    "\n",
    "print('Training Data Shape:', X_train.shape, y_train.shape)\n",
    "print('Testing Data Shape:', X_test.shape, y_test.shape)"
   ]
  },
  {
   "cell_type": "markdown",
   "metadata": {
    "id": "u243x6hFWw8w"
   },
   "source": [
    "**Observation:**\n",
    "\n",
    "- Now that we have split our data we are **ready** to move to the **next part** and that is Model Development & Evaluation."
   ]
  },
  {
   "cell_type": "markdown",
   "metadata": {
    "id": "kdq_ycR4-kOO"
   },
   "source": [
    "<a name = Section8></a>\n",
    "\n",
    "---\n",
    "# **8. Model Development & Evaluation**\n",
    "---\n",
    "\n",
    "- In this section we will develop variety of models such as: \n",
    "\n",
    "|Logistic Regression|Decision Tree|Random Forest|Bagging|Adaptive Boosting|Gradient Boosting|Voting Classifier|\n",
    "|:--|:--|:--|:--|:--|:--|:--|\n",
    "\n",
    "- For estimating the **performance** of the **model** we will be using **accuracy** as a **metric**.\n",
    "\n",
    "- Considering the complexity of data, we can run a **loop** over multiple **classifiers** and estimate the accuracy of the model.\n",
    "\n",
    "- __But in a real-life situation, one must train the model individually as then decide which model is best in which situation.__"
   ]
  },
  {
   "cell_type": "code",
   "execution_count": 38,
   "metadata": {
    "id": "9_CEv0s1O_e6"
   },
   "outputs": [],
   "source": [
    "# Initialize classifiers\n",
    "log_clf = LogisticRegression(random_state = 42, class_weight='balanced')\n",
    "\n",
    "sv_clf = SVC(random_state=42, class_weight='balanced', probability=True)\n",
    "\n",
    "dt_clf = DecisionTreeClassifier(random_state = 42, class_weight='balanced')\n",
    "\n",
    "bag_clf = BaggingClassifier(base_estimator=dt_clf, n_estimators=500, n_jobs=-1, random_state=42)\n",
    "\n",
    "rf_clf = RandomForestClassifier(n_estimators=500, random_state = 42, class_weight='balanced', n_jobs=-1)\n",
    "\n",
    "voting_clf = VotingClassifier(estimators=[('lr', log_clf), ('rf', rf_clf), ('dt', dt_clf), ('svc', sv_clf)], voting='soft')\n",
    "\n",
    "ada_clf = AdaBoostClassifier(base_estimator=dt_clf, n_estimators=500, random_state=42)\n",
    "\n",
    "gb_clf = GradientBoostingClassifier(n_estimators=500, random_state = 42)"
   ]
  },
  {
   "cell_type": "code",
   "execution_count": 39,
   "metadata": {
    "id": "aVHnkodbR_MZ"
   },
   "outputs": [
    {
     "name": "stdout",
     "output_type": "stream",
     "text": [
      "Success!\n",
      "CPU times: user 3.05 s, sys: 412 ms, total: 3.46 s\n",
      "Wall time: 4.07 s\n"
     ]
    }
   ],
   "source": [
    "%%time\n",
    "# Intialize a list of classifier objects\n",
    "clf_list = [log_clf, sv_clf, dt_clf, bag_clf, voting_clf, rf_clf, ada_clf, gb_clf]\n",
    "\n",
    "# Create an empty list to append scores and classifier name\n",
    "train_scores = []\n",
    "test_scores = []\n",
    "clf_names = []\n",
    "\n",
    "# Train classifier over train data and append scores to empty list\n",
    "for clf in clf_list:\n",
    "  # Fit the train data over the classifier object\n",
    "  clf.fit(X_train, y_train)\n",
    "\n",
    "  # Append train and test score to the empty list\n",
    "  train_scores.append(np.round(a=clf.score(X_train, y_train), decimals=2))\n",
    "  test_scores.append(np.round(a=clf.score(X_test, y_test), decimals=2))\n",
    "  clf_names.append(clf.__class__.__name__)\n",
    "\n",
    "print('Success!')"
   ]
  },
  {
   "cell_type": "code",
   "execution_count": 40,
   "metadata": {},
   "outputs": [
    {
     "data": {
      "text/plain": [
       "([0.67, 0.56, 0.99, 0.99, 0.99, 0.99, 0.99, 0.99],\n",
       " [0.68, 0.59, 0.58, 0.68, 0.66, 0.68, 0.69, 0.66],\n",
       " ['LogisticRegression',\n",
       "  'SVC',\n",
       "  'DecisionTreeClassifier',\n",
       "  'BaggingClassifier',\n",
       "  'VotingClassifier',\n",
       "  'RandomForestClassifier',\n",
       "  'AdaBoostClassifier',\n",
       "  'GradientBoostingClassifier'])"
      ]
     },
     "execution_count": 40,
     "metadata": {},
     "output_type": "execute_result"
    }
   ],
   "source": [
    "train_scores, test_scores, clf_names"
   ]
  },
  {
   "cell_type": "code",
   "execution_count": 41,
   "metadata": {
    "colab": {
     "base_uri": "https://localhost:8080/",
     "height": 165
    },
    "executionInfo": {
     "elapsed": 12544,
     "status": "ok",
     "timestamp": 1606912432848,
     "user": {
      "displayName": "Mukesh Kumar",
      "photoUrl": "https://lh3.googleusercontent.com/a-/AOh14GjTZH-ccUwdv--s75Iw1qfyi7gtUyH2m_-htD2e=s64",
      "userId": "01238672520445611335"
     },
     "user_tz": -330
    },
    "id": "yVbxh3DmU1dA",
    "outputId": "92670a6d-12ba-4b3d-e4df-9971a917aecf"
   },
   "outputs": [
    {
     "data": {
      "text/html": [
       "<div>\n",
       "<style scoped>\n",
       "    .dataframe tbody tr th:only-of-type {\n",
       "        vertical-align: middle;\n",
       "    }\n",
       "\n",
       "    .dataframe tbody tr th {\n",
       "        vertical-align: top;\n",
       "    }\n",
       "\n",
       "    .dataframe thead th {\n",
       "        text-align: right;\n",
       "    }\n",
       "</style>\n",
       "<table border=\"1\" class=\"dataframe\">\n",
       "  <thead>\n",
       "    <tr style=\"text-align: right;\">\n",
       "      <th></th>\n",
       "      <th>Train Accuracy</th>\n",
       "      <th>Test Accuracy</th>\n",
       "    </tr>\n",
       "  </thead>\n",
       "  <tbody>\n",
       "    <tr>\n",
       "      <th>LogisticRegression</th>\n",
       "      <td>0.67</td>\n",
       "      <td>0.68</td>\n",
       "    </tr>\n",
       "    <tr>\n",
       "      <th>SVC</th>\n",
       "      <td>0.56</td>\n",
       "      <td>0.59</td>\n",
       "    </tr>\n",
       "    <tr>\n",
       "      <th>DecisionTreeClassifier</th>\n",
       "      <td>0.99</td>\n",
       "      <td>0.58</td>\n",
       "    </tr>\n",
       "    <tr>\n",
       "      <th>BaggingClassifier</th>\n",
       "      <td>0.99</td>\n",
       "      <td>0.68</td>\n",
       "    </tr>\n",
       "    <tr>\n",
       "      <th>VotingClassifier</th>\n",
       "      <td>0.99</td>\n",
       "      <td>0.66</td>\n",
       "    </tr>\n",
       "    <tr>\n",
       "      <th>RandomForestClassifier</th>\n",
       "      <td>0.99</td>\n",
       "      <td>0.68</td>\n",
       "    </tr>\n",
       "    <tr>\n",
       "      <th>AdaBoostClassifier</th>\n",
       "      <td>0.99</td>\n",
       "      <td>0.69</td>\n",
       "    </tr>\n",
       "    <tr>\n",
       "      <th>GradientBoostingClassifier</th>\n",
       "      <td>0.99</td>\n",
       "      <td>0.66</td>\n",
       "    </tr>\n",
       "  </tbody>\n",
       "</table>\n",
       "</div>"
      ],
      "text/plain": [
       "                            Train Accuracy  Test Accuracy\n",
       "LogisticRegression                    0.67           0.68\n",
       "SVC                                   0.56           0.59\n",
       "DecisionTreeClassifier                0.99           0.58\n",
       "BaggingClassifier                     0.99           0.68\n",
       "VotingClassifier                      0.99           0.66\n",
       "RandomForestClassifier                0.99           0.68\n",
       "AdaBoostClassifier                    0.99           0.69\n",
       "GradientBoostingClassifier            0.99           0.66"
      ]
     },
     "execution_count": 41,
     "metadata": {},
     "output_type": "execute_result"
    }
   ],
   "source": [
    "# Create an accuracy dataframe from scores and names list\n",
    "accuracy_frame = pd.DataFrame(data={'Train Accuracy': train_scores, 'Test Accuracy': test_scores}, index=clf_names)\n",
    "\n",
    "accuracy_frame"
   ]
  },
  {
   "cell_type": "code",
   "execution_count": 42,
   "metadata": {},
   "outputs": [
    {
     "data": {
      "text/html": [
       "<div>\n",
       "<style scoped>\n",
       "    .dataframe tbody tr th:only-of-type {\n",
       "        vertical-align: middle;\n",
       "    }\n",
       "\n",
       "    .dataframe tbody tr th {\n",
       "        vertical-align: top;\n",
       "    }\n",
       "\n",
       "    .dataframe thead th {\n",
       "        text-align: right;\n",
       "    }\n",
       "</style>\n",
       "<table border=\"1\" class=\"dataframe\">\n",
       "  <thead>\n",
       "    <tr style=\"text-align: right;\">\n",
       "      <th></th>\n",
       "      <th>LogisticRegression</th>\n",
       "      <th>SVC</th>\n",
       "      <th>DecisionTreeClassifier</th>\n",
       "      <th>BaggingClassifier</th>\n",
       "      <th>VotingClassifier</th>\n",
       "      <th>RandomForestClassifier</th>\n",
       "      <th>AdaBoostClassifier</th>\n",
       "      <th>GradientBoostingClassifier</th>\n",
       "    </tr>\n",
       "  </thead>\n",
       "  <tbody>\n",
       "    <tr>\n",
       "      <th>Train Accuracy</th>\n",
       "      <td>0.67</td>\n",
       "      <td>0.56</td>\n",
       "      <td>0.99</td>\n",
       "      <td>0.99</td>\n",
       "      <td>0.99</td>\n",
       "      <td>0.99</td>\n",
       "      <td>0.99</td>\n",
       "      <td>0.99</td>\n",
       "    </tr>\n",
       "    <tr>\n",
       "      <th>Test Accuracy</th>\n",
       "      <td>0.68</td>\n",
       "      <td>0.59</td>\n",
       "      <td>0.58</td>\n",
       "      <td>0.68</td>\n",
       "      <td>0.66</td>\n",
       "      <td>0.68</td>\n",
       "      <td>0.69</td>\n",
       "      <td>0.66</td>\n",
       "    </tr>\n",
       "  </tbody>\n",
       "</table>\n",
       "</div>"
      ],
      "text/plain": [
       "                LogisticRegression  SVC  DecisionTreeClassifier  \\\n",
       "Train Accuracy                0.67 0.56                    0.99   \n",
       "Test Accuracy                 0.68 0.59                    0.58   \n",
       "\n",
       "                BaggingClassifier  VotingClassifier  RandomForestClassifier  \\\n",
       "Train Accuracy               0.99              0.99                    0.99   \n",
       "Test Accuracy                0.68              0.66                    0.68   \n",
       "\n",
       "                AdaBoostClassifier  GradientBoostingClassifier  \n",
       "Train Accuracy                0.99                        0.99  \n",
       "Test Accuracy                 0.69                        0.66  "
      ]
     },
     "execution_count": 42,
     "metadata": {},
     "output_type": "execute_result"
    }
   ],
   "source": [
    "# View the accuracy of all the classifiers\n",
    "accuracy_frame.transpose()"
   ]
  },
  {
   "cell_type": "markdown",
   "metadata": {
    "id": "SQ6i4NUjWsaK"
   },
   "source": [
    "**Observation:**\n",
    "\n",
    "- The highest **accuracy** achieved on the **test set** is **69%** which is given by **AdaBoostClassifier**.\n",
    "\n",
    "- The next best model in the line is **BaggingClassifier** which gave us an **accuracy** of **68%**.\n",
    "\n",
    "- We see that each **ensemble** classifier is **better** compared to the **individual** classifier. "
   ]
  },
  {
   "cell_type": "markdown",
   "metadata": {
    "id": "eFeM_k6gUFXJ"
   },
   "source": [
    "<a name = Section9></a>\n",
    "\n",
    "---\n",
    "# **9. Conclusion**\n",
    "---\n",
    "\n",
    "- We **studied** the **characteristics** and **distribution** of data in brief.\n",
    "\n",
    "- We **explored** some **questions** related to **pricing** concerning the **characteristics** of **houses**.\n",
    "\n",
    "- We investigated in-depth the **features** which to **retain** and which to **discard**.\n",
    "\n",
    "- We performed **model** **development** with a variety of algorithms.\n",
    "\n",
    "- We observed **better results** with **ensemble methods** as compared to the **standalone** algorithms.\n",
    "\n",
    "- We observed that the **AdaBoost** algorithm **outperformed** all **other models** and can be used to predict the price category.\n",
    "\n",
    "- Additionally, this model will **help** the **company** **saving a lot of resources** (money, human resources, etc.).\n",
    "\n",
    "<br/>\n",
    "\n",
    "## **Next:** Part - II Stacked Generalization."
   ]
  }
 ],
 "metadata": {
  "colab": {
   "authorship_tag": "ABX9TyNB2Da/0K8s+4QQ91b8n993",
   "collapsed_sections": [],
   "name": "Ensemble Learning - Part I.ipynb",
   "provenance": []
  },
  "kernelspec": {
   "display_name": "Python 3",
   "language": "python",
   "name": "python3"
  },
  "language_info": {
   "codemirror_mode": {
    "name": "ipython",
    "version": 3
   },
   "file_extension": ".py",
   "mimetype": "text/x-python",
   "name": "python",
   "nbconvert_exporter": "python",
   "pygments_lexer": "ipython3",
   "version": "3.8.8"
  }
 },
 "nbformat": 4,
 "nbformat_minor": 1
}
